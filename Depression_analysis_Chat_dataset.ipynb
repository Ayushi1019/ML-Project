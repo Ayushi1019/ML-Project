{
  "nbformat": 4,
  "nbformat_minor": 0,
  "metadata": {
    "colab": {
      "provenance": [],
      "collapsed_sections": [
        "HvA1JVmHS1ka",
        "c42aC3apS7uF",
        "gKQ9mCL0Tyk1",
        "iZDFpg9sX4HA",
        "kWUG2Ai9YjkJ",
        "2LJooPM6YzZe"
      ],
      "toc_visible": true
    },
    "kernelspec": {
      "name": "python3",
      "display_name": "Python 3"
    },
    "language_info": {
      "name": "python"
    }
  },
  "cells": [
    {
      "cell_type": "code",
      "execution_count": 1,
      "metadata": {
        "colab": {
          "base_uri": "https://localhost:8080/",
          "height": 35
        },
        "id": "t2WKhmc3ltjm",
        "outputId": "e3e2cc13-45c3-4b1b-97b2-59bd6c61caf0"
      },
      "outputs": [
        {
          "output_type": "execute_result",
          "data": {
            "text/plain": [
              "'/content/gDrive/MyDrive'"
            ],
            "application/vnd.google.colaboratory.intrinsic+json": {
              "type": "string"
            }
          },
          "metadata": {},
          "execution_count": 1
        }
      ],
      "source": [
        "\"/content/gDrive/MyDrive\""
      ]
    },
    {
      "cell_type": "code",
      "source": [
        "!pip install texthero -U\n",
        "!pip install gensim\n",
        "!pip install pyLDAvis==2.1.2\n",
        "!pip install -U spacy\n",
        "!pip install -U scikit-learn"
      ],
      "metadata": {
        "colab": {
          "base_uri": "https://localhost:8080/"
        },
        "id": "WUUjs-70l-rJ",
        "outputId": "ef6afb5c-a481-4f83-807f-d5381bcc72fc"
      },
      "execution_count": 2,
      "outputs": [
        {
          "output_type": "stream",
          "name": "stdout",
          "text": [
            "Looking in indexes: https://pypi.org/simple, https://us-python.pkg.dev/colab-wheels/public/simple/\n",
            "Collecting texthero\n",
            "  Downloading texthero-1.1.0-py3-none-any.whl (24 kB)\n",
            "Requirement already satisfied: scikit-learn>=0.22 in /usr/local/lib/python3.7/dist-packages (from texthero) (1.0.2)\n",
            "Collecting unidecode>=1.1.1\n",
            "  Downloading Unidecode-1.3.6-py3-none-any.whl (235 kB)\n",
            "\u001b[K     |████████████████████████████████| 235 kB 5.1 MB/s \n",
            "\u001b[?25hRequirement already satisfied: nltk>=3.3 in /usr/local/lib/python3.7/dist-packages (from texthero) (3.7)\n",
            "Requirement already satisfied: tqdm>=4.3 in /usr/local/lib/python3.7/dist-packages (from texthero) (4.64.1)\n",
            "Requirement already satisfied: wordcloud>=1.5.0 in /usr/local/lib/python3.7/dist-packages (from texthero) (1.8.2.2)\n",
            "Requirement already satisfied: plotly>=4.2.0 in /usr/local/lib/python3.7/dist-packages (from texthero) (5.5.0)\n",
            "Collecting spacy<3.0.0\n",
            "  Downloading spacy-2.3.7-cp37-cp37m-manylinux_2_17_x86_64.manylinux2014_x86_64.whl (10.4 MB)\n",
            "\u001b[K     |████████████████████████████████| 10.4 MB 25.2 MB/s \n",
            "\u001b[?25hRequirement already satisfied: numpy>=1.17 in /usr/local/lib/python3.7/dist-packages (from texthero) (1.21.6)\n",
            "Requirement already satisfied: pandas>=1.0.2 in /usr/local/lib/python3.7/dist-packages (from texthero) (1.3.5)\n",
            "Requirement already satisfied: gensim<4.0,>=3.6.0 in /usr/local/lib/python3.7/dist-packages (from texthero) (3.6.0)\n",
            "Requirement already satisfied: matplotlib>=3.1.0 in /usr/local/lib/python3.7/dist-packages (from texthero) (3.2.2)\n",
            "Requirement already satisfied: smart-open>=1.2.1 in /usr/local/lib/python3.7/dist-packages (from gensim<4.0,>=3.6.0->texthero) (5.2.1)\n",
            "Requirement already satisfied: six>=1.5.0 in /usr/local/lib/python3.7/dist-packages (from gensim<4.0,>=3.6.0->texthero) (1.15.0)\n",
            "Requirement already satisfied: scipy>=0.18.1 in /usr/local/lib/python3.7/dist-packages (from gensim<4.0,>=3.6.0->texthero) (1.7.3)\n",
            "Requirement already satisfied: pyparsing!=2.0.4,!=2.1.2,!=2.1.6,>=2.0.1 in /usr/local/lib/python3.7/dist-packages (from matplotlib>=3.1.0->texthero) (3.0.9)\n",
            "Requirement already satisfied: kiwisolver>=1.0.1 in /usr/local/lib/python3.7/dist-packages (from matplotlib>=3.1.0->texthero) (1.4.4)\n",
            "Requirement already satisfied: cycler>=0.10 in /usr/local/lib/python3.7/dist-packages (from matplotlib>=3.1.0->texthero) (0.11.0)\n",
            "Requirement already satisfied: python-dateutil>=2.1 in /usr/local/lib/python3.7/dist-packages (from matplotlib>=3.1.0->texthero) (2.8.2)\n",
            "Requirement already satisfied: typing-extensions in /usr/local/lib/python3.7/dist-packages (from kiwisolver>=1.0.1->matplotlib>=3.1.0->texthero) (4.1.1)\n",
            "Requirement already satisfied: regex>=2021.8.3 in /usr/local/lib/python3.7/dist-packages (from nltk>=3.3->texthero) (2022.6.2)\n",
            "Requirement already satisfied: click in /usr/local/lib/python3.7/dist-packages (from nltk>=3.3->texthero) (7.1.2)\n",
            "Requirement already satisfied: joblib in /usr/local/lib/python3.7/dist-packages (from nltk>=3.3->texthero) (1.1.0)\n",
            "Requirement already satisfied: pytz>=2017.3 in /usr/local/lib/python3.7/dist-packages (from pandas>=1.0.2->texthero) (2022.2.1)\n",
            "Requirement already satisfied: tenacity>=6.2.0 in /usr/local/lib/python3.7/dist-packages (from plotly>=4.2.0->texthero) (8.0.1)\n",
            "Requirement already satisfied: threadpoolctl>=2.0.0 in /usr/local/lib/python3.7/dist-packages (from scikit-learn>=0.22->texthero) (3.1.0)\n",
            "Collecting catalogue<1.1.0,>=0.0.7\n",
            "  Downloading catalogue-1.0.0-py2.py3-none-any.whl (7.7 kB)\n",
            "Collecting srsly<1.1.0,>=1.0.2\n",
            "  Downloading srsly-1.0.5-cp37-cp37m-manylinux2014_x86_64.whl (184 kB)\n",
            "\u001b[K     |████████████████████████████████| 184 kB 45.2 MB/s \n",
            "\u001b[?25hRequirement already satisfied: wasabi<1.1.0,>=0.4.0 in /usr/local/lib/python3.7/dist-packages (from spacy<3.0.0->texthero) (0.10.1)\n",
            "Requirement already satisfied: murmurhash<1.1.0,>=0.28.0 in /usr/local/lib/python3.7/dist-packages (from spacy<3.0.0->texthero) (1.0.8)\n",
            "Collecting thinc<7.5.0,>=7.4.1\n",
            "  Downloading thinc-7.4.5-cp37-cp37m-manylinux2014_x86_64.whl (1.0 MB)\n",
            "\u001b[K     |████████████████████████████████| 1.0 MB 9.3 MB/s \n",
            "\u001b[?25hRequirement already satisfied: blis<0.8.0,>=0.4.0 in /usr/local/lib/python3.7/dist-packages (from spacy<3.0.0->texthero) (0.7.8)\n",
            "Collecting plac<1.2.0,>=0.9.6\n",
            "  Downloading plac-1.1.3-py2.py3-none-any.whl (20 kB)\n",
            "Requirement already satisfied: cymem<2.1.0,>=2.0.2 in /usr/local/lib/python3.7/dist-packages (from spacy<3.0.0->texthero) (2.0.6)\n",
            "Requirement already satisfied: preshed<3.1.0,>=3.0.2 in /usr/local/lib/python3.7/dist-packages (from spacy<3.0.0->texthero) (3.0.7)\n",
            "Requirement already satisfied: requests<3.0.0,>=2.13.0 in /usr/local/lib/python3.7/dist-packages (from spacy<3.0.0->texthero) (2.23.0)\n",
            "Requirement already satisfied: setuptools in /usr/local/lib/python3.7/dist-packages (from spacy<3.0.0->texthero) (57.4.0)\n",
            "Requirement already satisfied: importlib-metadata>=0.20 in /usr/local/lib/python3.7/dist-packages (from catalogue<1.1.0,>=0.0.7->spacy<3.0.0->texthero) (4.12.0)\n",
            "Requirement already satisfied: zipp>=0.5 in /usr/local/lib/python3.7/dist-packages (from importlib-metadata>=0.20->catalogue<1.1.0,>=0.0.7->spacy<3.0.0->texthero) (3.8.1)\n",
            "Requirement already satisfied: chardet<4,>=3.0.2 in /usr/local/lib/python3.7/dist-packages (from requests<3.0.0,>=2.13.0->spacy<3.0.0->texthero) (3.0.4)\n",
            "Requirement already satisfied: urllib3!=1.25.0,!=1.25.1,<1.26,>=1.21.1 in /usr/local/lib/python3.7/dist-packages (from requests<3.0.0,>=2.13.0->spacy<3.0.0->texthero) (1.24.3)\n",
            "Requirement already satisfied: idna<3,>=2.5 in /usr/local/lib/python3.7/dist-packages (from requests<3.0.0,>=2.13.0->spacy<3.0.0->texthero) (2.10)\n",
            "Requirement already satisfied: certifi>=2017.4.17 in /usr/local/lib/python3.7/dist-packages (from requests<3.0.0,>=2.13.0->spacy<3.0.0->texthero) (2022.6.15)\n",
            "Requirement already satisfied: pillow in /usr/local/lib/python3.7/dist-packages (from wordcloud>=1.5.0->texthero) (7.1.2)\n",
            "Installing collected packages: srsly, plac, catalogue, thinc, unidecode, spacy, texthero\n",
            "  Attempting uninstall: srsly\n",
            "    Found existing installation: srsly 2.4.4\n",
            "    Uninstalling srsly-2.4.4:\n",
            "      Successfully uninstalled srsly-2.4.4\n",
            "  Attempting uninstall: catalogue\n",
            "    Found existing installation: catalogue 2.0.8\n",
            "    Uninstalling catalogue-2.0.8:\n",
            "      Successfully uninstalled catalogue-2.0.8\n",
            "  Attempting uninstall: thinc\n",
            "    Found existing installation: thinc 8.1.0\n",
            "    Uninstalling thinc-8.1.0:\n",
            "      Successfully uninstalled thinc-8.1.0\n",
            "  Attempting uninstall: spacy\n",
            "    Found existing installation: spacy 3.4.1\n",
            "    Uninstalling spacy-3.4.1:\n",
            "      Successfully uninstalled spacy-3.4.1\n",
            "\u001b[31mERROR: pip's dependency resolver does not currently take into account all the packages that are installed. This behaviour is the source of the following dependency conflicts.\n",
            "en-core-web-sm 3.4.0 requires spacy<3.5.0,>=3.4.0, but you have spacy 2.3.7 which is incompatible.\u001b[0m\n",
            "Successfully installed catalogue-1.0.0 plac-1.1.3 spacy-2.3.7 srsly-1.0.5 texthero-1.1.0 thinc-7.4.5 unidecode-1.3.6\n",
            "Looking in indexes: https://pypi.org/simple, https://us-python.pkg.dev/colab-wheels/public/simple/\n",
            "Requirement already satisfied: gensim in /usr/local/lib/python3.7/dist-packages (3.6.0)\n",
            "Requirement already satisfied: six>=1.5.0 in /usr/local/lib/python3.7/dist-packages (from gensim) (1.15.0)\n",
            "Requirement already satisfied: scipy>=0.18.1 in /usr/local/lib/python3.7/dist-packages (from gensim) (1.7.3)\n",
            "Requirement already satisfied: smart-open>=1.2.1 in /usr/local/lib/python3.7/dist-packages (from gensim) (5.2.1)\n",
            "Requirement already satisfied: numpy>=1.11.3 in /usr/local/lib/python3.7/dist-packages (from gensim) (1.21.6)\n",
            "Looking in indexes: https://pypi.org/simple, https://us-python.pkg.dev/colab-wheels/public/simple/\n",
            "Collecting pyLDAvis==2.1.2\n",
            "  Downloading pyLDAvis-2.1.2.tar.gz (1.6 MB)\n",
            "\u001b[K     |████████████████████████████████| 1.6 MB 5.3 MB/s \n",
            "\u001b[?25hRequirement already satisfied: wheel>=0.23.0 in /usr/local/lib/python3.7/dist-packages (from pyLDAvis==2.1.2) (0.37.1)\n",
            "Requirement already satisfied: numpy>=1.9.2 in /usr/local/lib/python3.7/dist-packages (from pyLDAvis==2.1.2) (1.21.6)\n",
            "Requirement already satisfied: scipy>=0.18.0 in /usr/local/lib/python3.7/dist-packages (from pyLDAvis==2.1.2) (1.7.3)\n",
            "Requirement already satisfied: pandas>=0.17.0 in /usr/local/lib/python3.7/dist-packages (from pyLDAvis==2.1.2) (1.3.5)\n",
            "Requirement already satisfied: joblib>=0.8.4 in /usr/local/lib/python3.7/dist-packages (from pyLDAvis==2.1.2) (1.1.0)\n",
            "Requirement already satisfied: jinja2>=2.7.2 in /usr/local/lib/python3.7/dist-packages (from pyLDAvis==2.1.2) (2.11.3)\n",
            "Requirement already satisfied: numexpr in /usr/local/lib/python3.7/dist-packages (from pyLDAvis==2.1.2) (2.8.3)\n",
            "Requirement already satisfied: pytest in /usr/local/lib/python3.7/dist-packages (from pyLDAvis==2.1.2) (3.6.4)\n",
            "Requirement already satisfied: future in /usr/local/lib/python3.7/dist-packages (from pyLDAvis==2.1.2) (0.16.0)\n",
            "Collecting funcy\n",
            "  Downloading funcy-1.17-py2.py3-none-any.whl (33 kB)\n",
            "Requirement already satisfied: MarkupSafe>=0.23 in /usr/local/lib/python3.7/dist-packages (from jinja2>=2.7.2->pyLDAvis==2.1.2) (2.0.1)\n",
            "Requirement already satisfied: python-dateutil>=2.7.3 in /usr/local/lib/python3.7/dist-packages (from pandas>=0.17.0->pyLDAvis==2.1.2) (2.8.2)\n",
            "Requirement already satisfied: pytz>=2017.3 in /usr/local/lib/python3.7/dist-packages (from pandas>=0.17.0->pyLDAvis==2.1.2) (2022.2.1)\n",
            "Requirement already satisfied: six>=1.5 in /usr/local/lib/python3.7/dist-packages (from python-dateutil>=2.7.3->pandas>=0.17.0->pyLDAvis==2.1.2) (1.15.0)\n",
            "Requirement already satisfied: packaging in /usr/local/lib/python3.7/dist-packages (from numexpr->pyLDAvis==2.1.2) (21.3)\n",
            "Requirement already satisfied: pyparsing!=3.0.5,>=2.0.2 in /usr/local/lib/python3.7/dist-packages (from packaging->numexpr->pyLDAvis==2.1.2) (3.0.9)\n",
            "Requirement already satisfied: pluggy<0.8,>=0.5 in /usr/local/lib/python3.7/dist-packages (from pytest->pyLDAvis==2.1.2) (0.7.1)\n",
            "Requirement already satisfied: atomicwrites>=1.0 in /usr/local/lib/python3.7/dist-packages (from pytest->pyLDAvis==2.1.2) (1.4.1)\n",
            "Requirement already satisfied: more-itertools>=4.0.0 in /usr/local/lib/python3.7/dist-packages (from pytest->pyLDAvis==2.1.2) (8.14.0)\n",
            "Requirement already satisfied: py>=1.5.0 in /usr/local/lib/python3.7/dist-packages (from pytest->pyLDAvis==2.1.2) (1.11.0)\n",
            "Requirement already satisfied: setuptools in /usr/local/lib/python3.7/dist-packages (from pytest->pyLDAvis==2.1.2) (57.4.0)\n",
            "Requirement already satisfied: attrs>=17.4.0 in /usr/local/lib/python3.7/dist-packages (from pytest->pyLDAvis==2.1.2) (22.1.0)\n",
            "Building wheels for collected packages: pyLDAvis\n",
            "  Building wheel for pyLDAvis (setup.py) ... \u001b[?25l\u001b[?25hdone\n",
            "  Created wheel for pyLDAvis: filename=pyLDAvis-2.1.2-py2.py3-none-any.whl size=97738 sha256=6368aaa78e10b3dd89be1978c68ac19b26476918bc089fbf69355e26af7ad1bf\n",
            "  Stored in directory: /root/.cache/pip/wheels/3b/fb/41/e32e5312da9f440d34c4eff0d2207b46dc9332a7b931ef1e89\n",
            "Successfully built pyLDAvis\n",
            "Installing collected packages: funcy, pyLDAvis\n",
            "Successfully installed funcy-1.17 pyLDAvis-2.1.2\n",
            "Looking in indexes: https://pypi.org/simple, https://us-python.pkg.dev/colab-wheels/public/simple/\n",
            "Requirement already satisfied: spacy in /usr/local/lib/python3.7/dist-packages (2.3.7)\n",
            "Collecting spacy\n",
            "  Downloading spacy-3.4.1-cp37-cp37m-manylinux_2_17_x86_64.manylinux2014_x86_64.whl (6.3 MB)\n",
            "\u001b[K     |████████████████████████████████| 6.3 MB 5.2 MB/s \n",
            "\u001b[?25hRequirement already satisfied: numpy>=1.15.0 in /usr/local/lib/python3.7/dist-packages (from spacy) (1.21.6)\n",
            "Requirement already satisfied: preshed<3.1.0,>=3.0.2 in /usr/local/lib/python3.7/dist-packages (from spacy) (3.0.7)\n",
            "Requirement already satisfied: murmurhash<1.1.0,>=0.28.0 in /usr/local/lib/python3.7/dist-packages (from spacy) (1.0.8)\n",
            "Collecting thinc<8.2.0,>=8.1.0\n",
            "  Downloading thinc-8.1.2-cp37-cp37m-manylinux_2_17_x86_64.manylinux2014_x86_64.whl (804 kB)\n",
            "\u001b[K     |████████████████████████████████| 804 kB 60.3 MB/s \n",
            "\u001b[?25hRequirement already satisfied: pathy>=0.3.5 in /usr/local/lib/python3.7/dist-packages (from spacy) (0.6.2)\n",
            "Requirement already satisfied: requests<3.0.0,>=2.13.0 in /usr/local/lib/python3.7/dist-packages (from spacy) (2.23.0)\n",
            "Requirement already satisfied: typer<0.5.0,>=0.3.0 in /usr/local/lib/python3.7/dist-packages (from spacy) (0.4.2)\n",
            "Requirement already satisfied: spacy-loggers<2.0.0,>=1.0.0 in /usr/local/lib/python3.7/dist-packages (from spacy) (1.0.3)\n",
            "Requirement already satisfied: langcodes<4.0.0,>=3.2.0 in /usr/local/lib/python3.7/dist-packages (from spacy) (3.3.0)\n",
            "Requirement already satisfied: wasabi<1.1.0,>=0.9.1 in /usr/local/lib/python3.7/dist-packages (from spacy) (0.10.1)\n",
            "Requirement already satisfied: cymem<2.1.0,>=2.0.2 in /usr/local/lib/python3.7/dist-packages (from spacy) (2.0.6)\n",
            "Requirement already satisfied: typing-extensions<4.2.0,>=3.7.4 in /usr/local/lib/python3.7/dist-packages (from spacy) (4.1.1)\n",
            "Collecting srsly<3.0.0,>=2.4.3\n",
            "  Downloading srsly-2.4.4-cp37-cp37m-manylinux_2_17_x86_64.manylinux2014_x86_64.whl (458 kB)\n",
            "\u001b[K     |████████████████████████████████| 458 kB 56.7 MB/s \n",
            "\u001b[?25hRequirement already satisfied: packaging>=20.0 in /usr/local/lib/python3.7/dist-packages (from spacy) (21.3)\n",
            "Requirement already satisfied: jinja2 in /usr/local/lib/python3.7/dist-packages (from spacy) (2.11.3)\n",
            "Requirement already satisfied: pydantic!=1.8,!=1.8.1,<1.10.0,>=1.7.4 in /usr/local/lib/python3.7/dist-packages (from spacy) (1.9.2)\n",
            "Collecting catalogue<2.1.0,>=2.0.6\n",
            "  Downloading catalogue-2.0.8-py3-none-any.whl (17 kB)\n",
            "Requirement already satisfied: spacy-legacy<3.1.0,>=3.0.9 in /usr/local/lib/python3.7/dist-packages (from spacy) (3.0.10)\n",
            "Requirement already satisfied: setuptools in /usr/local/lib/python3.7/dist-packages (from spacy) (57.4.0)\n",
            "Requirement already satisfied: tqdm<5.0.0,>=4.38.0 in /usr/local/lib/python3.7/dist-packages (from spacy) (4.64.1)\n",
            "Requirement already satisfied: zipp>=0.5 in /usr/local/lib/python3.7/dist-packages (from catalogue<2.1.0,>=2.0.6->spacy) (3.8.1)\n",
            "Requirement already satisfied: pyparsing!=3.0.5,>=2.0.2 in /usr/local/lib/python3.7/dist-packages (from packaging>=20.0->spacy) (3.0.9)\n",
            "Requirement already satisfied: smart-open<6.0.0,>=5.2.1 in /usr/local/lib/python3.7/dist-packages (from pathy>=0.3.5->spacy) (5.2.1)\n",
            "Requirement already satisfied: idna<3,>=2.5 in /usr/local/lib/python3.7/dist-packages (from requests<3.0.0,>=2.13.0->spacy) (2.10)\n",
            "Requirement already satisfied: urllib3!=1.25.0,!=1.25.1,<1.26,>=1.21.1 in /usr/local/lib/python3.7/dist-packages (from requests<3.0.0,>=2.13.0->spacy) (1.24.3)\n",
            "Requirement already satisfied: certifi>=2017.4.17 in /usr/local/lib/python3.7/dist-packages (from requests<3.0.0,>=2.13.0->spacy) (2022.6.15)\n",
            "Requirement already satisfied: chardet<4,>=3.0.2 in /usr/local/lib/python3.7/dist-packages (from requests<3.0.0,>=2.13.0->spacy) (3.0.4)\n",
            "Requirement already satisfied: blis<0.8.0,>=0.7.8 in /usr/local/lib/python3.7/dist-packages (from thinc<8.2.0,>=8.1.0->spacy) (0.7.8)\n",
            "Collecting confection<1.0.0,>=0.0.1\n",
            "  Downloading confection-0.0.2-py3-none-any.whl (32 kB)\n",
            "Requirement already satisfied: click<9.0.0,>=7.1.1 in /usr/local/lib/python3.7/dist-packages (from typer<0.5.0,>=0.3.0->spacy) (7.1.2)\n",
            "Requirement already satisfied: MarkupSafe>=0.23 in /usr/local/lib/python3.7/dist-packages (from jinja2->spacy) (2.0.1)\n",
            "Installing collected packages: catalogue, srsly, confection, thinc, spacy\n",
            "  Attempting uninstall: catalogue\n",
            "    Found existing installation: catalogue 1.0.0\n",
            "    Uninstalling catalogue-1.0.0:\n",
            "      Successfully uninstalled catalogue-1.0.0\n",
            "  Attempting uninstall: srsly\n",
            "    Found existing installation: srsly 1.0.5\n",
            "    Uninstalling srsly-1.0.5:\n",
            "      Successfully uninstalled srsly-1.0.5\n",
            "  Attempting uninstall: thinc\n",
            "    Found existing installation: thinc 7.4.5\n",
            "    Uninstalling thinc-7.4.5:\n",
            "      Successfully uninstalled thinc-7.4.5\n",
            "  Attempting uninstall: spacy\n",
            "    Found existing installation: spacy 2.3.7\n",
            "    Uninstalling spacy-2.3.7:\n",
            "      Successfully uninstalled spacy-2.3.7\n",
            "\u001b[31mERROR: pip's dependency resolver does not currently take into account all the packages that are installed. This behaviour is the source of the following dependency conflicts.\n",
            "texthero 1.1.0 requires spacy<3.0.0, but you have spacy 3.4.1 which is incompatible.\u001b[0m\n",
            "Successfully installed catalogue-2.0.8 confection-0.0.2 spacy-3.4.1 srsly-2.4.4 thinc-8.1.2\n",
            "Looking in indexes: https://pypi.org/simple, https://us-python.pkg.dev/colab-wheels/public/simple/\n",
            "Requirement already satisfied: scikit-learn in /usr/local/lib/python3.7/dist-packages (1.0.2)\n",
            "Requirement already satisfied: threadpoolctl>=2.0.0 in /usr/local/lib/python3.7/dist-packages (from scikit-learn) (3.1.0)\n",
            "Requirement already satisfied: numpy>=1.14.6 in /usr/local/lib/python3.7/dist-packages (from scikit-learn) (1.21.6)\n",
            "Requirement already satisfied: joblib>=0.11 in /usr/local/lib/python3.7/dist-packages (from scikit-learn) (1.1.0)\n",
            "Requirement already satisfied: scipy>=1.1.0 in /usr/local/lib/python3.7/dist-packages (from scikit-learn) (1.7.3)\n"
          ]
        }
      ]
    },
    {
      "cell_type": "code",
      "source": [
        "# data manipulation\n",
        "import pandas as pd\n",
        "import numpy as np\n",
        "import io \n",
        "\n",
        "import re\n",
        "import nltk\n",
        "from nltk.tokenize import TweetTokenizer\n",
        "import string\n",
        "import spacy\n",
        "\n",
        "import matplotlib.pyplot as plt\n",
        "import seaborn as sns\n",
        "from matplotlib import rcParams\n",
        "import matplotlib.colors as mcolors\n",
        "\n",
        "#modelling\n",
        "\n",
        "from sklearn.ensemble import RandomForestClassifier\n",
        "from sklearn.model_selection import GridSearchCV\n",
        "from collections import Counter\n",
        "import imblearn\n",
        "from imblearn.over_sampling import SMOTE\n",
        "from sklearn.model_selection import train_test_split\n",
        "from imblearn.pipeline import Pipeline\n",
        "from imblearn.under_sampling import RandomUnderSampler\n",
        "from imblearn.over_sampling import RandomOverSampler\n"
      ],
      "metadata": {
        "id": "2V-fcDlKmEbK"
      },
      "execution_count": 3,
      "outputs": []
    },
    {
      "cell_type": "code",
      "source": [
        "df=pd.read_csv('dataset.csv')"
      ],
      "metadata": {
        "id": "LAVye3j_mLCG"
      },
      "execution_count": 5,
      "outputs": []
    },
    {
      "cell_type": "code",
      "source": [
        "df.head()"
      ],
      "metadata": {
        "colab": {
          "base_uri": "https://localhost:8080/",
          "height": 563
        },
        "id": "AV2hY4LXmWDr",
        "outputId": "1908bb9c-0883-4320-c971-02cd17d6d674"
      },
      "execution_count": 6,
      "outputs": [
        {
          "output_type": "execute_result",
          "data": {
            "text/plain": [
              "   ID      AuthorID             Author         Date  \\\n",
              "0   1  4.560000e+17  Deleted User#0000  43630.77639   \n",
              "1   2  4.560000e+17  Deleted User#0000  43630.78611   \n",
              "2   3  4.680000e+17        angel?#5373  43630.84306   \n",
              "3   4  5.450000e+17         Sease#2410  43630.84514   \n",
              "4   5  3.030000e+17     Emma/Blue#2035  43630.85347   \n",
              "\n",
              "                                             Content Words  \\\n",
              "0  **List of International Suicide Hotlines**\\n``...    72   \n",
              "1  Hello, if you're depressed, being self-depreca...    56   \n",
              "2  Please note that we are not professionals.  Th...    61   \n",
              "3  yeah and people who just want attention don't ...    36   \n",
              "4  Just a small vent my arm hurts so much i know ...    41   \n",
              "\n",
              "  Change in appetite, losing or gaining weight  \\\n",
              "0                                            N   \n",
              "1                                            N   \n",
              "2                                            N   \n",
              "3                                            N   \n",
              "4                                            N   \n",
              "\n",
              "  Sleeping too much or not sleeping well (insomnia)  \\\n",
              "0                                                 N   \n",
              "1                                                 N   \n",
              "2                                                 N   \n",
              "3                                                 N   \n",
              "4                                                 N   \n",
              "\n",
              "  Fatigue and low energy most days Feeling worthless, guilty, and hopeless  \\\n",
              "0                                N                                       N   \n",
              "1                                N                                       Y   \n",
              "2                                N                                       N   \n",
              "3                                N                                       N   \n",
              "4                                N                                       Y   \n",
              "\n",
              "  An inability to focus and concentrate that may interfere with daily tasks at home, work, or school  \\\n",
              "0                                                  N                                                   \n",
              "1                                                  N                                                   \n",
              "2                                                  N                                                   \n",
              "3                                                  N                                                   \n",
              "4                                                  Y                                                   \n",
              "\n",
              "  Movements that are unusually slow or agitated (a change which is often noticeable to others)  \\\n",
              "0                                                  N                                             \n",
              "1                                                  N                                             \n",
              "2                                                  N                                             \n",
              "3                                                  N                                             \n",
              "4                                                  Y                                             \n",
              "\n",
              "  Thinking about death and dying; suicidal ideation or suicide attempts None  \n",
              "0                                                  N                       Y  \n",
              "1                                                  Y                       N  \n",
              "2                                                  N                       Y  \n",
              "3                                                  N                       Y  \n",
              "4                                                  N                       N  "
            ],
            "text/html": [
              "\n",
              "  <div id=\"df-1dcadbb0-a384-463d-8228-6f0fa3047dd3\">\n",
              "    <div class=\"colab-df-container\">\n",
              "      <div>\n",
              "<style scoped>\n",
              "    .dataframe tbody tr th:only-of-type {\n",
              "        vertical-align: middle;\n",
              "    }\n",
              "\n",
              "    .dataframe tbody tr th {\n",
              "        vertical-align: top;\n",
              "    }\n",
              "\n",
              "    .dataframe thead th {\n",
              "        text-align: right;\n",
              "    }\n",
              "</style>\n",
              "<table border=\"1\" class=\"dataframe\">\n",
              "  <thead>\n",
              "    <tr style=\"text-align: right;\">\n",
              "      <th></th>\n",
              "      <th>ID</th>\n",
              "      <th>AuthorID</th>\n",
              "      <th>Author</th>\n",
              "      <th>Date</th>\n",
              "      <th>Content</th>\n",
              "      <th>Words</th>\n",
              "      <th>Change in appetite, losing or gaining weight</th>\n",
              "      <th>Sleeping too much or not sleeping well (insomnia)</th>\n",
              "      <th>Fatigue and low energy most days</th>\n",
              "      <th>Feeling worthless, guilty, and hopeless</th>\n",
              "      <th>An inability to focus and concentrate that may interfere with daily tasks at home, work, or school</th>\n",
              "      <th>Movements that are unusually slow or agitated (a change which is often noticeable to others)</th>\n",
              "      <th>Thinking about death and dying; suicidal ideation or suicide attempts</th>\n",
              "      <th>None</th>\n",
              "    </tr>\n",
              "  </thead>\n",
              "  <tbody>\n",
              "    <tr>\n",
              "      <th>0</th>\n",
              "      <td>1</td>\n",
              "      <td>4.560000e+17</td>\n",
              "      <td>Deleted User#0000</td>\n",
              "      <td>43630.77639</td>\n",
              "      <td>**List of International Suicide Hotlines**\\n``...</td>\n",
              "      <td>72</td>\n",
              "      <td>N</td>\n",
              "      <td>N</td>\n",
              "      <td>N</td>\n",
              "      <td>N</td>\n",
              "      <td>N</td>\n",
              "      <td>N</td>\n",
              "      <td>N</td>\n",
              "      <td>Y</td>\n",
              "    </tr>\n",
              "    <tr>\n",
              "      <th>1</th>\n",
              "      <td>2</td>\n",
              "      <td>4.560000e+17</td>\n",
              "      <td>Deleted User#0000</td>\n",
              "      <td>43630.78611</td>\n",
              "      <td>Hello, if you're depressed, being self-depreca...</td>\n",
              "      <td>56</td>\n",
              "      <td>N</td>\n",
              "      <td>N</td>\n",
              "      <td>N</td>\n",
              "      <td>Y</td>\n",
              "      <td>N</td>\n",
              "      <td>N</td>\n",
              "      <td>Y</td>\n",
              "      <td>N</td>\n",
              "    </tr>\n",
              "    <tr>\n",
              "      <th>2</th>\n",
              "      <td>3</td>\n",
              "      <td>4.680000e+17</td>\n",
              "      <td>angel?#5373</td>\n",
              "      <td>43630.84306</td>\n",
              "      <td>Please note that we are not professionals.  Th...</td>\n",
              "      <td>61</td>\n",
              "      <td>N</td>\n",
              "      <td>N</td>\n",
              "      <td>N</td>\n",
              "      <td>N</td>\n",
              "      <td>N</td>\n",
              "      <td>N</td>\n",
              "      <td>N</td>\n",
              "      <td>Y</td>\n",
              "    </tr>\n",
              "    <tr>\n",
              "      <th>3</th>\n",
              "      <td>4</td>\n",
              "      <td>5.450000e+17</td>\n",
              "      <td>Sease#2410</td>\n",
              "      <td>43630.84514</td>\n",
              "      <td>yeah and people who just want attention don't ...</td>\n",
              "      <td>36</td>\n",
              "      <td>N</td>\n",
              "      <td>N</td>\n",
              "      <td>N</td>\n",
              "      <td>N</td>\n",
              "      <td>N</td>\n",
              "      <td>N</td>\n",
              "      <td>N</td>\n",
              "      <td>Y</td>\n",
              "    </tr>\n",
              "    <tr>\n",
              "      <th>4</th>\n",
              "      <td>5</td>\n",
              "      <td>3.030000e+17</td>\n",
              "      <td>Emma/Blue#2035</td>\n",
              "      <td>43630.85347</td>\n",
              "      <td>Just a small vent my arm hurts so much i know ...</td>\n",
              "      <td>41</td>\n",
              "      <td>N</td>\n",
              "      <td>N</td>\n",
              "      <td>N</td>\n",
              "      <td>Y</td>\n",
              "      <td>Y</td>\n",
              "      <td>Y</td>\n",
              "      <td>N</td>\n",
              "      <td>N</td>\n",
              "    </tr>\n",
              "  </tbody>\n",
              "</table>\n",
              "</div>\n",
              "      <button class=\"colab-df-convert\" onclick=\"convertToInteractive('df-1dcadbb0-a384-463d-8228-6f0fa3047dd3')\"\n",
              "              title=\"Convert this dataframe to an interactive table.\"\n",
              "              style=\"display:none;\">\n",
              "        \n",
              "  <svg xmlns=\"http://www.w3.org/2000/svg\" height=\"24px\"viewBox=\"0 0 24 24\"\n",
              "       width=\"24px\">\n",
              "    <path d=\"M0 0h24v24H0V0z\" fill=\"none\"/>\n",
              "    <path d=\"M18.56 5.44l.94 2.06.94-2.06 2.06-.94-2.06-.94-.94-2.06-.94 2.06-2.06.94zm-11 1L8.5 8.5l.94-2.06 2.06-.94-2.06-.94L8.5 2.5l-.94 2.06-2.06.94zm10 10l.94 2.06.94-2.06 2.06-.94-2.06-.94-.94-2.06-.94 2.06-2.06.94z\"/><path d=\"M17.41 7.96l-1.37-1.37c-.4-.4-.92-.59-1.43-.59-.52 0-1.04.2-1.43.59L10.3 9.45l-7.72 7.72c-.78.78-.78 2.05 0 2.83L4 21.41c.39.39.9.59 1.41.59.51 0 1.02-.2 1.41-.59l7.78-7.78 2.81-2.81c.8-.78.8-2.07 0-2.86zM5.41 20L4 18.59l7.72-7.72 1.47 1.35L5.41 20z\"/>\n",
              "  </svg>\n",
              "      </button>\n",
              "      \n",
              "  <style>\n",
              "    .colab-df-container {\n",
              "      display:flex;\n",
              "      flex-wrap:wrap;\n",
              "      gap: 12px;\n",
              "    }\n",
              "\n",
              "    .colab-df-convert {\n",
              "      background-color: #E8F0FE;\n",
              "      border: none;\n",
              "      border-radius: 50%;\n",
              "      cursor: pointer;\n",
              "      display: none;\n",
              "      fill: #1967D2;\n",
              "      height: 32px;\n",
              "      padding: 0 0 0 0;\n",
              "      width: 32px;\n",
              "    }\n",
              "\n",
              "    .colab-df-convert:hover {\n",
              "      background-color: #E2EBFA;\n",
              "      box-shadow: 0px 1px 2px rgba(60, 64, 67, 0.3), 0px 1px 3px 1px rgba(60, 64, 67, 0.15);\n",
              "      fill: #174EA6;\n",
              "    }\n",
              "\n",
              "    [theme=dark] .colab-df-convert {\n",
              "      background-color: #3B4455;\n",
              "      fill: #D2E3FC;\n",
              "    }\n",
              "\n",
              "    [theme=dark] .colab-df-convert:hover {\n",
              "      background-color: #434B5C;\n",
              "      box-shadow: 0px 1px 3px 1px rgba(0, 0, 0, 0.15);\n",
              "      filter: drop-shadow(0px 1px 2px rgba(0, 0, 0, 0.3));\n",
              "      fill: #FFFFFF;\n",
              "    }\n",
              "  </style>\n",
              "\n",
              "      <script>\n",
              "        const buttonEl =\n",
              "          document.querySelector('#df-1dcadbb0-a384-463d-8228-6f0fa3047dd3 button.colab-df-convert');\n",
              "        buttonEl.style.display =\n",
              "          google.colab.kernel.accessAllowed ? 'block' : 'none';\n",
              "\n",
              "        async function convertToInteractive(key) {\n",
              "          const element = document.querySelector('#df-1dcadbb0-a384-463d-8228-6f0fa3047dd3');\n",
              "          const dataTable =\n",
              "            await google.colab.kernel.invokeFunction('convertToInteractive',\n",
              "                                                     [key], {});\n",
              "          if (!dataTable) return;\n",
              "\n",
              "          const docLinkHtml = 'Like what you see? Visit the ' +\n",
              "            '<a target=\"_blank\" href=https://colab.research.google.com/notebooks/data_table.ipynb>data table notebook</a>'\n",
              "            + ' to learn more about interactive tables.';\n",
              "          element.innerHTML = '';\n",
              "          dataTable['output_type'] = 'display_data';\n",
              "          await google.colab.output.renderOutput(dataTable, element);\n",
              "          const docLink = document.createElement('div');\n",
              "          docLink.innerHTML = docLinkHtml;\n",
              "          element.appendChild(docLink);\n",
              "        }\n",
              "      </script>\n",
              "    </div>\n",
              "  </div>\n",
              "  "
            ]
          },
          "metadata": {},
          "execution_count": 6
        }
      ]
    },
    {
      "cell_type": "code",
      "source": [
        "df=df.dropna()\n",
        "df.isnull().sum()"
      ],
      "metadata": {
        "colab": {
          "base_uri": "https://localhost:8080/"
        },
        "id": "2Cxr7VPzmWn1",
        "outputId": "6262c5c4-95b5-47e6-e560-2504f80fc28e"
      },
      "execution_count": 7,
      "outputs": [
        {
          "output_type": "execute_result",
          "data": {
            "text/plain": [
              "ID                                                                                                    0\n",
              "AuthorID                                                                                              0\n",
              "Author                                                                                                0\n",
              "Date                                                                                                  0\n",
              "Content                                                                                               0\n",
              "Words                                                                                                 0\n",
              "Change in appetite, losing or gaining weight                                                          0\n",
              "Sleeping too much or not sleeping well (insomnia)                                                     0\n",
              "Fatigue and low energy most days                                                                      0\n",
              "Feeling worthless, guilty, and hopeless                                                               0\n",
              "An inability to focus and concentrate that may interfere with daily tasks at home, work, or school    0\n",
              "Movements that are unusually slow or agitated (a change which is often noticeable to others)          0\n",
              "Thinking about death and dying; suicidal ideation or suicide attempts                                 0\n",
              "None                                                                                                  0\n",
              "dtype: int64"
            ]
          },
          "metadata": {},
          "execution_count": 7
        }
      ]
    },
    {
      "cell_type": "code",
      "source": [
        "list(df)"
      ],
      "metadata": {
        "colab": {
          "base_uri": "https://localhost:8080/"
        },
        "id": "D7YvnTh-mZGH",
        "outputId": "ea8f221b-a297-422a-c520-a80252a45597"
      },
      "execution_count": 8,
      "outputs": [
        {
          "output_type": "execute_result",
          "data": {
            "text/plain": [
              "['ID',\n",
              " 'AuthorID',\n",
              " 'Author',\n",
              " 'Date',\n",
              " 'Content',\n",
              " 'Words',\n",
              " 'Change in appetite, losing or gaining weight',\n",
              " 'Sleeping too much or not sleeping well (insomnia)',\n",
              " 'Fatigue and low energy most days',\n",
              " 'Feeling worthless, guilty, and hopeless',\n",
              " 'An inability to focus and concentrate that may interfere with daily tasks at home, work, or school',\n",
              " 'Movements that are unusually slow or agitated (a change which is often noticeable to others)',\n",
              " 'Thinking about death and dying; suicidal ideation or suicide attempts',\n",
              " 'None']"
            ]
          },
          "metadata": {},
          "execution_count": 8
        }
      ]
    },
    {
      "cell_type": "code",
      "source": [
        "df['None'] = df['None'].map({'Y': 1, 'N': 0})\n",
        "df['Change in appetite, losing or gaining weight']=df['Change in appetite, losing or gaining weight'].map({'Y': 1, 'N': 0})\n",
        "df['Sleeping too much or not sleeping well (insomnia)']=df['Sleeping too much or not sleeping well (insomnia)'].map({'Y': 1, 'N': 0})\n",
        "df['Fatigue and low energy most days']=df['Fatigue and low energy most days'].map({'Y': 1, 'N': 0})\n",
        "df['Feeling worthless, guilty, and hopeless']=df['Feeling worthless, guilty, and hopeless'].map({'Y': 1, 'N': 0})\n",
        "df['An inability to focus and concentrate that may interfere with daily tasks at home, work, or school']=df['An inability to focus and concentrate that may interfere with daily tasks at home, work, or school'].map({'Y': 1, 'N': 0})\n",
        "df['Movements that are unusually slow or agitated (a change which is often noticeable to others)']=df['Movements that are unusually slow or agitated (a change which is often noticeable to others)'].map({'Y': 1, 'N': 0})\n",
        "df['Thinking about death and dying; suicidal ideation or suicide attempts']=df['Thinking about death and dying; suicidal ideation or suicide attempts'].map({'Y': 1, 'N': 0})"
      ],
      "metadata": {
        "id": "Y5cz4CsgmbXU",
        "colab": {
          "base_uri": "https://localhost:8080/"
        },
        "outputId": "8bde98c3-3190-4fcb-9ec5-a381b78063de"
      },
      "execution_count": 9,
      "outputs": [
        {
          "output_type": "stream",
          "name": "stderr",
          "text": [
            "/usr/local/lib/python3.7/dist-packages/ipykernel_launcher.py:1: SettingWithCopyWarning: \n",
            "A value is trying to be set on a copy of a slice from a DataFrame.\n",
            "Try using .loc[row_indexer,col_indexer] = value instead\n",
            "\n",
            "See the caveats in the documentation: https://pandas.pydata.org/pandas-docs/stable/user_guide/indexing.html#returning-a-view-versus-a-copy\n",
            "  \"\"\"Entry point for launching an IPython kernel.\n",
            "/usr/local/lib/python3.7/dist-packages/ipykernel_launcher.py:2: SettingWithCopyWarning: \n",
            "A value is trying to be set on a copy of a slice from a DataFrame.\n",
            "Try using .loc[row_indexer,col_indexer] = value instead\n",
            "\n",
            "See the caveats in the documentation: https://pandas.pydata.org/pandas-docs/stable/user_guide/indexing.html#returning-a-view-versus-a-copy\n",
            "  \n",
            "/usr/local/lib/python3.7/dist-packages/ipykernel_launcher.py:3: SettingWithCopyWarning: \n",
            "A value is trying to be set on a copy of a slice from a DataFrame.\n",
            "Try using .loc[row_indexer,col_indexer] = value instead\n",
            "\n",
            "See the caveats in the documentation: https://pandas.pydata.org/pandas-docs/stable/user_guide/indexing.html#returning-a-view-versus-a-copy\n",
            "  This is separate from the ipykernel package so we can avoid doing imports until\n",
            "/usr/local/lib/python3.7/dist-packages/ipykernel_launcher.py:4: SettingWithCopyWarning: \n",
            "A value is trying to be set on a copy of a slice from a DataFrame.\n",
            "Try using .loc[row_indexer,col_indexer] = value instead\n",
            "\n",
            "See the caveats in the documentation: https://pandas.pydata.org/pandas-docs/stable/user_guide/indexing.html#returning-a-view-versus-a-copy\n",
            "  after removing the cwd from sys.path.\n",
            "/usr/local/lib/python3.7/dist-packages/ipykernel_launcher.py:5: SettingWithCopyWarning: \n",
            "A value is trying to be set on a copy of a slice from a DataFrame.\n",
            "Try using .loc[row_indexer,col_indexer] = value instead\n",
            "\n",
            "See the caveats in the documentation: https://pandas.pydata.org/pandas-docs/stable/user_guide/indexing.html#returning-a-view-versus-a-copy\n",
            "  \"\"\"\n",
            "/usr/local/lib/python3.7/dist-packages/ipykernel_launcher.py:6: SettingWithCopyWarning: \n",
            "A value is trying to be set on a copy of a slice from a DataFrame.\n",
            "Try using .loc[row_indexer,col_indexer] = value instead\n",
            "\n",
            "See the caveats in the documentation: https://pandas.pydata.org/pandas-docs/stable/user_guide/indexing.html#returning-a-view-versus-a-copy\n",
            "  \n",
            "/usr/local/lib/python3.7/dist-packages/ipykernel_launcher.py:7: SettingWithCopyWarning: \n",
            "A value is trying to be set on a copy of a slice from a DataFrame.\n",
            "Try using .loc[row_indexer,col_indexer] = value instead\n",
            "\n",
            "See the caveats in the documentation: https://pandas.pydata.org/pandas-docs/stable/user_guide/indexing.html#returning-a-view-versus-a-copy\n",
            "  import sys\n",
            "/usr/local/lib/python3.7/dist-packages/ipykernel_launcher.py:8: SettingWithCopyWarning: \n",
            "A value is trying to be set on a copy of a slice from a DataFrame.\n",
            "Try using .loc[row_indexer,col_indexer] = value instead\n",
            "\n",
            "See the caveats in the documentation: https://pandas.pydata.org/pandas-docs/stable/user_guide/indexing.html#returning-a-view-versus-a-copy\n",
            "  \n"
          ]
        }
      ]
    },
    {
      "cell_type": "code",
      "source": [
        "df.rename(columns={\"Change in appetite, losing or gaining weight\": \"symp_one\", \"Sleeping too much or not sleeping well (insomnia)\": \"symp_two\",\n",
        "                  \"Fatigue and low energy most days\":'symp_three','Feeling worthless, guilty, and hopeless':'symp_four',\n",
        "                  'An inability to focus and concentrate that may interfere with daily tasks at home, work, or school':'symp_five',\n",
        "                  'Movements that are unusually slow or agitated (a change which is often noticeable to others)':'symp_six',\n",
        "                  'Thinking about death and dying; suicidal ideation or suicide attempts':'symp_seven'},inplace=True)"
      ],
      "metadata": {
        "id": "edqIVEy-mdpL",
        "colab": {
          "base_uri": "https://localhost:8080/"
        },
        "outputId": "5f1432e8-e1b0-4030-da74-c92dbc8380c3"
      },
      "execution_count": 10,
      "outputs": [
        {
          "output_type": "stream",
          "name": "stderr",
          "text": [
            "/usr/local/lib/python3.7/dist-packages/pandas/core/frame.py:5047: SettingWithCopyWarning: \n",
            "A value is trying to be set on a copy of a slice from a DataFrame\n",
            "\n",
            "See the caveats in the documentation: https://pandas.pydata.org/pandas-docs/stable/user_guide/indexing.html#returning-a-view-versus-a-copy\n",
            "  errors=errors,\n"
          ]
        }
      ]
    },
    {
      "cell_type": "code",
      "source": [
        "df.head(5)"
      ],
      "metadata": {
        "colab": {
          "base_uri": "https://localhost:8080/",
          "height": 206
        },
        "id": "qLzcHzidmgI5",
        "outputId": "09fe92f1-fc19-4134-c02e-b205a16f6396"
      },
      "execution_count": 11,
      "outputs": [
        {
          "output_type": "execute_result",
          "data": {
            "text/plain": [
              "   ID      AuthorID             Author         Date  \\\n",
              "0   1  4.560000e+17  Deleted User#0000  43630.77639   \n",
              "1   2  4.560000e+17  Deleted User#0000  43630.78611   \n",
              "2   3  4.680000e+17        angel?#5373  43630.84306   \n",
              "3   4  5.450000e+17         Sease#2410  43630.84514   \n",
              "4   5  3.030000e+17     Emma/Blue#2035  43630.85347   \n",
              "\n",
              "                                             Content Words  symp_one  \\\n",
              "0  **List of International Suicide Hotlines**\\n``...    72         0   \n",
              "1  Hello, if you're depressed, being self-depreca...    56         0   \n",
              "2  Please note that we are not professionals.  Th...    61         0   \n",
              "3  yeah and people who just want attention don't ...    36         0   \n",
              "4  Just a small vent my arm hurts so much i know ...    41         0   \n",
              "\n",
              "   symp_two  symp_three  symp_four  symp_five  symp_six  symp_seven  None  \n",
              "0         0           0        0.0          0         0         0.0   1.0  \n",
              "1         0           0        1.0          0         0         1.0   0.0  \n",
              "2         0           0        0.0          0         0         0.0   1.0  \n",
              "3         0           0        0.0          0         0         0.0   1.0  \n",
              "4         0           0        1.0          1         1         0.0   0.0  "
            ],
            "text/html": [
              "\n",
              "  <div id=\"df-38a84103-ddec-48e0-9f62-d85a49137eb9\">\n",
              "    <div class=\"colab-df-container\">\n",
              "      <div>\n",
              "<style scoped>\n",
              "    .dataframe tbody tr th:only-of-type {\n",
              "        vertical-align: middle;\n",
              "    }\n",
              "\n",
              "    .dataframe tbody tr th {\n",
              "        vertical-align: top;\n",
              "    }\n",
              "\n",
              "    .dataframe thead th {\n",
              "        text-align: right;\n",
              "    }\n",
              "</style>\n",
              "<table border=\"1\" class=\"dataframe\">\n",
              "  <thead>\n",
              "    <tr style=\"text-align: right;\">\n",
              "      <th></th>\n",
              "      <th>ID</th>\n",
              "      <th>AuthorID</th>\n",
              "      <th>Author</th>\n",
              "      <th>Date</th>\n",
              "      <th>Content</th>\n",
              "      <th>Words</th>\n",
              "      <th>symp_one</th>\n",
              "      <th>symp_two</th>\n",
              "      <th>symp_three</th>\n",
              "      <th>symp_four</th>\n",
              "      <th>symp_five</th>\n",
              "      <th>symp_six</th>\n",
              "      <th>symp_seven</th>\n",
              "      <th>None</th>\n",
              "    </tr>\n",
              "  </thead>\n",
              "  <tbody>\n",
              "    <tr>\n",
              "      <th>0</th>\n",
              "      <td>1</td>\n",
              "      <td>4.560000e+17</td>\n",
              "      <td>Deleted User#0000</td>\n",
              "      <td>43630.77639</td>\n",
              "      <td>**List of International Suicide Hotlines**\\n``...</td>\n",
              "      <td>72</td>\n",
              "      <td>0</td>\n",
              "      <td>0</td>\n",
              "      <td>0</td>\n",
              "      <td>0.0</td>\n",
              "      <td>0</td>\n",
              "      <td>0</td>\n",
              "      <td>0.0</td>\n",
              "      <td>1.0</td>\n",
              "    </tr>\n",
              "    <tr>\n",
              "      <th>1</th>\n",
              "      <td>2</td>\n",
              "      <td>4.560000e+17</td>\n",
              "      <td>Deleted User#0000</td>\n",
              "      <td>43630.78611</td>\n",
              "      <td>Hello, if you're depressed, being self-depreca...</td>\n",
              "      <td>56</td>\n",
              "      <td>0</td>\n",
              "      <td>0</td>\n",
              "      <td>0</td>\n",
              "      <td>1.0</td>\n",
              "      <td>0</td>\n",
              "      <td>0</td>\n",
              "      <td>1.0</td>\n",
              "      <td>0.0</td>\n",
              "    </tr>\n",
              "    <tr>\n",
              "      <th>2</th>\n",
              "      <td>3</td>\n",
              "      <td>4.680000e+17</td>\n",
              "      <td>angel?#5373</td>\n",
              "      <td>43630.84306</td>\n",
              "      <td>Please note that we are not professionals.  Th...</td>\n",
              "      <td>61</td>\n",
              "      <td>0</td>\n",
              "      <td>0</td>\n",
              "      <td>0</td>\n",
              "      <td>0.0</td>\n",
              "      <td>0</td>\n",
              "      <td>0</td>\n",
              "      <td>0.0</td>\n",
              "      <td>1.0</td>\n",
              "    </tr>\n",
              "    <tr>\n",
              "      <th>3</th>\n",
              "      <td>4</td>\n",
              "      <td>5.450000e+17</td>\n",
              "      <td>Sease#2410</td>\n",
              "      <td>43630.84514</td>\n",
              "      <td>yeah and people who just want attention don't ...</td>\n",
              "      <td>36</td>\n",
              "      <td>0</td>\n",
              "      <td>0</td>\n",
              "      <td>0</td>\n",
              "      <td>0.0</td>\n",
              "      <td>0</td>\n",
              "      <td>0</td>\n",
              "      <td>0.0</td>\n",
              "      <td>1.0</td>\n",
              "    </tr>\n",
              "    <tr>\n",
              "      <th>4</th>\n",
              "      <td>5</td>\n",
              "      <td>3.030000e+17</td>\n",
              "      <td>Emma/Blue#2035</td>\n",
              "      <td>43630.85347</td>\n",
              "      <td>Just a small vent my arm hurts so much i know ...</td>\n",
              "      <td>41</td>\n",
              "      <td>0</td>\n",
              "      <td>0</td>\n",
              "      <td>0</td>\n",
              "      <td>1.0</td>\n",
              "      <td>1</td>\n",
              "      <td>1</td>\n",
              "      <td>0.0</td>\n",
              "      <td>0.0</td>\n",
              "    </tr>\n",
              "  </tbody>\n",
              "</table>\n",
              "</div>\n",
              "      <button class=\"colab-df-convert\" onclick=\"convertToInteractive('df-38a84103-ddec-48e0-9f62-d85a49137eb9')\"\n",
              "              title=\"Convert this dataframe to an interactive table.\"\n",
              "              style=\"display:none;\">\n",
              "        \n",
              "  <svg xmlns=\"http://www.w3.org/2000/svg\" height=\"24px\"viewBox=\"0 0 24 24\"\n",
              "       width=\"24px\">\n",
              "    <path d=\"M0 0h24v24H0V0z\" fill=\"none\"/>\n",
              "    <path d=\"M18.56 5.44l.94 2.06.94-2.06 2.06-.94-2.06-.94-.94-2.06-.94 2.06-2.06.94zm-11 1L8.5 8.5l.94-2.06 2.06-.94-2.06-.94L8.5 2.5l-.94 2.06-2.06.94zm10 10l.94 2.06.94-2.06 2.06-.94-2.06-.94-.94-2.06-.94 2.06-2.06.94z\"/><path d=\"M17.41 7.96l-1.37-1.37c-.4-.4-.92-.59-1.43-.59-.52 0-1.04.2-1.43.59L10.3 9.45l-7.72 7.72c-.78.78-.78 2.05 0 2.83L4 21.41c.39.39.9.59 1.41.59.51 0 1.02-.2 1.41-.59l7.78-7.78 2.81-2.81c.8-.78.8-2.07 0-2.86zM5.41 20L4 18.59l7.72-7.72 1.47 1.35L5.41 20z\"/>\n",
              "  </svg>\n",
              "      </button>\n",
              "      \n",
              "  <style>\n",
              "    .colab-df-container {\n",
              "      display:flex;\n",
              "      flex-wrap:wrap;\n",
              "      gap: 12px;\n",
              "    }\n",
              "\n",
              "    .colab-df-convert {\n",
              "      background-color: #E8F0FE;\n",
              "      border: none;\n",
              "      border-radius: 50%;\n",
              "      cursor: pointer;\n",
              "      display: none;\n",
              "      fill: #1967D2;\n",
              "      height: 32px;\n",
              "      padding: 0 0 0 0;\n",
              "      width: 32px;\n",
              "    }\n",
              "\n",
              "    .colab-df-convert:hover {\n",
              "      background-color: #E2EBFA;\n",
              "      box-shadow: 0px 1px 2px rgba(60, 64, 67, 0.3), 0px 1px 3px 1px rgba(60, 64, 67, 0.15);\n",
              "      fill: #174EA6;\n",
              "    }\n",
              "\n",
              "    [theme=dark] .colab-df-convert {\n",
              "      background-color: #3B4455;\n",
              "      fill: #D2E3FC;\n",
              "    }\n",
              "\n",
              "    [theme=dark] .colab-df-convert:hover {\n",
              "      background-color: #434B5C;\n",
              "      box-shadow: 0px 1px 3px 1px rgba(0, 0, 0, 0.15);\n",
              "      filter: drop-shadow(0px 1px 2px rgba(0, 0, 0, 0.3));\n",
              "      fill: #FFFFFF;\n",
              "    }\n",
              "  </style>\n",
              "\n",
              "      <script>\n",
              "        const buttonEl =\n",
              "          document.querySelector('#df-38a84103-ddec-48e0-9f62-d85a49137eb9 button.colab-df-convert');\n",
              "        buttonEl.style.display =\n",
              "          google.colab.kernel.accessAllowed ? 'block' : 'none';\n",
              "\n",
              "        async function convertToInteractive(key) {\n",
              "          const element = document.querySelector('#df-38a84103-ddec-48e0-9f62-d85a49137eb9');\n",
              "          const dataTable =\n",
              "            await google.colab.kernel.invokeFunction('convertToInteractive',\n",
              "                                                     [key], {});\n",
              "          if (!dataTable) return;\n",
              "\n",
              "          const docLinkHtml = 'Like what you see? Visit the ' +\n",
              "            '<a target=\"_blank\" href=https://colab.research.google.com/notebooks/data_table.ipynb>data table notebook</a>'\n",
              "            + ' to learn more about interactive tables.';\n",
              "          element.innerHTML = '';\n",
              "          dataTable['output_type'] = 'display_data';\n",
              "          await google.colab.output.renderOutput(dataTable, element);\n",
              "          const docLink = document.createElement('div');\n",
              "          docLink.innerHTML = docLinkHtml;\n",
              "          element.appendChild(docLink);\n",
              "        }\n",
              "      </script>\n",
              "    </div>\n",
              "  </div>\n",
              "  "
            ]
          },
          "metadata": {},
          "execution_count": 11
        }
      ]
    },
    {
      "cell_type": "markdown",
      "source": [
        "### Cleaning Text Data"
      ],
      "metadata": {
        "id": "GPcz9Z6Fmqof"
      }
    },
    {
      "cell_type": "code",
      "source": [
        "tt = TweetTokenizer()\n",
        "tokens = df['Content'].apply(tt.tokenize)\n",
        "print(tokens)"
      ],
      "metadata": {
        "colab": {
          "base_uri": "https://localhost:8080/"
        },
        "id": "4VE-2gPymsBQ",
        "outputId": "83c7f304-9749-4b18-b341-e69752873013"
      },
      "execution_count": 12,
      "outputs": [
        {
          "output_type": "stream",
          "name": "stdout",
          "text": [
            "0        [*, *, List, of, International, Suicide, Hotli...\n",
            "1        [Hello, ,, if, you're, depressed, ,, being, se...\n",
            "2        [Please, note, that, we, are, not, professiona...\n",
            "3        [yeah, and, people, who, just, want, attention...\n",
            "4        [Just, a, small, vent, my, arm, hurts, so, muc...\n",
            "                               ...                        \n",
            "23989    [>, And, it, ‚, Äôs, just, getting, so, annoyi...\n",
            "23990    [And, I, ‚, Äôm, mixed, so, I, get, called, th...\n",
            "23991    [>, @SAD, BHABHIE, ., oof, that's, a, good, th...\n",
            "23992    [>, And, I, ‚, Äôm, mixed, so, I, get, called,...\n",
            "23993    [>, Yeah, I, ‚, Äôve, ignored, it, for, 5, yea...\n",
            "Name: Content, Length: 23978, dtype: object\n"
          ]
        }
      ]
    },
    {
      "cell_type": "code",
      "source": [
        "df['Content']=df['Content'].apply(lambda x: x.split(',,')[0])\n",
        "df['Content']=df['Content'].apply(lambda x: x.split(',,,')[0])"
      ],
      "metadata": {
        "id": "sKwcLyUmmvFy"
      },
      "execution_count": 13,
      "outputs": []
    },
    {
      "cell_type": "code",
      "source": [
        "# Dictionary of English Contractions\n",
        "contractions_dict = { \"ain't\": \"are not\",\"'s\":\" is\",\"aren't\": \"are not\",\n",
        "                     \"can't\": \"cannot\",\"can't've\": \"cannot have\",\n",
        "                     \"'cause\": \"because\",\"could've\": \"could have\",\"couldn't\": \"could not\",\n",
        "                     \"couldn't've\": \"could not have\", \"didn't\": \"did not\",\"doesn't\": \"does not\",\n",
        "                     \"don't\": \"do not\",\"hadn't\": \"had not\",\"hadn't've\": \"had not have\",\n",
        "                     \"hasn't\": \"has not\",\"haven't\": \"have not\",\"he'd\": \"he would\",\n",
        "                     \"he'd've\": \"he would have\",\"he'll\": \"he will\", \"he'll've\": \"he will have\",\n",
        "                     \"how'd\": \"how did\",\"how'd'y\": \"how do you\",\"how'll\": \"how will\",\n",
        "                     \"I'd\": \"I would\", \"I'd've\": \"I would have\",\"I'll\": \"I will\",\n",
        "                     \"I'll've\": \"I will have\",\"I'm\": \"I am\",\"I've\": \"I have\", \"isn't\": \"is not\",\n",
        "                     \"it'd\": \"it would\",\"it'd've\": \"it would have\",\"it'll\": \"it will\",\n",
        "                     \"it'll've\": \"it will have\", \"let's\": \"let us\",\"ma'am\": \"madam\",\n",
        "                     \"mayn't\": \"may not\",\"might've\": \"might have\",\"mightn't\": \"might not\", \n",
        "                     \"mightn't've\": \"might not have\",\"must've\": \"must have\",\"mustn't\": \"must not\",\n",
        "                     \"mustn't've\": \"must not have\", \"needn't\": \"need not\",\n",
        "                     \"needn't've\": \"need not have\",\"o'clock\": \"of the clock\",\"oughtn't\": \"ought not\",\n",
        "                     \"oughtn't've\": \"ought not have\",\"shan't\": \"shall not\",\"sha'n't\": \"shall not\",\n",
        "                     \"shan't've\": \"shall not have\",\"she'd\": \"she would\",\"she'd've\": \"she would have\",\n",
        "                     \"she'll\": \"she will\", \"she'll've\": \"she will have\",\"should've\": \"should have\",\n",
        "                     \"shouldn't\": \"should not\", \"shouldn't've\": \"should not have\",\"so've\": \"so have\",\n",
        "                     \"that'd\": \"that would\",\"that'd've\": \"that would have\", \"there'd\": \"there would\",\n",
        "                     \"there'd've\": \"there would have\", \"they'd\": \"they would\",\n",
        "                     \"they'd've\": \"they would have\",\"they'll\": \"they will\",\n",
        "                     \"they'll've\": \"they will have\", \"they're\": \"they are\",\"they've\": \"they have\",\n",
        "                     \"to've\": \"to have\",\"wasn't\": \"was not\",\"we'd\": \"we would\",\n",
        "                     \"we'd've\": \"we would have\",\"we'll\": \"we will\",\"we'll've\": \"we will have\",\n",
        "                     \"we're\": \"we are\",\"we've\": \"we have\", \"weren't\": \"were not\",\"what'll\": \"what will\",\n",
        "                     \"what'll've\": \"what will have\",\"what're\": \"what are\", \"what've\": \"what have\",\n",
        "                     \"when've\": \"when have\",\"where'd\": \"where did\", \"where've\": \"where have\",\n",
        "                     \"who'll\": \"who will\",\"who'll've\": \"who will have\",\"who've\": \"who have\",\n",
        "                     \"why've\": \"why have\",\"will've\": \"will have\",\"won't\": \"will not\",\n",
        "                     \"won't've\": \"will not have\", \"would've\": \"would have\",\"wouldn't\": \"would not\",\n",
        "                     \"wouldn't've\": \"would not have\",\"y'all\": \"you all\", \"y'all'd\": \"you all would\",\n",
        "                     \"y'all'd've\": \"you all would have\",\"y'all're\": \"you all are\",\n",
        "                     \"y'all've\": \"you all have\", \"you'd\": \"you would\",\"you'd've\": \"you would have\",\n",
        "                     \"you'll\": \"you will\",\"you'll've\": \"you will have\", \"you're\": \"you are\",\n",
        "                     \"you've\": \"you have\"}\n",
        "\n",
        "# Regular expression for finding contractions\n",
        "contractions_re=re.compile('(%s)' % '|'.join(contractions_dict.keys()))\n",
        "\n",
        "# Function for expanding contractions\n",
        "def expand_contractions(text,contractions_dict=contractions_dict):\n",
        "    def replace(match):\n",
        "        return contractions_dict[match.group(0)]\n",
        "    return contractions_re.sub(replace, text)\n",
        "\n",
        "# Expanding Contractions in the reviews\n",
        "df['Content']=df['Content'].apply(lambda x:expand_contractions(x))"
      ],
      "metadata": {
        "id": "y1VBLdGtm2J5"
      },
      "execution_count": 14,
      "outputs": []
    },
    {
      "cell_type": "code",
      "source": [
        "#Lowering the comments\n",
        "df['Content']=df['Content'].apply(lambda x: x.lower())\n",
        "\n",
        "#Remove digits and words containing numbers\n",
        "df['Content']=df['Content'].apply(lambda x: re.sub('\\w*\\d\\w*','', x))\n",
        "\n",
        "#Remove Punctuation\n",
        "df['Content']=df['Content'].apply(lambda x: re.sub('[%s]' % re.escape(string.punctuation), '', x))\n",
        "\n",
        "#Remove extra space\n",
        "df['Content']=df['Content'].apply(lambda x: re.sub(' +',' ',x))\n"
      ],
      "metadata": {
        "id": "91A6gLSlm83M"
      },
      "execution_count": 15,
      "outputs": []
    },
    {
      "cell_type": "code",
      "source": [
        "for index,text in enumerate(df['Content'][15:20]):\n",
        "    print('data %d:\\n'%(index+1),text)"
      ],
      "metadata": {
        "colab": {
          "base_uri": "https://localhost:8080/"
        },
        "id": "lvAPmNQWnWbV",
        "outputId": "b9379902-f33b-4fad-c631-4dd685b7df70"
      },
      "execution_count": 16,
      "outputs": [
        {
          "output_type": "stream",
          "name": "stdout",
          "text": [
            "data 1:\n",
            " i did that a few minutes ago but the thing is that it feels like a sharp pain\n",
            "data 2:\n",
            " kinda got in a bike crash a couple of hours ago and hurt my ankle so there is my story \n",
            "data 3:\n",
            " okay if it is ankle then make sure the pain is coming from the scratch and not because you got a sprained ankle if it is the latter you need to place your leg on something higher than the rest of your body level to maintain proper blood flow fleekthumbsup and place some ice on it preferably \n",
            "\n",
            "if it is just a scratch and you are sure that is where the pain is coming from then clean it and put a bandage on and hope for the best lol\n",
            "data 4:\n",
            " i was swimming and then i just got a really bad pain and could not walk without the pain\n",
            "data 5:\n",
            " care üíï i hate my parents they treat me like cinderella they expect me to do everything like the dishes cleaning the counter tops etc when i was loading the dishwasher i called my nana a bitch because she was acting like one and my papa the abusive shit he is came over to me grabbed my hand and held me up against the counter threatened to hit me and my nana just let it happen\n"
          ]
        }
      ]
    },
    {
      "cell_type": "code",
      "source": [
        "nlp = spacy.load('en_core_web_sm',disable=['parser', 'ner'])\n",
        "\n",
        "# Lemmatization with stopwords removal\n",
        "df['Content']=df['Content'].apply(lambda x: ' '.join([token.lemma_ for token in list(nlp(x)) if (token.is_stop==False)]))"
      ],
      "metadata": {
        "id": "GU66_XRFnhua"
      },
      "execution_count": 17,
      "outputs": []
    },
    {
      "cell_type": "code",
      "source": [
        "df"
      ],
      "metadata": {
        "colab": {
          "base_uri": "https://localhost:8080/",
          "height": 468
        },
        "id": "gGiJGpCR14Gu",
        "outputId": "b9b27808-3056-4ab7-a607-94920c17f053"
      },
      "execution_count": 18,
      "outputs": [
        {
          "output_type": "execute_result",
          "data": {
            "text/plain": [
              "          ID      AuthorID                Author         Date  \\\n",
              "0          1  4.560000e+17     Deleted User#0000  43630.77639   \n",
              "1          2  4.560000e+17     Deleted User#0000  43630.78611   \n",
              "2          3  4.680000e+17           angel?#5373  43630.84306   \n",
              "3          4  5.450000e+17            Sease#2410  43630.84514   \n",
              "4          5  3.030000e+17        Emma/Blue#2035  43630.85347   \n",
              "...      ...           ...                   ...          ...   \n",
              "23989  23995  3.110000e+17    AfonsoHackers#6969  44071.59167   \n",
              "23990  23996  6.460000e+17  sluttywhoreü¶¶#3156  44071.59236   \n",
              "23991  23997  7.240000e+17     SAD BHABHIE.#3636  44071.59236   \n",
              "23992  23998  7.240000e+17     SAD BHABHIE.#3636  44071.59236   \n",
              "23993  23999  3.110000e+17    AfonsoHackers#6969  44071.59306   \n",
              "\n",
              "                                                 Content Words  symp_one  \\\n",
              "0      list international suicide hotline \\n argentin...    72         0   \n",
              "1      hello depressed selfdeprecate thing bad talk a...    56         0   \n",
              "2      note professional community try help good abil...    61         0   \n",
              "3      yeah people want attention actually listen peo...    36         0   \n",
              "4      small vent arm hurt know need doctor can‚äôt a...    41         0   \n",
              "...                                                  ...   ...       ...   \n",
              "23989    it‚äôs get annoying i‚äôm \\n sluttywhoreü¶¶...    26         0   \n",
              "23990                i‚äôm mixed call n word hard r year    18         0   \n",
              "23991    sad bhabhie oof good thing suppose mean find...    50         0   \n",
              "23992    i‚äôm mixed call n word hard r year \\n slutt...    21         0   \n",
              "23993    yeah i‚äôve ignore year \\n sluttywhoreü¶¶ t...    16         0   \n",
              "\n",
              "       symp_two  symp_three  symp_four  symp_five  symp_six  symp_seven  None  \n",
              "0             0           0        0.0          0         0         0.0   1.0  \n",
              "1             0           0        1.0          0         0         1.0   0.0  \n",
              "2             0           0        0.0          0         0         0.0   1.0  \n",
              "3             0           0        0.0          0         0         0.0   1.0  \n",
              "4             0           0        1.0          1         1         0.0   0.0  \n",
              "...         ...         ...        ...        ...       ...         ...   ...  \n",
              "23989         0           0        0.0          0         0         0.0   1.0  \n",
              "23990         0           0        1.0          0         0         0.0   0.0  \n",
              "23991         0           0        0.0          0         0         0.0   1.0  \n",
              "23992         0           0        1.0          0         0         0.0   0.0  \n",
              "23993         0           0        1.0          0         0         0.0   0.0  \n",
              "\n",
              "[23978 rows x 14 columns]"
            ],
            "text/html": [
              "\n",
              "  <div id=\"df-43354e5f-2fc6-467e-9f93-40b74042ae40\">\n",
              "    <div class=\"colab-df-container\">\n",
              "      <div>\n",
              "<style scoped>\n",
              "    .dataframe tbody tr th:only-of-type {\n",
              "        vertical-align: middle;\n",
              "    }\n",
              "\n",
              "    .dataframe tbody tr th {\n",
              "        vertical-align: top;\n",
              "    }\n",
              "\n",
              "    .dataframe thead th {\n",
              "        text-align: right;\n",
              "    }\n",
              "</style>\n",
              "<table border=\"1\" class=\"dataframe\">\n",
              "  <thead>\n",
              "    <tr style=\"text-align: right;\">\n",
              "      <th></th>\n",
              "      <th>ID</th>\n",
              "      <th>AuthorID</th>\n",
              "      <th>Author</th>\n",
              "      <th>Date</th>\n",
              "      <th>Content</th>\n",
              "      <th>Words</th>\n",
              "      <th>symp_one</th>\n",
              "      <th>symp_two</th>\n",
              "      <th>symp_three</th>\n",
              "      <th>symp_four</th>\n",
              "      <th>symp_five</th>\n",
              "      <th>symp_six</th>\n",
              "      <th>symp_seven</th>\n",
              "      <th>None</th>\n",
              "    </tr>\n",
              "  </thead>\n",
              "  <tbody>\n",
              "    <tr>\n",
              "      <th>0</th>\n",
              "      <td>1</td>\n",
              "      <td>4.560000e+17</td>\n",
              "      <td>Deleted User#0000</td>\n",
              "      <td>43630.77639</td>\n",
              "      <td>list international suicide hotline \\n argentin...</td>\n",
              "      <td>72</td>\n",
              "      <td>0</td>\n",
              "      <td>0</td>\n",
              "      <td>0</td>\n",
              "      <td>0.0</td>\n",
              "      <td>0</td>\n",
              "      <td>0</td>\n",
              "      <td>0.0</td>\n",
              "      <td>1.0</td>\n",
              "    </tr>\n",
              "    <tr>\n",
              "      <th>1</th>\n",
              "      <td>2</td>\n",
              "      <td>4.560000e+17</td>\n",
              "      <td>Deleted User#0000</td>\n",
              "      <td>43630.78611</td>\n",
              "      <td>hello depressed selfdeprecate thing bad talk a...</td>\n",
              "      <td>56</td>\n",
              "      <td>0</td>\n",
              "      <td>0</td>\n",
              "      <td>0</td>\n",
              "      <td>1.0</td>\n",
              "      <td>0</td>\n",
              "      <td>0</td>\n",
              "      <td>1.0</td>\n",
              "      <td>0.0</td>\n",
              "    </tr>\n",
              "    <tr>\n",
              "      <th>2</th>\n",
              "      <td>3</td>\n",
              "      <td>4.680000e+17</td>\n",
              "      <td>angel?#5373</td>\n",
              "      <td>43630.84306</td>\n",
              "      <td>note professional community try help good abil...</td>\n",
              "      <td>61</td>\n",
              "      <td>0</td>\n",
              "      <td>0</td>\n",
              "      <td>0</td>\n",
              "      <td>0.0</td>\n",
              "      <td>0</td>\n",
              "      <td>0</td>\n",
              "      <td>0.0</td>\n",
              "      <td>1.0</td>\n",
              "    </tr>\n",
              "    <tr>\n",
              "      <th>3</th>\n",
              "      <td>4</td>\n",
              "      <td>5.450000e+17</td>\n",
              "      <td>Sease#2410</td>\n",
              "      <td>43630.84514</td>\n",
              "      <td>yeah people want attention actually listen peo...</td>\n",
              "      <td>36</td>\n",
              "      <td>0</td>\n",
              "      <td>0</td>\n",
              "      <td>0</td>\n",
              "      <td>0.0</td>\n",
              "      <td>0</td>\n",
              "      <td>0</td>\n",
              "      <td>0.0</td>\n",
              "      <td>1.0</td>\n",
              "    </tr>\n",
              "    <tr>\n",
              "      <th>4</th>\n",
              "      <td>5</td>\n",
              "      <td>3.030000e+17</td>\n",
              "      <td>Emma/Blue#2035</td>\n",
              "      <td>43630.85347</td>\n",
              "      <td>small vent arm hurt know need doctor can‚äôt a...</td>\n",
              "      <td>41</td>\n",
              "      <td>0</td>\n",
              "      <td>0</td>\n",
              "      <td>0</td>\n",
              "      <td>1.0</td>\n",
              "      <td>1</td>\n",
              "      <td>1</td>\n",
              "      <td>0.0</td>\n",
              "      <td>0.0</td>\n",
              "    </tr>\n",
              "    <tr>\n",
              "      <th>...</th>\n",
              "      <td>...</td>\n",
              "      <td>...</td>\n",
              "      <td>...</td>\n",
              "      <td>...</td>\n",
              "      <td>...</td>\n",
              "      <td>...</td>\n",
              "      <td>...</td>\n",
              "      <td>...</td>\n",
              "      <td>...</td>\n",
              "      <td>...</td>\n",
              "      <td>...</td>\n",
              "      <td>...</td>\n",
              "      <td>...</td>\n",
              "      <td>...</td>\n",
              "    </tr>\n",
              "    <tr>\n",
              "      <th>23989</th>\n",
              "      <td>23995</td>\n",
              "      <td>3.110000e+17</td>\n",
              "      <td>AfonsoHackers#6969</td>\n",
              "      <td>44071.59167</td>\n",
              "      <td>it‚äôs get annoying i‚äôm \\n sluttywhoreü¶¶...</td>\n",
              "      <td>26</td>\n",
              "      <td>0</td>\n",
              "      <td>0</td>\n",
              "      <td>0</td>\n",
              "      <td>0.0</td>\n",
              "      <td>0</td>\n",
              "      <td>0</td>\n",
              "      <td>0.0</td>\n",
              "      <td>1.0</td>\n",
              "    </tr>\n",
              "    <tr>\n",
              "      <th>23990</th>\n",
              "      <td>23996</td>\n",
              "      <td>6.460000e+17</td>\n",
              "      <td>sluttywhoreü¶¶#3156</td>\n",
              "      <td>44071.59236</td>\n",
              "      <td>i‚äôm mixed call n word hard r year</td>\n",
              "      <td>18</td>\n",
              "      <td>0</td>\n",
              "      <td>0</td>\n",
              "      <td>0</td>\n",
              "      <td>1.0</td>\n",
              "      <td>0</td>\n",
              "      <td>0</td>\n",
              "      <td>0.0</td>\n",
              "      <td>0.0</td>\n",
              "    </tr>\n",
              "    <tr>\n",
              "      <th>23991</th>\n",
              "      <td>23997</td>\n",
              "      <td>7.240000e+17</td>\n",
              "      <td>SAD BHABHIE.#3636</td>\n",
              "      <td>44071.59236</td>\n",
              "      <td>sad bhabhie oof good thing suppose mean find...</td>\n",
              "      <td>50</td>\n",
              "      <td>0</td>\n",
              "      <td>0</td>\n",
              "      <td>0</td>\n",
              "      <td>0.0</td>\n",
              "      <td>0</td>\n",
              "      <td>0</td>\n",
              "      <td>0.0</td>\n",
              "      <td>1.0</td>\n",
              "    </tr>\n",
              "    <tr>\n",
              "      <th>23992</th>\n",
              "      <td>23998</td>\n",
              "      <td>7.240000e+17</td>\n",
              "      <td>SAD BHABHIE.#3636</td>\n",
              "      <td>44071.59236</td>\n",
              "      <td>i‚äôm mixed call n word hard r year \\n slutt...</td>\n",
              "      <td>21</td>\n",
              "      <td>0</td>\n",
              "      <td>0</td>\n",
              "      <td>0</td>\n",
              "      <td>1.0</td>\n",
              "      <td>0</td>\n",
              "      <td>0</td>\n",
              "      <td>0.0</td>\n",
              "      <td>0.0</td>\n",
              "    </tr>\n",
              "    <tr>\n",
              "      <th>23993</th>\n",
              "      <td>23999</td>\n",
              "      <td>3.110000e+17</td>\n",
              "      <td>AfonsoHackers#6969</td>\n",
              "      <td>44071.59306</td>\n",
              "      <td>yeah i‚äôve ignore year \\n sluttywhoreü¶¶ t...</td>\n",
              "      <td>16</td>\n",
              "      <td>0</td>\n",
              "      <td>0</td>\n",
              "      <td>0</td>\n",
              "      <td>1.0</td>\n",
              "      <td>0</td>\n",
              "      <td>0</td>\n",
              "      <td>0.0</td>\n",
              "      <td>0.0</td>\n",
              "    </tr>\n",
              "  </tbody>\n",
              "</table>\n",
              "<p>23978 rows × 14 columns</p>\n",
              "</div>\n",
              "      <button class=\"colab-df-convert\" onclick=\"convertToInteractive('df-43354e5f-2fc6-467e-9f93-40b74042ae40')\"\n",
              "              title=\"Convert this dataframe to an interactive table.\"\n",
              "              style=\"display:none;\">\n",
              "        \n",
              "  <svg xmlns=\"http://www.w3.org/2000/svg\" height=\"24px\"viewBox=\"0 0 24 24\"\n",
              "       width=\"24px\">\n",
              "    <path d=\"M0 0h24v24H0V0z\" fill=\"none\"/>\n",
              "    <path d=\"M18.56 5.44l.94 2.06.94-2.06 2.06-.94-2.06-.94-.94-2.06-.94 2.06-2.06.94zm-11 1L8.5 8.5l.94-2.06 2.06-.94-2.06-.94L8.5 2.5l-.94 2.06-2.06.94zm10 10l.94 2.06.94-2.06 2.06-.94-2.06-.94-.94-2.06-.94 2.06-2.06.94z\"/><path d=\"M17.41 7.96l-1.37-1.37c-.4-.4-.92-.59-1.43-.59-.52 0-1.04.2-1.43.59L10.3 9.45l-7.72 7.72c-.78.78-.78 2.05 0 2.83L4 21.41c.39.39.9.59 1.41.59.51 0 1.02-.2 1.41-.59l7.78-7.78 2.81-2.81c.8-.78.8-2.07 0-2.86zM5.41 20L4 18.59l7.72-7.72 1.47 1.35L5.41 20z\"/>\n",
              "  </svg>\n",
              "      </button>\n",
              "      \n",
              "  <style>\n",
              "    .colab-df-container {\n",
              "      display:flex;\n",
              "      flex-wrap:wrap;\n",
              "      gap: 12px;\n",
              "    }\n",
              "\n",
              "    .colab-df-convert {\n",
              "      background-color: #E8F0FE;\n",
              "      border: none;\n",
              "      border-radius: 50%;\n",
              "      cursor: pointer;\n",
              "      display: none;\n",
              "      fill: #1967D2;\n",
              "      height: 32px;\n",
              "      padding: 0 0 0 0;\n",
              "      width: 32px;\n",
              "    }\n",
              "\n",
              "    .colab-df-convert:hover {\n",
              "      background-color: #E2EBFA;\n",
              "      box-shadow: 0px 1px 2px rgba(60, 64, 67, 0.3), 0px 1px 3px 1px rgba(60, 64, 67, 0.15);\n",
              "      fill: #174EA6;\n",
              "    }\n",
              "\n",
              "    [theme=dark] .colab-df-convert {\n",
              "      background-color: #3B4455;\n",
              "      fill: #D2E3FC;\n",
              "    }\n",
              "\n",
              "    [theme=dark] .colab-df-convert:hover {\n",
              "      background-color: #434B5C;\n",
              "      box-shadow: 0px 1px 3px 1px rgba(0, 0, 0, 0.15);\n",
              "      filter: drop-shadow(0px 1px 2px rgba(0, 0, 0, 0.3));\n",
              "      fill: #FFFFFF;\n",
              "    }\n",
              "  </style>\n",
              "\n",
              "      <script>\n",
              "        const buttonEl =\n",
              "          document.querySelector('#df-43354e5f-2fc6-467e-9f93-40b74042ae40 button.colab-df-convert');\n",
              "        buttonEl.style.display =\n",
              "          google.colab.kernel.accessAllowed ? 'block' : 'none';\n",
              "\n",
              "        async function convertToInteractive(key) {\n",
              "          const element = document.querySelector('#df-43354e5f-2fc6-467e-9f93-40b74042ae40');\n",
              "          const dataTable =\n",
              "            await google.colab.kernel.invokeFunction('convertToInteractive',\n",
              "                                                     [key], {});\n",
              "          if (!dataTable) return;\n",
              "\n",
              "          const docLinkHtml = 'Like what you see? Visit the ' +\n",
              "            '<a target=\"_blank\" href=https://colab.research.google.com/notebooks/data_table.ipynb>data table notebook</a>'\n",
              "            + ' to learn more about interactive tables.';\n",
              "          element.innerHTML = '';\n",
              "          dataTable['output_type'] = 'display_data';\n",
              "          await google.colab.output.renderOutput(dataTable, element);\n",
              "          const docLink = document.createElement('div');\n",
              "          docLink.innerHTML = docLinkHtml;\n",
              "          element.appendChild(docLink);\n",
              "        }\n",
              "      </script>\n",
              "    </div>\n",
              "  </div>\n",
              "  "
            ]
          },
          "metadata": {},
          "execution_count": 18
        }
      ]
    },
    {
      "cell_type": "code",
      "source": [
        "df_train = df.sample(frac=0.8, random_state=1000)\n",
        "df_test = df.drop(df_train.index)"
      ],
      "metadata": {
        "id": "6AAH5Dff16SW"
      },
      "execution_count": 19,
      "outputs": []
    },
    {
      "cell_type": "code",
      "source": [
        "df_train.shape"
      ],
      "metadata": {
        "colab": {
          "base_uri": "https://localhost:8080/"
        },
        "id": "1nlNIu0MLV2p",
        "outputId": "8e397a26-0db1-4a73-cbe1-feb25b97c8e1"
      },
      "execution_count": 20,
      "outputs": [
        {
          "output_type": "execute_result",
          "data": {
            "text/plain": [
              "(19182, 14)"
            ]
          },
          "metadata": {},
          "execution_count": 20
        }
      ]
    },
    {
      "cell_type": "code",
      "source": [
        "df_test.shape"
      ],
      "metadata": {
        "colab": {
          "base_uri": "https://localhost:8080/"
        },
        "id": "EKWMGc_dLYc9",
        "outputId": "86a61b05-2c84-4a87-d8a5-b27b0345026b"
      },
      "execution_count": 21,
      "outputs": [
        {
          "output_type": "execute_result",
          "data": {
            "text/plain": [
              "(4796, 14)"
            ]
          },
          "metadata": {},
          "execution_count": 21
        }
      ]
    },
    {
      "cell_type": "code",
      "source": [
        "df_grouped=df[['Author','Content']].groupby(by='Author').agg(lambda x:' '.join(x))\n",
        "df_grouped.head()"
      ],
      "metadata": {
        "colab": {
          "base_uri": "https://localhost:8080/",
          "height": 238
        },
        "id": "1QCq5pymLcbM",
        "outputId": "235f5719-aeae-496b-e130-db1eedf12e5e"
      },
      "execution_count": 22,
      "outputs": [
        {
          "output_type": "execute_result",
          "data": {
            "text/plain": [
              "                                                            Content\n",
              "Author                                                             \n",
              "! Daddy Rey#3248  year old mad make joke cheer people lmfaoo wan...\n",
              "!Nunu#9000        good thing u breaking love makeover day hard k...\n",
              "!neo#8684         suicide isn‚äôt answer pass problem people cha...\n",
              "$>sp7r7t<$#0773   blame pain side spectrum bad feeling world per...\n",
              "(T y l e r)#5353  care ô£ø√º√≠√ø recently lose family member get..."
            ],
            "text/html": [
              "\n",
              "  <div id=\"df-fb343a95-be64-48bf-a498-de2c964a9c5d\">\n",
              "    <div class=\"colab-df-container\">\n",
              "      <div>\n",
              "<style scoped>\n",
              "    .dataframe tbody tr th:only-of-type {\n",
              "        vertical-align: middle;\n",
              "    }\n",
              "\n",
              "    .dataframe tbody tr th {\n",
              "        vertical-align: top;\n",
              "    }\n",
              "\n",
              "    .dataframe thead th {\n",
              "        text-align: right;\n",
              "    }\n",
              "</style>\n",
              "<table border=\"1\" class=\"dataframe\">\n",
              "  <thead>\n",
              "    <tr style=\"text-align: right;\">\n",
              "      <th></th>\n",
              "      <th>Content</th>\n",
              "    </tr>\n",
              "    <tr>\n",
              "      <th>Author</th>\n",
              "      <th></th>\n",
              "    </tr>\n",
              "  </thead>\n",
              "  <tbody>\n",
              "    <tr>\n",
              "      <th>! Daddy Rey#3248</th>\n",
              "      <td>year old mad make joke cheer people lmfaoo wan...</td>\n",
              "    </tr>\n",
              "    <tr>\n",
              "      <th>!Nunu#9000</th>\n",
              "      <td>good thing u breaking love makeover day hard k...</td>\n",
              "    </tr>\n",
              "    <tr>\n",
              "      <th>!neo#8684</th>\n",
              "      <td>suicide isn‚äôt answer pass problem people cha...</td>\n",
              "    </tr>\n",
              "    <tr>\n",
              "      <th>$&gt;sp7r7t&lt;$#0773</th>\n",
              "      <td>blame pain side spectrum bad feeling world per...</td>\n",
              "    </tr>\n",
              "    <tr>\n",
              "      <th>(T y l e r)#5353</th>\n",
              "      <td>care ô£ø√º√≠√ø recently lose family member get...</td>\n",
              "    </tr>\n",
              "  </tbody>\n",
              "</table>\n",
              "</div>\n",
              "      <button class=\"colab-df-convert\" onclick=\"convertToInteractive('df-fb343a95-be64-48bf-a498-de2c964a9c5d')\"\n",
              "              title=\"Convert this dataframe to an interactive table.\"\n",
              "              style=\"display:none;\">\n",
              "        \n",
              "  <svg xmlns=\"http://www.w3.org/2000/svg\" height=\"24px\"viewBox=\"0 0 24 24\"\n",
              "       width=\"24px\">\n",
              "    <path d=\"M0 0h24v24H0V0z\" fill=\"none\"/>\n",
              "    <path d=\"M18.56 5.44l.94 2.06.94-2.06 2.06-.94-2.06-.94-.94-2.06-.94 2.06-2.06.94zm-11 1L8.5 8.5l.94-2.06 2.06-.94-2.06-.94L8.5 2.5l-.94 2.06-2.06.94zm10 10l.94 2.06.94-2.06 2.06-.94-2.06-.94-.94-2.06-.94 2.06-2.06.94z\"/><path d=\"M17.41 7.96l-1.37-1.37c-.4-.4-.92-.59-1.43-.59-.52 0-1.04.2-1.43.59L10.3 9.45l-7.72 7.72c-.78.78-.78 2.05 0 2.83L4 21.41c.39.39.9.59 1.41.59.51 0 1.02-.2 1.41-.59l7.78-7.78 2.81-2.81c.8-.78.8-2.07 0-2.86zM5.41 20L4 18.59l7.72-7.72 1.47 1.35L5.41 20z\"/>\n",
              "  </svg>\n",
              "      </button>\n",
              "      \n",
              "  <style>\n",
              "    .colab-df-container {\n",
              "      display:flex;\n",
              "      flex-wrap:wrap;\n",
              "      gap: 12px;\n",
              "    }\n",
              "\n",
              "    .colab-df-convert {\n",
              "      background-color: #E8F0FE;\n",
              "      border: none;\n",
              "      border-radius: 50%;\n",
              "      cursor: pointer;\n",
              "      display: none;\n",
              "      fill: #1967D2;\n",
              "      height: 32px;\n",
              "      padding: 0 0 0 0;\n",
              "      width: 32px;\n",
              "    }\n",
              "\n",
              "    .colab-df-convert:hover {\n",
              "      background-color: #E2EBFA;\n",
              "      box-shadow: 0px 1px 2px rgba(60, 64, 67, 0.3), 0px 1px 3px 1px rgba(60, 64, 67, 0.15);\n",
              "      fill: #174EA6;\n",
              "    }\n",
              "\n",
              "    [theme=dark] .colab-df-convert {\n",
              "      background-color: #3B4455;\n",
              "      fill: #D2E3FC;\n",
              "    }\n",
              "\n",
              "    [theme=dark] .colab-df-convert:hover {\n",
              "      background-color: #434B5C;\n",
              "      box-shadow: 0px 1px 3px 1px rgba(0, 0, 0, 0.15);\n",
              "      filter: drop-shadow(0px 1px 2px rgba(0, 0, 0, 0.3));\n",
              "      fill: #FFFFFF;\n",
              "    }\n",
              "  </style>\n",
              "\n",
              "      <script>\n",
              "        const buttonEl =\n",
              "          document.querySelector('#df-fb343a95-be64-48bf-a498-de2c964a9c5d button.colab-df-convert');\n",
              "        buttonEl.style.display =\n",
              "          google.colab.kernel.accessAllowed ? 'block' : 'none';\n",
              "\n",
              "        async function convertToInteractive(key) {\n",
              "          const element = document.querySelector('#df-fb343a95-be64-48bf-a498-de2c964a9c5d');\n",
              "          const dataTable =\n",
              "            await google.colab.kernel.invokeFunction('convertToInteractive',\n",
              "                                                     [key], {});\n",
              "          if (!dataTable) return;\n",
              "\n",
              "          const docLinkHtml = 'Like what you see? Visit the ' +\n",
              "            '<a target=\"_blank\" href=https://colab.research.google.com/notebooks/data_table.ipynb>data table notebook</a>'\n",
              "            + ' to learn more about interactive tables.';\n",
              "          element.innerHTML = '';\n",
              "          dataTable['output_type'] = 'display_data';\n",
              "          await google.colab.output.renderOutput(dataTable, element);\n",
              "          const docLink = document.createElement('div');\n",
              "          docLink.innerHTML = docLinkHtml;\n",
              "          element.appendChild(docLink);\n",
              "        }\n",
              "      </script>\n",
              "    </div>\n",
              "  </div>\n",
              "  "
            ]
          },
          "metadata": {},
          "execution_count": 22
        }
      ]
    },
    {
      "cell_type": "code",
      "source": [
        "from sklearn.feature_extraction.text import CountVectorizer, TfidfTransformer, TfidfVectorizer\n",
        "import texthero as hero \n",
        "from texthero import preprocessing\n",
        "from textblob import TextBlob \n",
        "from gensim.models import LdaModel\n",
        "from gensim import models\n",
        "from gensim import corpora\n",
        "import pyLDAvis.gensim\n",
        "from wordcloud import WordCloud, STOPWORDS\n",
        "\n",
        "# Creating Document Term Matrix\n",
        "cv=CountVectorizer(analyzer='word')\n",
        "data=cv.fit_transform(df_grouped['Content'])\n",
        "df_dtm = pd.DataFrame(data.toarray(), columns=cv.get_feature_names())\n",
        "df_dtm.index=df_grouped.index\n",
        "df_dtm.head(3)"
      ],
      "metadata": {
        "colab": {
          "base_uri": "https://localhost:8080/",
          "height": 328
        },
        "id": "cD4Yt_UkLpVe",
        "outputId": "051f9c08-60c8-4145-bd65-73ab20f8ff21"
      },
      "execution_count": 23,
      "outputs": [
        {
          "output_type": "stream",
          "name": "stderr",
          "text": [
            "[nltk_data] Downloading package stopwords to /root/nltk_data...\n",
            "[nltk_data]   Unzipping corpora/stopwords.zip.\n",
            "/usr/local/lib/python3.7/dist-packages/past/types/oldstr.py:5: DeprecationWarning: Using or importing the ABCs from 'collections' instead of from 'collections.abc' is deprecated since Python 3.3,and in 3.9 it will stop working\n",
            "  from collections import Iterable\n",
            "/usr/local/lib/python3.7/dist-packages/sklearn/utils/deprecation.py:87: FutureWarning: Function get_feature_names is deprecated; get_feature_names is deprecated in 1.0 and will be removed in 1.2. Please use get_feature_names_out instead.\n",
            "  warnings.warn(msg, category=FutureWarning)\n"
          ]
        },
        {
          "output_type": "execute_result",
          "data": {
            "text/plain": [
              "                  aa  aaa  aaaandd  aaah  aaand  aabout  aahh  aand  aandth  \\\n",
              "Author                                                                        \n",
              "! Daddy Rey#3248   0    0        0     0      0       0     0     0       0   \n",
              "!Nunu#9000         0    0        0     0      0       0     0     0       0   \n",
              "!neo#8684          0    0        0     0      0       0     0     0       0   \n",
              "\n",
              "                  aaron  ...  üôå  üôç  üôè  üôé  üôñ  œµ  œâ  œâœπœ  œä  πô  \n",
              "Author                   ...                                                  \n",
              "! Daddy Rey#3248      0  ...    0    0    0    0    0   0   0      0   0   0  \n",
              "!Nunu#9000            0  ...    0    0    0    0    0   0   0      0   0   0  \n",
              "!neo#8684             0  ...    0    0    0    0    0   0   0      0   0   0  \n",
              "\n",
              "[3 rows x 13262 columns]"
            ],
            "text/html": [
              "\n",
              "  <div id=\"df-b003739e-c6c8-4df4-b0fc-5fd9328961c8\">\n",
              "    <div class=\"colab-df-container\">\n",
              "      <div>\n",
              "<style scoped>\n",
              "    .dataframe tbody tr th:only-of-type {\n",
              "        vertical-align: middle;\n",
              "    }\n",
              "\n",
              "    .dataframe tbody tr th {\n",
              "        vertical-align: top;\n",
              "    }\n",
              "\n",
              "    .dataframe thead th {\n",
              "        text-align: right;\n",
              "    }\n",
              "</style>\n",
              "<table border=\"1\" class=\"dataframe\">\n",
              "  <thead>\n",
              "    <tr style=\"text-align: right;\">\n",
              "      <th></th>\n",
              "      <th>aa</th>\n",
              "      <th>aaa</th>\n",
              "      <th>aaaandd</th>\n",
              "      <th>aaah</th>\n",
              "      <th>aaand</th>\n",
              "      <th>aabout</th>\n",
              "      <th>aahh</th>\n",
              "      <th>aand</th>\n",
              "      <th>aandth</th>\n",
              "      <th>aaron</th>\n",
              "      <th>...</th>\n",
              "      <th>üôå</th>\n",
              "      <th>üôç</th>\n",
              "      <th>üôè</th>\n",
              "      <th>üôé</th>\n",
              "      <th>üôñ</th>\n",
              "      <th>œµ</th>\n",
              "      <th>œâ</th>\n",
              "      <th>œâœπœ</th>\n",
              "      <th>œä</th>\n",
              "      <th>πô</th>\n",
              "    </tr>\n",
              "    <tr>\n",
              "      <th>Author</th>\n",
              "      <th></th>\n",
              "      <th></th>\n",
              "      <th></th>\n",
              "      <th></th>\n",
              "      <th></th>\n",
              "      <th></th>\n",
              "      <th></th>\n",
              "      <th></th>\n",
              "      <th></th>\n",
              "      <th></th>\n",
              "      <th></th>\n",
              "      <th></th>\n",
              "      <th></th>\n",
              "      <th></th>\n",
              "      <th></th>\n",
              "      <th></th>\n",
              "      <th></th>\n",
              "      <th></th>\n",
              "      <th></th>\n",
              "      <th></th>\n",
              "      <th></th>\n",
              "    </tr>\n",
              "  </thead>\n",
              "  <tbody>\n",
              "    <tr>\n",
              "      <th>! Daddy Rey#3248</th>\n",
              "      <td>0</td>\n",
              "      <td>0</td>\n",
              "      <td>0</td>\n",
              "      <td>0</td>\n",
              "      <td>0</td>\n",
              "      <td>0</td>\n",
              "      <td>0</td>\n",
              "      <td>0</td>\n",
              "      <td>0</td>\n",
              "      <td>0</td>\n",
              "      <td>...</td>\n",
              "      <td>0</td>\n",
              "      <td>0</td>\n",
              "      <td>0</td>\n",
              "      <td>0</td>\n",
              "      <td>0</td>\n",
              "      <td>0</td>\n",
              "      <td>0</td>\n",
              "      <td>0</td>\n",
              "      <td>0</td>\n",
              "      <td>0</td>\n",
              "    </tr>\n",
              "    <tr>\n",
              "      <th>!Nunu#9000</th>\n",
              "      <td>0</td>\n",
              "      <td>0</td>\n",
              "      <td>0</td>\n",
              "      <td>0</td>\n",
              "      <td>0</td>\n",
              "      <td>0</td>\n",
              "      <td>0</td>\n",
              "      <td>0</td>\n",
              "      <td>0</td>\n",
              "      <td>0</td>\n",
              "      <td>...</td>\n",
              "      <td>0</td>\n",
              "      <td>0</td>\n",
              "      <td>0</td>\n",
              "      <td>0</td>\n",
              "      <td>0</td>\n",
              "      <td>0</td>\n",
              "      <td>0</td>\n",
              "      <td>0</td>\n",
              "      <td>0</td>\n",
              "      <td>0</td>\n",
              "    </tr>\n",
              "    <tr>\n",
              "      <th>!neo#8684</th>\n",
              "      <td>0</td>\n",
              "      <td>0</td>\n",
              "      <td>0</td>\n",
              "      <td>0</td>\n",
              "      <td>0</td>\n",
              "      <td>0</td>\n",
              "      <td>0</td>\n",
              "      <td>0</td>\n",
              "      <td>0</td>\n",
              "      <td>0</td>\n",
              "      <td>...</td>\n",
              "      <td>0</td>\n",
              "      <td>0</td>\n",
              "      <td>0</td>\n",
              "      <td>0</td>\n",
              "      <td>0</td>\n",
              "      <td>0</td>\n",
              "      <td>0</td>\n",
              "      <td>0</td>\n",
              "      <td>0</td>\n",
              "      <td>0</td>\n",
              "    </tr>\n",
              "  </tbody>\n",
              "</table>\n",
              "<p>3 rows × 13262 columns</p>\n",
              "</div>\n",
              "      <button class=\"colab-df-convert\" onclick=\"convertToInteractive('df-b003739e-c6c8-4df4-b0fc-5fd9328961c8')\"\n",
              "              title=\"Convert this dataframe to an interactive table.\"\n",
              "              style=\"display:none;\">\n",
              "        \n",
              "  <svg xmlns=\"http://www.w3.org/2000/svg\" height=\"24px\"viewBox=\"0 0 24 24\"\n",
              "       width=\"24px\">\n",
              "    <path d=\"M0 0h24v24H0V0z\" fill=\"none\"/>\n",
              "    <path d=\"M18.56 5.44l.94 2.06.94-2.06 2.06-.94-2.06-.94-.94-2.06-.94 2.06-2.06.94zm-11 1L8.5 8.5l.94-2.06 2.06-.94-2.06-.94L8.5 2.5l-.94 2.06-2.06.94zm10 10l.94 2.06.94-2.06 2.06-.94-2.06-.94-.94-2.06-.94 2.06-2.06.94z\"/><path d=\"M17.41 7.96l-1.37-1.37c-.4-.4-.92-.59-1.43-.59-.52 0-1.04.2-1.43.59L10.3 9.45l-7.72 7.72c-.78.78-.78 2.05 0 2.83L4 21.41c.39.39.9.59 1.41.59.51 0 1.02-.2 1.41-.59l7.78-7.78 2.81-2.81c.8-.78.8-2.07 0-2.86zM5.41 20L4 18.59l7.72-7.72 1.47 1.35L5.41 20z\"/>\n",
              "  </svg>\n",
              "      </button>\n",
              "      \n",
              "  <style>\n",
              "    .colab-df-container {\n",
              "      display:flex;\n",
              "      flex-wrap:wrap;\n",
              "      gap: 12px;\n",
              "    }\n",
              "\n",
              "    .colab-df-convert {\n",
              "      background-color: #E8F0FE;\n",
              "      border: none;\n",
              "      border-radius: 50%;\n",
              "      cursor: pointer;\n",
              "      display: none;\n",
              "      fill: #1967D2;\n",
              "      height: 32px;\n",
              "      padding: 0 0 0 0;\n",
              "      width: 32px;\n",
              "    }\n",
              "\n",
              "    .colab-df-convert:hover {\n",
              "      background-color: #E2EBFA;\n",
              "      box-shadow: 0px 1px 2px rgba(60, 64, 67, 0.3), 0px 1px 3px 1px rgba(60, 64, 67, 0.15);\n",
              "      fill: #174EA6;\n",
              "    }\n",
              "\n",
              "    [theme=dark] .colab-df-convert {\n",
              "      background-color: #3B4455;\n",
              "      fill: #D2E3FC;\n",
              "    }\n",
              "\n",
              "    [theme=dark] .colab-df-convert:hover {\n",
              "      background-color: #434B5C;\n",
              "      box-shadow: 0px 1px 3px 1px rgba(0, 0, 0, 0.15);\n",
              "      filter: drop-shadow(0px 1px 2px rgba(0, 0, 0, 0.3));\n",
              "      fill: #FFFFFF;\n",
              "    }\n",
              "  </style>\n",
              "\n",
              "      <script>\n",
              "        const buttonEl =\n",
              "          document.querySelector('#df-b003739e-c6c8-4df4-b0fc-5fd9328961c8 button.colab-df-convert');\n",
              "        buttonEl.style.display =\n",
              "          google.colab.kernel.accessAllowed ? 'block' : 'none';\n",
              "\n",
              "        async function convertToInteractive(key) {\n",
              "          const element = document.querySelector('#df-b003739e-c6c8-4df4-b0fc-5fd9328961c8');\n",
              "          const dataTable =\n",
              "            await google.colab.kernel.invokeFunction('convertToInteractive',\n",
              "                                                     [key], {});\n",
              "          if (!dataTable) return;\n",
              "\n",
              "          const docLinkHtml = 'Like what you see? Visit the ' +\n",
              "            '<a target=\"_blank\" href=https://colab.research.google.com/notebooks/data_table.ipynb>data table notebook</a>'\n",
              "            + ' to learn more about interactive tables.';\n",
              "          element.innerHTML = '';\n",
              "          dataTable['output_type'] = 'display_data';\n",
              "          await google.colab.output.renderOutput(dataTable, element);\n",
              "          const docLink = document.createElement('div');\n",
              "          docLink.innerHTML = docLinkHtml;\n",
              "          element.appendChild(docLink);\n",
              "        }\n",
              "      </script>\n",
              "    </div>\n",
              "  </div>\n",
              "  "
            ]
          },
          "metadata": {},
          "execution_count": 23
        }
      ]
    },
    {
      "cell_type": "code",
      "source": [
        "# creating a custom pipeline to preprocess the raw text we have\n",
        "df_grouped['Content'] = hero.remove_stopwords(df_grouped['Content'])\n",
        "custom_pipeline = [preprocessing.fillna\n",
        "                   , preprocessing.lowercase\n",
        "                   , preprocessing.remove_digits\n",
        "                   , preprocessing.remove_punctuation\n",
        "                   , preprocessing.remove_diacritics\n",
        "                   , preprocessing.remove_stopwords\n",
        "                   , preprocessing.remove_whitespace\n",
        "                   , preprocessing.stem]\n",
        "\n",
        "# simply call clean() method to clean the raw text in 'tweet' col and pass the custom_pipeline to pipeline argument\n",
        "df_grouped['Content'] = hero.clean(df_grouped['Content'], pipeline = custom_pipeline)"
      ],
      "metadata": {
        "id": "e6dEpWXyL2UD"
      },
      "execution_count": 24,
      "outputs": []
    },
    {
      "cell_type": "code",
      "source": [
        "print(df_grouped)"
      ],
      "metadata": {
        "colab": {
          "base_uri": "https://localhost:8080/"
        },
        "id": "OVaCqqfKMS6p",
        "outputId": "1ba029d1-2a97-423f-d761-fcaf1724f8d6"
      },
      "execution_count": 25,
      "outputs": [
        {
          "output_type": "stream",
          "name": "stdout",
          "text": [
            "                                                                           Content\n",
            "Author                                                                            \n",
            "! Daddy Rey#3248                 year old mad make joke cheer peopl lmfaoo want...\n",
            "!Nunu#9000                       good thing u break love makeov day hard keep c...\n",
            "!neo#8684                        suicid aot answer pass problem peopl chanc day...\n",
            "$>sp7r7t<$#0773                  blame pain side spectrum bad feel world person...\n",
            "(T y l e r)#5353                   care oooo recent lose famili member get tab bit\n",
            "...                                                                            ...\n",
            "üíúKamekoüíú#5107              suppos stress make stress oao lol matter think...\n",
            "üíû~ùòãùò¶ùò∏ùò∫~üíï#6367  mean let know ao interest sexual relat use pro...\n",
            "üñ§Writer_By_Nightüñ§#7103     feel work long close like close peopl start no...\n",
            "üòàüòàüòà‚ù§#3570             zoink scoob u goodby u love hope u kitter ur a...\n",
            "ü•ÄSomiü•Ä#9186                    dr nurs school aod antibiot u neosporin cover\n",
            "\n",
            "[990 rows x 1 columns]\n"
          ]
        }
      ]
    },
    {
      "cell_type": "code",
      "source": [
        "hero.top_words(df_grouped['Content']).head(10).plot.bar(figsize=(10,10))\n",
        "plt.title('Barplot showing Top N Words from user comments')\n",
        "plt.ylabel('Number of occurances of each word')\n",
        "plt.show()"
      ],
      "metadata": {
        "colab": {
          "base_uri": "https://localhost:8080/",
          "height": 625
        },
        "id": "uP1QP5wG60zF",
        "outputId": "093a3873-a770-488e-d849-3276fa6dc1d4"
      },
      "execution_count": 26,
      "outputs": [
        {
          "output_type": "display_data",
          "data": {
            "text/plain": [
              "<Figure size 720x720 with 1 Axes>"
            ],
            "image/png": "[encoded data removed]"
          },
          "metadata": {
            "needs_background": "light"
          }
        }
      ]
    },
    {
      "cell_type": "code",
      "source": [
        "# using top_words() method, get the top N words and make a bar plot.\n",
        "top_words=hero.top_words(df_grouped['Content'])\n",
        "top_words"
      ],
      "metadata": {
        "colab": {
          "base_uri": "https://localhost:8080/"
        },
        "id": "J0dj_PbsMVgp",
        "outputId": "27dfba3f-1541-4122-fca9-75e3f122cd49"
      },
      "execution_count": 27,
      "outputs": [
        {
          "output_type": "execute_result",
          "data": {
            "text/plain": [
              "like           6680\n",
              "feel           5092\n",
              "know           3937\n",
              "want           3781\n",
              "peopl          3390\n",
              "               ... \n",
              "tefaya            1\n",
              "yearn             1\n",
              "unleash           1\n",
              "fearpressur       1\n",
              "neosporin         1\n",
              "Name: Content, Length: 11670, dtype: int64"
            ]
          },
          "metadata": {},
          "execution_count": 27
        }
      ]
    },
    {
      "cell_type": "code",
      "source": [
        "from texthero import stopwords\n",
        "default_stopwords = stopwords.DEFAULT\n",
        "#add a list of stopwords to the stopwords\n",
        "stop_w = [\"get\", \"know\", \"peopl\", \"think\", \"go\", \"thing\", \"thi\", \"talk\", \"time\", \"friend\", \"tri\", \"want\", \"feel\", \"make\", \"like\", \"one\", \"realli\", \"say\", \"could\", \"got\", \"see\", \"also\", \"wanna\", \"look\", \"mayb\", \"keep\", \"still\", \"way\", \"aony\", \"im\", \"me\", \"you\", \"aot\", \"said\", \"day\", \"=\", \"i\", \"would\", \"right\", \"alway\", \"happen\", \",\", \".\", \"aon\", \"aom\"]\n",
        "custom_stopwords = default_stopwords.union(set(stop_w))\n",
        "#Call remove_stopwords and pass the custom_stopwords list\n",
        "df_grouped['Content'] = hero.remove_stopwords(df_grouped['Content'], custom_stopwords)"
      ],
      "metadata": {
        "id": "5QQcujdwMprZ"
      },
      "execution_count": 28,
      "outputs": []
    },
    {
      "cell_type": "code",
      "source": [
        "hero.visualization.wordcloud(df_grouped['Content'],width = 400, height= 400,background_color='White')\n",
        "plt.title('Wordcloud showing top N words removing stopwords')"
      ],
      "metadata": {
        "colab": {
          "base_uri": "https://localhost:8080/",
          "height": 608
        },
        "id": "HR9CzCsd7DCy",
        "outputId": "d22201cf-9ba1-48f1-e5d1-73e7034e47c1"
      },
      "execution_count": 29,
      "outputs": [
        {
          "output_type": "execute_result",
          "data": {
            "text/plain": [
              "Text(0.5, 1.0, 'Wordcloud showing top N words removing stopwords')"
            ]
          },
          "metadata": {},
          "execution_count": 29
        },
        {
          "output_type": "display_data",
          "data": {
            "text/plain": [
              "<Figure size 1440x720 with 1 Axes>"
            ],
            "image/png": "[encoded data removed]"
          },
          "metadata": {
            "needs_background": "light"
          }
        }
      ]
    },
    {
      "cell_type": "code",
      "source": [
        "# Applying Lambda function on comments column to notice positive sentiment among customers. For this, we search for comments like \"good, great, like, best, enjoy.\"\n",
        "searchfor = ['good', 'great', 'like', 'best', 'enjoy','must', 'love', 'clean']\n",
        "df_grouped[\"positive_sentiment\"] = df_grouped['Content'].apply(lambda x: 1 if any(i in x for i in searchfor) else 0) \n",
        "df_grouped.tail(6)"
      ],
      "metadata": {
        "colab": {
          "base_uri": "https://localhost:8080/",
          "height": 269
        },
        "id": "PgzohBzw-pUD",
        "outputId": "71d001a7-e37d-4cf0-df79-fed3abf2eff7"
      },
      "execution_count": 30,
      "outputs": [
        {
          "output_type": "execute_result",
          "data": {
            "text/plain": [
              "                                                                           Content  \\\n",
              "Author                                                                               \n",
              "üíúDreamerTheWolfFoxüíö#7237     stuff find manhattan bridg bodi find river  ago   \n",
              "üíúKamekoüíú#5107              suppos stress  stress oao lol matter  suicid m...   \n",
              "üíû~ùòãùò¶ùò∏ùò∫~üíï#6367  mean let  ao interest sexual relat use protect...   \n",
              "üñ§Writer_By_Nightüñ§#7103      work long close  close  start notic justterri...   \n",
              "üòàüòàüòà‚ù§#3570             zoink scoob u goodby u love hope u kitter ur  ...   \n",
              "ü•ÄSomiü•Ä#9186                    dr nurs school aod antibiot u neosporin cover   \n",
              "\n",
              "                                 positive_sentiment  \n",
              "Author                                               \n",
              "üíúDreamerTheWolfFoxüíö#7237                    0  \n",
              "üíúKamekoüíú#5107                               1  \n",
              "üíû~ùòãùò¶ùò∏ùò∫~üíï#6367                   0  \n",
              "üñ§Writer_By_Nightüñ§#7103                      1  \n",
              "üòàüòàüòà‚ù§#3570                              1  \n",
              "ü•ÄSomiü•Ä#9186                                 0  "
            ],
            "text/html": [
              "\n",
              "  <div id=\"df-3a7225b9-3b69-41f3-83a6-6ae1d8f58737\">\n",
              "    <div class=\"colab-df-container\">\n",
              "      <div>\n",
              "<style scoped>\n",
              "    .dataframe tbody tr th:only-of-type {\n",
              "        vertical-align: middle;\n",
              "    }\n",
              "\n",
              "    .dataframe tbody tr th {\n",
              "        vertical-align: top;\n",
              "    }\n",
              "\n",
              "    .dataframe thead th {\n",
              "        text-align: right;\n",
              "    }\n",
              "</style>\n",
              "<table border=\"1\" class=\"dataframe\">\n",
              "  <thead>\n",
              "    <tr style=\"text-align: right;\">\n",
              "      <th></th>\n",
              "      <th>Content</th>\n",
              "      <th>positive_sentiment</th>\n",
              "    </tr>\n",
              "    <tr>\n",
              "      <th>Author</th>\n",
              "      <th></th>\n",
              "      <th></th>\n",
              "    </tr>\n",
              "  </thead>\n",
              "  <tbody>\n",
              "    <tr>\n",
              "      <th>üíúDreamerTheWolfFoxüíö#7237</th>\n",
              "      <td>stuff find manhattan bridg bodi find river  ago</td>\n",
              "      <td>0</td>\n",
              "    </tr>\n",
              "    <tr>\n",
              "      <th>üíúKamekoüíú#5107</th>\n",
              "      <td>suppos stress  stress oao lol matter  suicid m...</td>\n",
              "      <td>1</td>\n",
              "    </tr>\n",
              "    <tr>\n",
              "      <th>üíû~ùòãùò¶ùò∏ùò∫~üíï#6367</th>\n",
              "      <td>mean let  ao interest sexual relat use protect...</td>\n",
              "      <td>0</td>\n",
              "    </tr>\n",
              "    <tr>\n",
              "      <th>üñ§Writer_By_Nightüñ§#7103</th>\n",
              "      <td>work long close  close  start notic justterri...</td>\n",
              "      <td>1</td>\n",
              "    </tr>\n",
              "    <tr>\n",
              "      <th>üòàüòàüòà‚ù§#3570</th>\n",
              "      <td>zoink scoob u goodby u love hope u kitter ur  ...</td>\n",
              "      <td>1</td>\n",
              "    </tr>\n",
              "    <tr>\n",
              "      <th>ü•ÄSomiü•Ä#9186</th>\n",
              "      <td>dr nurs school aod antibiot u neosporin cover</td>\n",
              "      <td>0</td>\n",
              "    </tr>\n",
              "  </tbody>\n",
              "</table>\n",
              "</div>\n",
              "      <button class=\"colab-df-convert\" onclick=\"convertToInteractive('df-3a7225b9-3b69-41f3-83a6-6ae1d8f58737')\"\n",
              "              title=\"Convert this dataframe to an interactive table.\"\n",
              "              style=\"display:none;\">\n",
              "        \n",
              "  <svg xmlns=\"http://www.w3.org/2000/svg\" height=\"24px\"viewBox=\"0 0 24 24\"\n",
              "       width=\"24px\">\n",
              "    <path d=\"M0 0h24v24H0V0z\" fill=\"none\"/>\n",
              "    <path d=\"M18.56 5.44l.94 2.06.94-2.06 2.06-.94-2.06-.94-.94-2.06-.94 2.06-2.06.94zm-11 1L8.5 8.5l.94-2.06 2.06-.94-2.06-.94L8.5 2.5l-.94 2.06-2.06.94zm10 10l.94 2.06.94-2.06 2.06-.94-2.06-.94-.94-2.06-.94 2.06-2.06.94z\"/><path d=\"M17.41 7.96l-1.37-1.37c-.4-.4-.92-.59-1.43-.59-.52 0-1.04.2-1.43.59L10.3 9.45l-7.72 7.72c-.78.78-.78 2.05 0 2.83L4 21.41c.39.39.9.59 1.41.59.51 0 1.02-.2 1.41-.59l7.78-7.78 2.81-2.81c.8-.78.8-2.07 0-2.86zM5.41 20L4 18.59l7.72-7.72 1.47 1.35L5.41 20z\"/>\n",
              "  </svg>\n",
              "      </button>\n",
              "      \n",
              "  <style>\n",
              "    .colab-df-container {\n",
              "      display:flex;\n",
              "      flex-wrap:wrap;\n",
              "      gap: 12px;\n",
              "    }\n",
              "\n",
              "    .colab-df-convert {\n",
              "      background-color: #E8F0FE;\n",
              "      border: none;\n",
              "      border-radius: 50%;\n",
              "      cursor: pointer;\n",
              "      display: none;\n",
              "      fill: #1967D2;\n",
              "      height: 32px;\n",
              "      padding: 0 0 0 0;\n",
              "      width: 32px;\n",
              "    }\n",
              "\n",
              "    .colab-df-convert:hover {\n",
              "      background-color: #E2EBFA;\n",
              "      box-shadow: 0px 1px 2px rgba(60, 64, 67, 0.3), 0px 1px 3px 1px rgba(60, 64, 67, 0.15);\n",
              "      fill: #174EA6;\n",
              "    }\n",
              "\n",
              "    [theme=dark] .colab-df-convert {\n",
              "      background-color: #3B4455;\n",
              "      fill: #D2E3FC;\n",
              "    }\n",
              "\n",
              "    [theme=dark] .colab-df-convert:hover {\n",
              "      background-color: #434B5C;\n",
              "      box-shadow: 0px 1px 3px 1px rgba(0, 0, 0, 0.15);\n",
              "      filter: drop-shadow(0px 1px 2px rgba(0, 0, 0, 0.3));\n",
              "      fill: #FFFFFF;\n",
              "    }\n",
              "  </style>\n",
              "\n",
              "      <script>\n",
              "        const buttonEl =\n",
              "          document.querySelector('#df-3a7225b9-3b69-41f3-83a6-6ae1d8f58737 button.colab-df-convert');\n",
              "        buttonEl.style.display =\n",
              "          google.colab.kernel.accessAllowed ? 'block' : 'none';\n",
              "\n",
              "        async function convertToInteractive(key) {\n",
              "          const element = document.querySelector('#df-3a7225b9-3b69-41f3-83a6-6ae1d8f58737');\n",
              "          const dataTable =\n",
              "            await google.colab.kernel.invokeFunction('convertToInteractive',\n",
              "                                                     [key], {});\n",
              "          if (!dataTable) return;\n",
              "\n",
              "          const docLinkHtml = 'Like what you see? Visit the ' +\n",
              "            '<a target=\"_blank\" href=https://colab.research.google.com/notebooks/data_table.ipynb>data table notebook</a>'\n",
              "            + ' to learn more about interactive tables.';\n",
              "          element.innerHTML = '';\n",
              "          dataTable['output_type'] = 'display_data';\n",
              "          await google.colab.output.renderOutput(dataTable, element);\n",
              "          const docLink = document.createElement('div');\n",
              "          docLink.innerHTML = docLinkHtml;\n",
              "          element.appendChild(docLink);\n",
              "        }\n",
              "      </script>\n",
              "    </div>\n",
              "  </div>\n",
              "  "
            ]
          },
          "metadata": {},
          "execution_count": 30
        }
      ]
    },
    {
      "cell_type": "markdown",
      "source": [
        "Performing Basic Sentiment Analysis:\n",
        "\n",
        "The sentiment property returns a namedtuple of the form Sentiment(polarity, subjectivity).\n",
        "\n",
        "The polarity score is a float within the range [-1.0, 1.0].\n",
        "\n",
        "The subjectivity is a float within the range [0.0, 1.0] where 0.0 is very objective and 1.0 is very subjective."
      ],
      "metadata": {
        "id": "VEEbQYEfFB0T"
      }
    },
    {
      "cell_type": "code",
      "source": [
        "df_grouped[['polarity', 'subjectivity']] = df_grouped['Content'].apply(lambda Text: pd.Series(TextBlob(Text).sentiment)) #Checking polarity and subjectivity using sentiment property\n",
        "df_grouped"
      ],
      "metadata": {
        "colab": {
          "base_uri": "https://localhost:8080/",
          "height": 455
        },
        "id": "m47walzb-psv",
        "outputId": "d03295b9-9044-4e03-861f-ebcb761cb1a1"
      },
      "execution_count": 31,
      "outputs": [
        {
          "output_type": "execute_result",
          "data": {
            "text/plain": [
              "                                                                           Content  \\\n",
              "Author                                                                               \n",
              "! Daddy Rey#3248                 year old mad  joke cheer  lmfaoo  lmao u  bout...   \n",
              "!Nunu#9000                       good  u break love makeov  hard  check discord...   \n",
              "!neo#8684                        suicid  answer pass problem  chanc     negat  ...   \n",
              "$>sp7r7t<$#0773                  blame pain side spectrum bad  world person   h...   \n",
              "(T y l e r)#5353                      care oooo recent lose famili member  tab bit   \n",
              "...                                                                            ...   \n",
              "üíúKamekoüíú#5107              suppos stress  stress oao lol matter  suicid m...   \n",
              "üíû~ùòãùò¶ùò∏ùò∫~üíï#6367  mean let  ao interest sexual relat use protect...   \n",
              "üñ§Writer_By_Nightüñ§#7103      work long close  close  start notic justterri...   \n",
              "üòàüòàüòà‚ù§#3570             zoink scoob u goodby u love hope u kitter ur  ...   \n",
              "ü•ÄSomiü•Ä#9186                    dr nurs school aod antibiot u neosporin cover   \n",
              "\n",
              "                                 positive_sentiment  polarity  subjectivity  \n",
              "Author                                                                       \n",
              "! Daddy Rey#3248                                  0 -0.084524      0.542857  \n",
              "!Nunu#9000                                        1  0.005357      0.613690  \n",
              "!neo#8684                                         0  0.000000      0.000000  \n",
              "$>sp7r7t<$#0773                                   1 -0.067361      0.682639  \n",
              "(T y l e r)#5353                                  0  0.000000      0.250000  \n",
              "...                                             ...       ...           ...  \n",
              "üíúKamekoüíú#5107                               1 -0.004346      0.553068  \n",
              "üíû~ùòãùò¶ùò∏ùò∫~üíï#6367                   0  0.044494      0.630208  \n",
              "üñ§Writer_By_Nightüñ§#7103                      1 -0.114916      0.557920  \n",
              "üòàüòàüòà‚ù§#3570                              1  0.500000      0.600000  \n",
              "ü•ÄSomiü•Ä#9186                                 0  0.000000      0.000000  \n",
              "\n",
              "[990 rows x 4 columns]"
            ],
            "text/html": [
              "\n",
              "  <div id=\"df-f7f33ec8-0478-4b93-9eff-e331a5fb6ece\">\n",
              "    <div class=\"colab-df-container\">\n",
              "      <div>\n",
              "<style scoped>\n",
              "    .dataframe tbody tr th:only-of-type {\n",
              "        vertical-align: middle;\n",
              "    }\n",
              "\n",
              "    .dataframe tbody tr th {\n",
              "        vertical-align: top;\n",
              "    }\n",
              "\n",
              "    .dataframe thead th {\n",
              "        text-align: right;\n",
              "    }\n",
              "</style>\n",
              "<table border=\"1\" class=\"dataframe\">\n",
              "  <thead>\n",
              "    <tr style=\"text-align: right;\">\n",
              "      <th></th>\n",
              "      <th>Content</th>\n",
              "      <th>positive_sentiment</th>\n",
              "      <th>polarity</th>\n",
              "      <th>subjectivity</th>\n",
              "    </tr>\n",
              "    <tr>\n",
              "      <th>Author</th>\n",
              "      <th></th>\n",
              "      <th></th>\n",
              "      <th></th>\n",
              "      <th></th>\n",
              "    </tr>\n",
              "  </thead>\n",
              "  <tbody>\n",
              "    <tr>\n",
              "      <th>! Daddy Rey#3248</th>\n",
              "      <td>year old mad  joke cheer  lmfaoo  lmao u  bout...</td>\n",
              "      <td>0</td>\n",
              "      <td>-0.084524</td>\n",
              "      <td>0.542857</td>\n",
              "    </tr>\n",
              "    <tr>\n",
              "      <th>!Nunu#9000</th>\n",
              "      <td>good  u break love makeov  hard  check discord...</td>\n",
              "      <td>1</td>\n",
              "      <td>0.005357</td>\n",
              "      <td>0.613690</td>\n",
              "    </tr>\n",
              "    <tr>\n",
              "      <th>!neo#8684</th>\n",
              "      <td>suicid  answer pass problem  chanc     negat  ...</td>\n",
              "      <td>0</td>\n",
              "      <td>0.000000</td>\n",
              "      <td>0.000000</td>\n",
              "    </tr>\n",
              "    <tr>\n",
              "      <th>$&gt;sp7r7t&lt;$#0773</th>\n",
              "      <td>blame pain side spectrum bad  world person   h...</td>\n",
              "      <td>1</td>\n",
              "      <td>-0.067361</td>\n",
              "      <td>0.682639</td>\n",
              "    </tr>\n",
              "    <tr>\n",
              "      <th>(T y l e r)#5353</th>\n",
              "      <td>care oooo recent lose famili member  tab bit</td>\n",
              "      <td>0</td>\n",
              "      <td>0.000000</td>\n",
              "      <td>0.250000</td>\n",
              "    </tr>\n",
              "    <tr>\n",
              "      <th>...</th>\n",
              "      <td>...</td>\n",
              "      <td>...</td>\n",
              "      <td>...</td>\n",
              "      <td>...</td>\n",
              "    </tr>\n",
              "    <tr>\n",
              "      <th>üíúKamekoüíú#5107</th>\n",
              "      <td>suppos stress  stress oao lol matter  suicid m...</td>\n",
              "      <td>1</td>\n",
              "      <td>-0.004346</td>\n",
              "      <td>0.553068</td>\n",
              "    </tr>\n",
              "    <tr>\n",
              "      <th>üíû~ùòãùò¶ùò∏ùò∫~üíï#6367</th>\n",
              "      <td>mean let  ao interest sexual relat use protect...</td>\n",
              "      <td>0</td>\n",
              "      <td>0.044494</td>\n",
              "      <td>0.630208</td>\n",
              "    </tr>\n",
              "    <tr>\n",
              "      <th>üñ§Writer_By_Nightüñ§#7103</th>\n",
              "      <td>work long close  close  start notic justterri...</td>\n",
              "      <td>1</td>\n",
              "      <td>-0.114916</td>\n",
              "      <td>0.557920</td>\n",
              "    </tr>\n",
              "    <tr>\n",
              "      <th>üòàüòàüòà‚ù§#3570</th>\n",
              "      <td>zoink scoob u goodby u love hope u kitter ur  ...</td>\n",
              "      <td>1</td>\n",
              "      <td>0.500000</td>\n",
              "      <td>0.600000</td>\n",
              "    </tr>\n",
              "    <tr>\n",
              "      <th>ü•ÄSomiü•Ä#9186</th>\n",
              "      <td>dr nurs school aod antibiot u neosporin cover</td>\n",
              "      <td>0</td>\n",
              "      <td>0.000000</td>\n",
              "      <td>0.000000</td>\n",
              "    </tr>\n",
              "  </tbody>\n",
              "</table>\n",
              "<p>990 rows × 4 columns</p>\n",
              "</div>\n",
              "      <button class=\"colab-df-convert\" onclick=\"convertToInteractive('df-f7f33ec8-0478-4b93-9eff-e331a5fb6ece')\"\n",
              "              title=\"Convert this dataframe to an interactive table.\"\n",
              "              style=\"display:none;\">\n",
              "        \n",
              "  <svg xmlns=\"http://www.w3.org/2000/svg\" height=\"24px\"viewBox=\"0 0 24 24\"\n",
              "       width=\"24px\">\n",
              "    <path d=\"M0 0h24v24H0V0z\" fill=\"none\"/>\n",
              "    <path d=\"M18.56 5.44l.94 2.06.94-2.06 2.06-.94-2.06-.94-.94-2.06-.94 2.06-2.06.94zm-11 1L8.5 8.5l.94-2.06 2.06-.94-2.06-.94L8.5 2.5l-.94 2.06-2.06.94zm10 10l.94 2.06.94-2.06 2.06-.94-2.06-.94-.94-2.06-.94 2.06-2.06.94z\"/><path d=\"M17.41 7.96l-1.37-1.37c-.4-.4-.92-.59-1.43-.59-.52 0-1.04.2-1.43.59L10.3 9.45l-7.72 7.72c-.78.78-.78 2.05 0 2.83L4 21.41c.39.39.9.59 1.41.59.51 0 1.02-.2 1.41-.59l7.78-7.78 2.81-2.81c.8-.78.8-2.07 0-2.86zM5.41 20L4 18.59l7.72-7.72 1.47 1.35L5.41 20z\"/>\n",
              "  </svg>\n",
              "      </button>\n",
              "      \n",
              "  <style>\n",
              "    .colab-df-container {\n",
              "      display:flex;\n",
              "      flex-wrap:wrap;\n",
              "      gap: 12px;\n",
              "    }\n",
              "\n",
              "    .colab-df-convert {\n",
              "      background-color: #E8F0FE;\n",
              "      border: none;\n",
              "      border-radius: 50%;\n",
              "      cursor: pointer;\n",
              "      display: none;\n",
              "      fill: #1967D2;\n",
              "      height: 32px;\n",
              "      padding: 0 0 0 0;\n",
              "      width: 32px;\n",
              "    }\n",
              "\n",
              "    .colab-df-convert:hover {\n",
              "      background-color: #E2EBFA;\n",
              "      box-shadow: 0px 1px 2px rgba(60, 64, 67, 0.3), 0px 1px 3px 1px rgba(60, 64, 67, 0.15);\n",
              "      fill: #174EA6;\n",
              "    }\n",
              "\n",
              "    [theme=dark] .colab-df-convert {\n",
              "      background-color: #3B4455;\n",
              "      fill: #D2E3FC;\n",
              "    }\n",
              "\n",
              "    [theme=dark] .colab-df-convert:hover {\n",
              "      background-color: #434B5C;\n",
              "      box-shadow: 0px 1px 3px 1px rgba(0, 0, 0, 0.15);\n",
              "      filter: drop-shadow(0px 1px 2px rgba(0, 0, 0, 0.3));\n",
              "      fill: #FFFFFF;\n",
              "    }\n",
              "  </style>\n",
              "\n",
              "      <script>\n",
              "        const buttonEl =\n",
              "          document.querySelector('#df-f7f33ec8-0478-4b93-9eff-e331a5fb6ece button.colab-df-convert');\n",
              "        buttonEl.style.display =\n",
              "          google.colab.kernel.accessAllowed ? 'block' : 'none';\n",
              "\n",
              "        async function convertToInteractive(key) {\n",
              "          const element = document.querySelector('#df-f7f33ec8-0478-4b93-9eff-e331a5fb6ece');\n",
              "          const dataTable =\n",
              "            await google.colab.kernel.invokeFunction('convertToInteractive',\n",
              "                                                     [key], {});\n",
              "          if (!dataTable) return;\n",
              "\n",
              "          const docLinkHtml = 'Like what you see? Visit the ' +\n",
              "            '<a target=\"_blank\" href=https://colab.research.google.com/notebooks/data_table.ipynb>data table notebook</a>'\n",
              "            + ' to learn more about interactive tables.';\n",
              "          element.innerHTML = '';\n",
              "          dataTable['output_type'] = 'display_data';\n",
              "          await google.colab.output.renderOutput(dataTable, element);\n",
              "          const docLink = document.createElement('div');\n",
              "          docLink.innerHTML = docLinkHtml;\n",
              "          element.appendChild(docLink);\n",
              "        }\n",
              "      </script>\n",
              "    </div>\n",
              "  </div>\n",
              "  "
            ]
          },
          "metadata": {},
          "execution_count": 31
        }
      ]
    },
    {
      "cell_type": "code",
      "source": [
        "Author_polarity_sorted=pd.DataFrame(df_grouped.groupby('Author')['polarity'].mean().sort_values(ascending=True))\n",
        "\n",
        "plt.figure(figsize=(16,8))\n",
        "plt.xlabel('Polarity')\n",
        "plt.ylabel('Comments')\n",
        "plt.title('Polarity of Different User Comments')\n",
        "polarity_graph=plt.barh(np.arange(len(Author_polarity_sorted.index)),Author_polarity_sorted['polarity'],color='purple',)\n",
        "\n",
        "# Writing product names on bar\n",
        "for bar,Author in zip(polarity_graph,Author_polarity_sorted.index):\n",
        "  plt.text(0.005,bar.get_y()+bar.get_width(),'{}'.format(Author),va='center',fontsize=11,color='white')\n",
        "\n",
        "# Writing polarity values on graph\n",
        "for bar,polarity in zip(polarity_graph,Author_polarity_sorted['polarity']):\n",
        "  plt.text(bar.get_width()+0.001,bar.get_y()+bar.get_width(),'%.3f'%polarity,va='center',fontsize=11,color='black')\n",
        "  \n",
        "plt.yticks([])\n",
        "plt.show()"
      ],
      "metadata": {
        "colab": {
          "base_uri": "https://localhost:8080/",
          "height": 582
        },
        "id": "xt2MQkz6_-u5",
        "outputId": "8e4d5b2b-6124-4cfd-ee66-50c1ff242033"
      },
      "execution_count": 32,
      "outputs": [
        {
          "output_type": "stream",
          "name": "stderr",
          "text": [
            "/usr/local/lib/python3.7/dist-packages/matplotlib/backends/backend_agg.py:214: RuntimeWarning: Glyph 63743 missing from current font.\n",
            "  font.set_text(s, 0.0, flags=flags)\n",
            "/usr/local/lib/python3.7/dist-packages/matplotlib/backends/backend_agg.py:183: RuntimeWarning: Glyph 63743 missing from current font.\n",
            "  font.set_text(s, 0, flags=flags)\n"
          ]
        },
        {
          "output_type": "display_data",
          "data": {
            "text/plain": [
              "<Figure size 1152x576 with 1 Axes>"
            ],
            "image/png": "[encoded data removed]"
          },
          "metadata": {
            "needs_background": "light"
          }
        }
      ]
    },
    {
      "cell_type": "markdown",
      "source": [
        "# Build Random Forest Models for Each Symptom"
      ],
      "metadata": {
        "id": "GoM7hkrpGMt8"
      }
    },
    {
      "cell_type": "code",
      "source": [
        "from sklearn.metrics import accuracy_score\n",
        "from sklearn import metrics\n",
        "from sklearn.metrics import classification_report\n",
        "from sklearn.metrics import confusion_matrix\n",
        "from sklearn.metrics import plot_confusion_matrix\n",
        "from sklearn.metrics import roc_curve, auc\n",
        "from sklearn.metrics import roc_auc_score\n",
        "\n",
        "# Define a function to plot AUC metric\n",
        "def plot_auc(dep_test, preds):\n",
        "  fpr, tpr, t = roc_curve(dep_test, preds, pos_label=1)\n",
        "  auc_score = roc_auc_score(dep_test, preds)\n",
        "\n",
        "  base = [0 for i in range(len(dep_test))]\n",
        "  fpr0, tpr0, t0 = roc_curve(dep_test, base, pos_label=1)\n",
        "\n",
        "  print('AUC:', auc_score)\n",
        "\n",
        "  plt.plot(fpr, tpr, linestyle='-',color='green', label='Naive Bayes')\n",
        "  plt.plot(fpr0, tpr0, linestyle='--', color='blue')\n",
        "\n",
        "  plt.title('ROC')\n",
        "  plt.xlabel('False Positive Rate')\n",
        "  plt.ylabel('True Positive rate')\n",
        "\n",
        "  plt.legend()\n",
        "  plt.show();\n",
        "\n",
        "# Define a function to plot training history for neural network \n",
        "def plot_history(history):\n",
        "    acc = history.history['accuracy']\n",
        "    val_acc = history.history['val_accuracy']\n",
        "    loss = history.history['loss']\n",
        "    val_loss = history.history['val_loss']\n",
        "    x = range(1, len(acc) + 1)\n",
        "\n",
        "    plt.figure(figsize=(12, 5))\n",
        "    plt.subplot(1, 2, 1)\n",
        "    plt.plot(x, acc, 'b', label='Training acc')\n",
        "    plt.plot(x, val_acc, 'r', label='Validation acc')\n",
        "    plt.title('Training and validation accuracy')\n",
        "    plt.legend()\n",
        "    plt.subplot(1, 2, 2)\n",
        "    plt.plot(x, loss, 'b', label='Training loss')\n",
        "    plt.plot(x, val_loss, 'r', label='Validation loss')\n",
        "    plt.title('Training and validation loss')\n",
        "    plt.legend()"
      ],
      "metadata": {
        "id": "pPjxeykaAQnZ"
      },
      "execution_count": 33,
      "outputs": []
    },
    {
      "cell_type": "markdown",
      "source": [
        "## Symptom 1"
      ],
      "metadata": {
        "id": "HvA1JVmHS1ka"
      }
    },
    {
      "cell_type": "code",
      "source": [
        "# Set indicator for symptoms except symp 1 to 0\n",
        "df_symp_one_Y = df[df['symp_one']==1][['ID','Content','symp_one']]\n",
        "df_symp_one_Y=df_symp_one_Y.rename(columns={'symp_one':'symp'})\n",
        "\n",
        "df_symp_two_Y = df[df['symp_two']== 1][['ID','Content','symp_two']]\n",
        "df_symp_two_Y=df_symp_two_Y.rename(columns={'symp_two':'symp'})\n",
        "df_symp_two_Y[\"symp\"].replace({1: 0}, inplace=True)\n",
        "\n",
        "df_symp_three_Y = df[df['symp_three']==1][['ID','Content','symp_three']]\n",
        "df_symp_three_Y=df_symp_three_Y.rename(columns={'symp_three':'symp'})\n",
        "df_symp_three_Y[\"symp\"].replace({1: 0}, inplace=True)\n",
        "\n",
        "df_symp_four_Y = df[df['symp_four']==1][['ID','Content','symp_four']]\n",
        "df_symp_four_Y=df_symp_four_Y.rename(columns={'symp_four':'symp'})\n",
        "df_symp_four_Y[\"symp\"].replace({1: 0}, inplace=True)\n",
        "\n",
        "df_symp_five_Y = df[df['symp_five']==1][['ID','Content','symp_five']]\n",
        "df_symp_five_Y=df_symp_five_Y.rename(columns={'symp_five':'symp'})\n",
        "df_symp_five_Y[\"symp\"].replace({1: 0}, inplace=True)\n",
        "\n",
        "df_symp_six_Y = df[df['symp_six']==1][['ID','Content','symp_six']]\n",
        "df_symp_six_Y=df_symp_six_Y.rename(columns={'symp_six':'symp'})\n",
        "df_symp_six_Y[\"symp\"].replace({1: 0}, inplace=True)\n",
        "\n",
        "df_symp_seven_Y = df[df['symp_seven']==1][['ID','Content','symp_seven']]\n",
        "df_symp_seven_Y=df_symp_seven_Y.rename(columns={'symp_seven':'symp'})\n",
        "df_symp_seven_Y[\"symp\"].replace({1: 0}, inplace=True)\n",
        "\n",
        "df_symp_None_Y = df[df['None']==1][['ID','Content','None']]\n",
        "df_symp_None_Y=df_symp_None_Y.rename(columns={'None':'symp'})\n",
        "df_symp_None_Y[\"symp\"].replace({1: 0}, inplace=True)"
      ],
      "metadata": {
        "id": "1XU0Se9rA0cA"
      },
      "execution_count": 34,
      "outputs": []
    },
    {
      "cell_type": "code",
      "source": [
        "df_trans=pd.concat([df_symp_one_Y,df_symp_two_Y,df_symp_three_Y, df_symp_four_Y, df_symp_five_Y,df_symp_six_Y ,\n",
        "                   df_symp_seven_Y, df_symp_None_Y], ignore_index=True)\n",
        "\n",
        "# add a new column, the length of the content \n",
        "df_trans['length']=df_trans['Content'].apply(len)"
      ],
      "metadata": {
        "id": "zEsIyHMYKMbL"
      },
      "execution_count": 35,
      "outputs": []
    },
    {
      "cell_type": "code",
      "source": [
        "def get_samples(df):\n",
        "\n",
        "  X=df[['Content']]\n",
        "  y=df['symp'].astype(int)\n",
        "\n",
        "  # Split train-test data\n",
        "  cont_train, cont_test, dep_train, dep_test = train_test_split(X, y, test_size=0.3, random_state=1000)\n",
        "\n",
        "  # summarize class distribution\n",
        "  print(\"Before oversampling: \", Counter(dep_train))\n",
        "\n",
        "  # balance data\n",
        "  under = RandomUnderSampler(sampling_strategy=0.4)\n",
        "  over = RandomOverSampler(sampling_strategy=\"minority\")\n",
        "  steps = [('u',under), ('o',over)]\n",
        "  pipeline = Pipeline(steps=steps)\n",
        "  cont_train, dep_train = pipeline.fit_resample(cont_train, dep_train)\n",
        "\n",
        "  # summarize class distribution\n",
        "  print(\"After oversampling: \", Counter(dep_train))\n",
        "\n",
        "  return cont_train,cont_test,dep_train,dep_test"
      ],
      "metadata": {
        "id": "WfLvYxqgKVXF"
      },
      "execution_count": 36,
      "outputs": []
    },
    {
      "cell_type": "code",
      "source": [
        "# Vectorize text \n",
        "cont_train, cont_test,dep_train,dep_test = get_samples(df_trans)\n",
        "vectorizer_sym1 = TfidfVectorizer(analyzer='word',stop_words= 'english')\n",
        "vectorizer_sym1.fit_transform(cont_train[\"Content\"])\n",
        "cont_train_vec=vectorizer_sym1.transform(cont_train[\"Content\"]).toarray()\n",
        "cont_test_vec=vectorizer_sym1.transform(cont_test['Content']).toarray()"
      ],
      "metadata": {
        "colab": {
          "base_uri": "https://localhost:8080/"
        },
        "id": "WYBHi9icKdaC",
        "outputId": "c6d383db-4bf5-42f4-f910-8653899aa49f"
      },
      "execution_count": 37,
      "outputs": [
        {
          "output_type": "stream",
          "name": "stdout",
          "text": [
            "Before oversampling:  Counter({0: 18248, 1: 302})\n",
            "After oversampling:  Counter({0: 755, 1: 755})\n"
          ]
        }
      ]
    },
    {
      "cell_type": "code",
      "source": [
        "clf = RandomForestClassifier(bootstrap=True, ccp_alpha=0.0, class_weight=None,\n",
        "                       criterion='gini', max_depth=30, max_features='auto',\n",
        "                       max_leaf_nodes=None, max_samples=None,\n",
        "                       min_samples_leaf=1, min_samples_split=5,\n",
        "                       min_weight_fraction_leaf=0.0,\n",
        "                        n_estimators=800,\n",
        "                       n_jobs=None, oob_score=False, random_state=None,\n",
        "                       verbose=0, warm_start=False)\n",
        "\n",
        "clf.fit(cont_train_vec, dep_train)\n",
        "preds = clf.predict(cont_test_vec)\n",
        "\n",
        "confusionMatrix = confusion_matrix(dep_test, preds)\n",
        "print(confusionMatrix)\n",
        "\n",
        "print('Recall   :', metrics.recall_score(dep_test, preds))\n",
        "print('Accuracy :', metrics.accuracy_score(dep_test, preds))\n",
        "plot_auc(dep_test, preds)"
      ],
      "metadata": {
        "colab": {
          "base_uri": "https://localhost:8080/",
          "height": 0
        },
        "id": "SJbsPq3GNgUP",
        "outputId": "e6df8532-36a7-45cb-a673-a95665a796d6"
      },
      "execution_count": 38,
      "outputs": [
        {
          "output_type": "stream",
          "name": "stdout",
          "text": [
            "[[7219  588]\n",
            " [  60   84]]\n",
            "Recall   : 0.5833333333333334\n",
            "Accuracy : 0.9185008175072318\n",
            "AUC: 0.7540081550745058\n"
          ]
        },
        {
          "output_type": "display_data",
          "data": {
            "text/plain": [
              "<Figure size 432x288 with 1 Axes>"
            ],
            "image/png": "[encoded data removed]"
          },
          "metadata": {
            "needs_background": "light"
          }
        }
      ]
    },
    {
      "cell_type": "code",
      "source": [
        "RFCLF1 = clf"
      ],
      "metadata": {
        "id": "HFJxN-kEO7Iu"
      },
      "execution_count": 39,
      "outputs": []
    },
    {
      "cell_type": "markdown",
      "source": [
        "## Symptom 2"
      ],
      "metadata": {
        "id": "c42aC3apS7uF"
      }
    },
    {
      "cell_type": "code",
      "source": [
        "# Set indicator for symptoms except 2 to 0\n",
        "df_symp_one_Y = df[df['symp_one']==1][['ID','Content','symp_one']]\n",
        "df_symp_one_Y=df_symp_one_Y.rename(columns={'symp_one':'symp'})\n",
        "df_symp_one_Y[\"symp\"].replace({1: 0}, inplace=True)\n",
        "\n",
        "df_symp_two_Y = df[df['symp_two']== 1][['ID','Content','symp_two']]\n",
        "df_symp_two_Y=df_symp_two_Y.rename(columns={'symp_two':'symp'})\n",
        "\n",
        "df_symp_three_Y = df[df['symp_three']==1][['ID','Content','symp_three']]\n",
        "df_symp_three_Y=df_symp_three_Y.rename(columns={'symp_three':'symp'})\n",
        "df_symp_three_Y[\"symp\"].replace({1: 0}, inplace=True)\n",
        "\n",
        "df_symp_four_Y = df[df['symp_four']==1][['ID','Content','symp_four']]\n",
        "df_symp_four_Y=df_symp_four_Y.rename(columns={'symp_four':'symp'})\n",
        "df_symp_four_Y[\"symp\"].replace({1: 0}, inplace=True)\n",
        "\n",
        "df_symp_five_Y = df[df['symp_five']==1][['ID','Content','symp_five']]\n",
        "df_symp_five_Y=df_symp_five_Y.rename(columns={'symp_five':'symp'})\n",
        "df_symp_five_Y[\"symp\"].replace({1: 0}, inplace=True)\n",
        "\n",
        "df_symp_six_Y = df[df['symp_six']==1][['ID','Content','symp_six']]\n",
        "df_symp_six_Y=df_symp_six_Y.rename(columns={'symp_six':'symp'})\n",
        "df_symp_six_Y[\"symp\"].replace({1: 0}, inplace=True)\n",
        "\n",
        "df_symp_seven_Y = df[df['symp_seven']==1][['ID','Content','symp_seven']]\n",
        "df_symp_seven_Y=df_symp_seven_Y.rename(columns={'symp_seven':'symp'})\n",
        "df_symp_seven_Y[\"symp\"].replace({1: 0}, inplace=True)\n",
        "\n",
        "df_symp_None_Y = df[df['None']==1][['ID','Content','None']]\n",
        "df_symp_None_Y=df_symp_None_Y.rename(columns={'None':'symp'})\n",
        "df_symp_None_Y[\"symp\"].replace({1: 0}, inplace=True)"
      ],
      "metadata": {
        "id": "CGNPwAeVPASk"
      },
      "execution_count": 40,
      "outputs": []
    },
    {
      "cell_type": "code",
      "source": [
        "df_trans=pd.concat([df_symp_one_Y,df_symp_two_Y,df_symp_three_Y, df_symp_four_Y, df_symp_five_Y,df_symp_six_Y ,\n",
        "                   df_symp_seven_Y, df_symp_None_Y], ignore_index=True)\n",
        "\n",
        "# add a new column, the length of the content \n",
        "df_trans['length']=df_trans['Content'].apply(len)"
      ],
      "metadata": {
        "id": "qJEzZ5OnS966"
      },
      "execution_count": 41,
      "outputs": []
    },
    {
      "cell_type": "code",
      "source": [
        "# Vectorize text \n",
        "cont_train, cont_test,dep_train,dep_test = get_samples(df_trans)\n",
        "vectorizer_sym2 = TfidfVectorizer(analyzer='word',stop_words= 'english')\n",
        "vectorizer_sym2.fit_transform(cont_train[\"Content\"])\n",
        "cont_train_vec=vectorizer_sym2.transform(cont_train[\"Content\"]).toarray()\n",
        "cont_test_vec=vectorizer_sym2.transform(cont_test['Content']).toarray()"
      ],
      "metadata": {
        "colab": {
          "base_uri": "https://localhost:8080/"
        },
        "id": "B5P2nmnaTGmp",
        "outputId": "5de6d112-7005-4254-fe87-43024574201b"
      },
      "execution_count": 42,
      "outputs": [
        {
          "output_type": "stream",
          "name": "stdout",
          "text": [
            "Before oversampling:  Counter({0: 18247, 1: 303})\n",
            "After oversampling:  Counter({0: 757, 1: 757})\n"
          ]
        }
      ]
    },
    {
      "cell_type": "code",
      "source": [
        "clf = RandomForestClassifier(bootstrap=True, ccp_alpha=0.0, class_weight=None,\n",
        "                       criterion='gini', max_depth=30, max_features='auto',\n",
        "                       max_leaf_nodes=None, max_samples=None,\n",
        "                       min_samples_leaf=1, min_samples_split=5,\n",
        "                       min_weight_fraction_leaf=0.0,\n",
        "                        n_estimators=800,\n",
        "                       n_jobs=None, oob_score=False, random_state=None,\n",
        "                       verbose=0, warm_start=False)\n",
        "\n",
        "clf.fit(cont_train_vec, dep_train)\n",
        "preds = clf.predict(cont_test_vec)\n",
        "\n",
        "confusionMatrix = confusion_matrix(dep_test, preds)\n",
        "print(confusionMatrix)\n",
        "\n",
        "print('Recall   :', metrics.recall_score(dep_test, preds))\n",
        "print('Accuracy :', metrics.accuracy_score(dep_test, preds))\n",
        "plot_auc(dep_test, preds)"
      ],
      "metadata": {
        "colab": {
          "base_uri": "https://localhost:8080/",
          "height": 0
        },
        "id": "ZcPPj1vOTN9_",
        "outputId": "4de298be-e1ea-406b-8077-778f8d043892"
      },
      "execution_count": 43,
      "outputs": [
        {
          "output_type": "stream",
          "name": "stdout",
          "text": [
            "[[7391  417]\n",
            " [  47   96]]\n",
            "Recall   : 0.6713286713286714\n",
            "Accuracy : 0.9416425606841907\n",
            "AUC: 0.8089609545167946\n"
          ]
        },
        {
          "output_type": "display_data",
          "data": {
            "text/plain": [
              "<Figure size 432x288 with 1 Axes>"
            ],
            "image/png": "[encoded data removed]"
          },
          "metadata": {
            "needs_background": "light"
          }
        }
      ]
    },
    {
      "cell_type": "code",
      "source": [
        "RFCLF2 = clf"
      ],
      "metadata": {
        "id": "hos97MMNTbIa"
      },
      "execution_count": 44,
      "outputs": []
    },
    {
      "cell_type": "markdown",
      "source": [
        "## Symptom 3"
      ],
      "metadata": {
        "id": "gKQ9mCL0Tyk1"
      }
    },
    {
      "cell_type": "code",
      "source": [
        "# Set indicator for symptoms except 3 to 0\n",
        "df_symp_one_Y = df[df['symp_one']==1][['ID','Content','symp_one']]\n",
        "df_symp_one_Y=df_symp_one_Y.rename(columns={'symp_one':'symp'})\n",
        "df_symp_one_Y[\"symp\"].replace({1: 0}, inplace=True)\n",
        "\n",
        "df_symp_two_Y = df[df['symp_two']== 1][['ID','Content','symp_two']]\n",
        "df_symp_two_Y=df_symp_two_Y.rename(columns={'symp_two':'symp'})\n",
        "df_symp_two_Y[\"symp\"].replace({1: 0}, inplace=True)\n",
        "\n",
        "df_symp_three_Y = df[df['symp_three']==1][['ID','Content','symp_three']]\n",
        "df_symp_three_Y=df_symp_three_Y.rename(columns={'symp_three':'symp'})\n",
        "\n",
        "df_symp_four_Y = df[df['symp_four']==1][['ID','Content','symp_four']]\n",
        "df_symp_four_Y=df_symp_four_Y.rename(columns={'symp_four':'symp'})\n",
        "df_symp_four_Y[\"symp\"].replace({1: 0}, inplace=True)\n",
        "\n",
        "df_symp_five_Y = df[df['symp_five']==1][['ID','Content','symp_five']]\n",
        "df_symp_five_Y=df_symp_five_Y.rename(columns={'symp_five':'symp'})\n",
        "df_symp_five_Y[\"symp\"].replace({1: 0}, inplace=True)\n",
        "\n",
        "df_symp_six_Y = df[df['symp_six']==1][['ID','Content','symp_six']]\n",
        "df_symp_six_Y=df_symp_six_Y.rename(columns={'symp_six':'symp'})\n",
        "df_symp_six_Y[\"symp\"].replace({1: 0}, inplace=True)\n",
        "\n",
        "df_symp_seven_Y = df[df['symp_seven']==1][['ID','Content','symp_seven']]\n",
        "df_symp_seven_Y=df_symp_seven_Y.rename(columns={'symp_seven':'symp'})\n",
        "df_symp_seven_Y[\"symp\"].replace({1: 0}, inplace=True)\n",
        "\n",
        "df_symp_None_Y = df[df['None']==1][['ID','Content','None']]\n",
        "df_symp_None_Y=df_symp_None_Y.rename(columns={'None':'symp'})\n",
        "df_symp_None_Y[\"symp\"].replace({1: 0}, inplace=True)"
      ],
      "metadata": {
        "id": "ujARMs8_TuQ4"
      },
      "execution_count": 45,
      "outputs": []
    },
    {
      "cell_type": "code",
      "source": [
        "df_trans=pd.concat([df_symp_one_Y,df_symp_two_Y,df_symp_three_Y, df_symp_four_Y, df_symp_five_Y,df_symp_six_Y ,\n",
        "                   df_symp_seven_Y, df_symp_None_Y], ignore_index=True)\n",
        "\n",
        "# add a new column, the length of the content \n",
        "df_trans['length']=df_trans['Content'].apply(len)\n"
      ],
      "metadata": {
        "id": "YBVCNB7vToyk"
      },
      "execution_count": 46,
      "outputs": []
    },
    {
      "cell_type": "code",
      "source": [
        "# Vectorize text \n",
        "cont_train, cont_test,dep_train,dep_test = get_samples(df_trans)\n",
        "vectorizer_sym3 = TfidfVectorizer(analyzer='word',stop_words= 'english')\n",
        "vectorizer_sym3.fit_transform(cont_train[\"Content\"])\n",
        "cont_train_vec=vectorizer_sym3.transform(cont_train[\"Content\"]).toarray()\n",
        "cont_test_vec=vectorizer_sym3.transform(cont_test['Content']).toarray()"
      ],
      "metadata": {
        "colab": {
          "base_uri": "https://localhost:8080/"
        },
        "id": "NHKBvhjMXvGJ",
        "outputId": "b7efd5fa-2aaa-43fa-e70e-9ca22ec031ba"
      },
      "execution_count": 47,
      "outputs": [
        {
          "output_type": "stream",
          "name": "stdout",
          "text": [
            "Before oversampling:  Counter({0: 17825, 1: 725})\n",
            "After oversampling:  Counter({0: 1812, 1: 1812})\n"
          ]
        }
      ]
    },
    {
      "cell_type": "code",
      "source": [
        "clf = RandomForestClassifier(bootstrap=True, ccp_alpha=0.0, class_weight=None,\n",
        "                       criterion='gini', max_depth=30, max_features='auto',\n",
        "                       max_leaf_nodes=None, max_samples=None,\n",
        "                       min_samples_leaf=1, min_samples_split=5,\n",
        "                       min_weight_fraction_leaf=0.0,\n",
        "                        n_estimators=800,\n",
        "                       n_jobs=None, oob_score=False, random_state=None,\n",
        "                       verbose=0, warm_start=False)\n",
        "\n",
        "clf.fit(cont_train_vec, dep_train)\n",
        "preds = clf.predict(cont_test_vec)\n",
        "\n",
        "confusionMatrix = confusion_matrix(dep_test, preds)\n",
        "print(confusionMatrix)\n",
        "\n",
        "print('Recall   :', metrics.recall_score(dep_test, preds))\n",
        "print('Accuracy :', metrics.accuracy_score(dep_test, preds))\n",
        "plot_auc(dep_test, preds)"
      ],
      "metadata": {
        "colab": {
          "base_uri": "https://localhost:8080/",
          "height": 0
        },
        "id": "4JMC8ijbXwwe",
        "outputId": "51b5b865-28f4-4df6-ed48-2c3106ee1138"
      },
      "execution_count": 48,
      "outputs": [
        {
          "output_type": "stream",
          "name": "stdout",
          "text": [
            "[[6477 1180]\n",
            " [ 185  109]]\n",
            "Recall   : 0.3707482993197279\n",
            "Accuracy : 0.828323481323104\n",
            "AUC: 0.6083204732853047\n"
          ]
        },
        {
          "output_type": "display_data",
          "data": {
            "text/plain": [
              "<Figure size 432x288 with 1 Axes>"
            ],
            "image/png": "[encoded data removed]"
          },
          "metadata": {
            "needs_background": "light"
          }
        }
      ]
    },
    {
      "cell_type": "code",
      "source": [
        "RFCLF3 = clf"
      ],
      "metadata": {
        "id": "t5D7i88TXyVI"
      },
      "execution_count": 49,
      "outputs": []
    },
    {
      "cell_type": "markdown",
      "source": [
        "## Symptom 4"
      ],
      "metadata": {
        "id": "iZDFpg9sX4HA"
      }
    },
    {
      "cell_type": "code",
      "source": [
        "# Set indicator for symptoms except 4 to 0\n",
        "df_symp_one_Y = df[df['symp_one']==1][['ID','Content','symp_one']]\n",
        "df_symp_one_Y=df_symp_one_Y.rename(columns={'symp_one':'symp'})\n",
        "df_symp_one_Y[\"symp\"].replace({1: 0}, inplace=True)\n",
        "\n",
        "df_symp_two_Y = df[df['symp_two']== 1][['ID','Content','symp_two']]\n",
        "df_symp_two_Y=df_symp_two_Y.rename(columns={'symp_two':'symp'})\n",
        "df_symp_two_Y[\"symp\"].replace({1: 0}, inplace=True)\n",
        "\n",
        "df_symp_three_Y = df[df['symp_three']==1][['ID','Content','symp_three']]\n",
        "df_symp_three_Y=df_symp_three_Y.rename(columns={'symp_three':'symp'})\n",
        "df_symp_three_Y[\"symp\"].replace({1: 0}, inplace=True)\n",
        "\n",
        "df_symp_four_Y = df[df['symp_four']==1][['ID','Content','symp_four']]\n",
        "df_symp_four_Y=df_symp_four_Y.rename(columns={'symp_four':'symp'})\n",
        "\n",
        "\n",
        "df_symp_five_Y = df[df['symp_five']==1][['ID','Content','symp_five']]\n",
        "df_symp_five_Y=df_symp_five_Y.rename(columns={'symp_five':'symp'})\n",
        "df_symp_five_Y[\"symp\"].replace({1: 0}, inplace=True)\n",
        "\n",
        "df_symp_six_Y = df[df['symp_six']==1][['ID','Content','symp_six']]\n",
        "df_symp_six_Y=df_symp_six_Y.rename(columns={'symp_six':'symp'})\n",
        "df_symp_six_Y[\"symp\"].replace({1: 0}, inplace=True)\n",
        "\n",
        "df_symp_seven_Y = df[df['symp_seven']==1][['ID','Content','symp_seven']]\n",
        "df_symp_seven_Y=df_symp_seven_Y.rename(columns={'symp_seven':'symp'})\n",
        "df_symp_seven_Y[\"symp\"].replace({1: 0}, inplace=True)\n",
        "\n",
        "df_symp_None_Y = df[df['None']==1][['ID','Content','None']]\n",
        "df_symp_None_Y=df_symp_None_Y.rename(columns={'None':'symp'})\n",
        "df_symp_None_Y[\"symp\"].replace({1: 0}, inplace=True)"
      ],
      "metadata": {
        "id": "bJ3_rHqMX2uL"
      },
      "execution_count": 50,
      "outputs": []
    },
    {
      "cell_type": "code",
      "source": [
        "df_trans=pd.concat([df_symp_one_Y,df_symp_two_Y,df_symp_three_Y, df_symp_four_Y, df_symp_five_Y,df_symp_six_Y ,\n",
        "                   df_symp_seven_Y, df_symp_None_Y], ignore_index=True)\n",
        "\n",
        "# add a new column, the length of the content \n",
        "df_trans['length']=df_trans['Content'].apply(len)\n"
      ],
      "metadata": {
        "id": "96Oe2koFX-l5"
      },
      "execution_count": 51,
      "outputs": []
    },
    {
      "cell_type": "code",
      "source": [
        "# Vectorize text \n",
        "cont_train, cont_test,dep_train,dep_test = get_samples(df_trans)\n",
        "vectorizer_sym4 = TfidfVectorizer(analyzer='word',stop_words= 'english')\n",
        "vectorizer_sym4.fit_transform(cont_train[\"Content\"])\n",
        "cont_train_vec=vectorizer_sym4.transform(cont_train[\"Content\"]).toarray()\n",
        "cont_test_vec=vectorizer_sym4.transform(cont_test['Content']).toarray()"
      ],
      "metadata": {
        "colab": {
          "base_uri": "https://localhost:8080/"
        },
        "id": "4rWvKBqeX--u",
        "outputId": "75a8b8a4-5338-45d8-f600-136dc9c9403b"
      },
      "execution_count": 52,
      "outputs": [
        {
          "output_type": "stream",
          "name": "stdout",
          "text": [
            "Before oversampling:  Counter({0: 15689, 1: 2861})\n",
            "After oversampling:  Counter({0: 7152, 1: 7152})\n"
          ]
        }
      ]
    },
    {
      "cell_type": "code",
      "source": [
        "clf = RandomForestClassifier(bootstrap=True, ccp_alpha=0.0, class_weight=None,\n",
        "                       criterion='gini', max_depth=30, max_features='auto',\n",
        "                       max_leaf_nodes=None, max_samples=None,\n",
        "                       min_samples_leaf=1, min_samples_split=5,\n",
        "                       min_weight_fraction_leaf=0.0,\n",
        "                        n_estimators=800,\n",
        "                       n_jobs=None, oob_score=False, random_state=None,\n",
        "                       verbose=0, warm_start=False)\n",
        "\n",
        "clf.fit(cont_train_vec, dep_train)\n",
        "preds = clf.predict(cont_test_vec)\n",
        "\n",
        "confusionMatrix = confusion_matrix(dep_test, preds)\n",
        "print(confusionMatrix)\n",
        "\n",
        "print('Recall   :', metrics.recall_score(dep_test, preds))\n",
        "print('Accuracy :', metrics.accuracy_score(dep_test, preds))\n",
        "plot_auc(dep_test, preds)"
      ],
      "metadata": {
        "colab": {
          "base_uri": "https://localhost:8080/",
          "height": 0
        },
        "id": "nwNMTBeEYYNr",
        "outputId": "3e2715df-9dbf-4950-c56f-845b1bb30064"
      },
      "execution_count": 53,
      "outputs": [
        {
          "output_type": "stream",
          "name": "stdout",
          "text": [
            "[[5364 1388]\n",
            " [ 712  487]]\n",
            "Recall   : 0.4061718098415346\n",
            "Accuracy : 0.7358822789586216\n",
            "AUC: 0.6003015447311938\n"
          ]
        },
        {
          "output_type": "display_data",
          "data": {
            "text/plain": [
              "<Figure size 432x288 with 1 Axes>"
            ],
            "image/png": "[encoded data removed]"
          },
          "metadata": {
            "needs_background": "light"
          }
        }
      ]
    },
    {
      "cell_type": "code",
      "source": [
        "RFCLF4 = clf"
      ],
      "metadata": {
        "id": "dLkiBxWFYawi"
      },
      "execution_count": 54,
      "outputs": []
    },
    {
      "cell_type": "markdown",
      "source": [
        "## Symptom 5"
      ],
      "metadata": {
        "id": "kWUG2Ai9YjkJ"
      }
    },
    {
      "cell_type": "code",
      "source": [
        "# Set indicator for symptoms except 5 to 0\n",
        "df_symp_one_Y = df[df['symp_one']==1][['ID','Content','symp_one']]\n",
        "df_symp_one_Y=df_symp_one_Y.rename(columns={'symp_one':'symp'})\n",
        "df_symp_one_Y[\"symp\"].replace({1: 0}, inplace=True)\n",
        "\n",
        "df_symp_two_Y = df[df['symp_two']== 1][['ID','Content','symp_two']]\n",
        "df_symp_two_Y=df_symp_two_Y.rename(columns={'symp_two':'symp'})\n",
        "df_symp_two_Y[\"symp\"].replace({1: 0}, inplace=True)\n",
        "\n",
        "df_symp_three_Y = df[df['symp_three']==1][['ID','Content','symp_three']]\n",
        "df_symp_three_Y=df_symp_three_Y.rename(columns={'symp_three':'symp'})\n",
        "df_symp_three_Y[\"symp\"].replace({1: 0}, inplace=True)\n",
        "\n",
        "df_symp_four_Y = df[df['symp_four']==1][['ID','Content','symp_four']]\n",
        "df_symp_four_Y=df_symp_four_Y.rename(columns={'symp_four':'symp'})\n",
        "df_symp_four_Y[\"symp\"].replace({1: 0}, inplace=True)\n",
        "\n",
        "df_symp_five_Y = df[df['symp_five']==1][['ID','Content','symp_five']]\n",
        "df_symp_five_Y=df_symp_five_Y.rename(columns={'symp_five':'symp'})\n",
        "\n",
        "df_symp_six_Y = df[df['symp_six']==1][['ID','Content','symp_six']]\n",
        "df_symp_six_Y=df_symp_six_Y.rename(columns={'symp_six':'symp'})\n",
        "df_symp_six_Y[\"symp\"].replace({1: 0}, inplace=True)\n",
        "\n",
        "df_symp_seven_Y = df[df['symp_seven']==1][['ID','Content','symp_seven']]\n",
        "df_symp_seven_Y=df_symp_seven_Y.rename(columns={'symp_seven':'symp'})\n",
        "df_symp_seven_Y[\"symp\"].replace({1: 0}, inplace=True)\n",
        "\n",
        "df_symp_None_Y = df[df['None']==1][['ID','Content','None']]\n",
        "df_symp_None_Y=df_symp_None_Y.rename(columns={'None':'symp'})\n",
        "df_symp_None_Y[\"symp\"].replace({1: 0}, inplace=True)"
      ],
      "metadata": {
        "id": "IwacXAcCYiUx"
      },
      "execution_count": 55,
      "outputs": []
    },
    {
      "cell_type": "code",
      "source": [
        "df_trans=pd.concat([df_symp_one_Y,df_symp_two_Y,df_symp_three_Y, df_symp_four_Y, df_symp_five_Y,df_symp_six_Y ,\n",
        "                   df_symp_seven_Y, df_symp_None_Y], ignore_index=True)\n",
        "\n",
        "# add a new column, the length of the content \n",
        "df_trans['length']=df_trans['Content'].apply(len)\n"
      ],
      "metadata": {
        "id": "Mmxj4GIbYnmj"
      },
      "execution_count": 56,
      "outputs": []
    },
    {
      "cell_type": "code",
      "source": [
        "# Vectorize text \n",
        "cont_train, cont_test,dep_train,dep_test = get_samples(df_trans)\n",
        "vectorizer_sym5 = TfidfVectorizer(analyzer='word',stop_words= 'english')\n",
        "vectorizer_sym5.fit_transform(cont_train[\"Content\"])\n",
        "cont_train_vec=vectorizer_sym5.transform(cont_train[\"Content\"]).toarray()\n",
        "cont_test_vec=vectorizer_sym5.transform(cont_test['Content']).toarray()"
      ],
      "metadata": {
        "colab": {
          "base_uri": "https://localhost:8080/"
        },
        "id": "MA1LYixIYpvD",
        "outputId": "c0f2cef8-2013-4276-f358-8e19caedad0c"
      },
      "execution_count": 57,
      "outputs": [
        {
          "output_type": "stream",
          "name": "stdout",
          "text": [
            "Before oversampling:  Counter({0: 17127, 1: 1423})\n",
            "After oversampling:  Counter({0: 3557, 1: 3557})\n"
          ]
        }
      ]
    },
    {
      "cell_type": "code",
      "source": [
        "clf = RandomForestClassifier(bootstrap=True, ccp_alpha=0.0, class_weight=None,\n",
        "                       criterion='gini', max_depth=30, max_features='auto',\n",
        "                       max_leaf_nodes=None, max_samples=None,\n",
        "                       min_samples_leaf=1, min_samples_split=5,\n",
        "                       min_weight_fraction_leaf=0.0,\n",
        "                        n_estimators=800,\n",
        "                       n_jobs=None, oob_score=False, random_state=None,\n",
        "                       verbose=0, warm_start=False)\n",
        "\n",
        "clf.fit(cont_train_vec, dep_train)\n",
        "preds = clf.predict(cont_test_vec)\n",
        "\n",
        "confusionMatrix = confusion_matrix(dep_test, preds)\n",
        "print(confusionMatrix)\n",
        "\n",
        "print('Recall   :', metrics.recall_score(dep_test, preds))\n",
        "print('Accuracy :', metrics.accuracy_score(dep_test, preds))\n",
        "plot_auc(dep_test, preds)\n"
      ],
      "metadata": {
        "colab": {
          "base_uri": "https://localhost:8080/",
          "height": 0
        },
        "id": "4z2k-jIGYrpi",
        "outputId": "af2c6dce-197c-4d85-ad56-2b797c9aca21"
      },
      "execution_count": 58,
      "outputs": [
        {
          "output_type": "stream",
          "name": "stdout",
          "text": [
            "[[5997 1348]\n",
            " [ 397  209]]\n",
            "Recall   : 0.3448844884488449\n",
            "Accuracy : 0.7805307508489499\n",
            "AUC: 0.5806791400719378\n"
          ]
        },
        {
          "output_type": "display_data",
          "data": {
            "text/plain": [
              "<Figure size 432x288 with 1 Axes>"
            ],
            "image/png": "[encoded data removed]"
          },
          "metadata": {
            "needs_background": "light"
          }
        }
      ]
    },
    {
      "cell_type": "code",
      "source": [
        "RFCLF5 = clf"
      ],
      "metadata": {
        "id": "Gf_2CtlfYteV"
      },
      "execution_count": 59,
      "outputs": []
    },
    {
      "cell_type": "markdown",
      "source": [
        "## Symptom 6"
      ],
      "metadata": {
        "id": "2LJooPM6YzZe"
      }
    },
    {
      "cell_type": "code",
      "source": [
        "# Set indicator for symptoms except 6 to 0\n",
        "df_symp_one_Y = df[df['symp_one']==1][['ID','Content','symp_one']]\n",
        "df_symp_one_Y=df_symp_one_Y.rename(columns={'symp_one':'symp'})\n",
        "df_symp_one_Y[\"symp\"].replace({1: 0}, inplace=True)\n",
        "\n",
        "df_symp_two_Y = df[df['symp_two']== 1][['ID','Content','symp_two']]\n",
        "df_symp_two_Y=df_symp_two_Y.rename(columns={'symp_two':'symp'})\n",
        "df_symp_two_Y[\"symp\"].replace({1: 0}, inplace=True)\n",
        "\n",
        "df_symp_three_Y = df[df['symp_three']==1][['ID','Content','symp_three']]\n",
        "df_symp_three_Y=df_symp_three_Y.rename(columns={'symp_three':'symp'})\n",
        "df_symp_three_Y[\"symp\"].replace({1: 0}, inplace=True)\n",
        "\n",
        "df_symp_four_Y = df[df['symp_four']==1][['ID','Content','symp_four']]\n",
        "df_symp_four_Y=df_symp_four_Y.rename(columns={'symp_four':'symp'})\n",
        "df_symp_four_Y[\"symp\"].replace({1: 0}, inplace=True)\n",
        "\n",
        "df_symp_five_Y = df[df['symp_five']==1][['ID','Content','symp_five']]\n",
        "df_symp_five_Y=df_symp_five_Y.rename(columns={'symp_five':'symp'})\n",
        "df_symp_five_Y[\"symp\"].replace({1: 0}, inplace=True)\n",
        "\n",
        "df_symp_six_Y = df[df['symp_six']==1][['ID','Content','symp_six']]\n",
        "df_symp_six_Y=df_symp_six_Y.rename(columns={'symp_six':'symp'})\n",
        "\n",
        "df_symp_seven_Y = df[df['symp_seven']==1][['ID','Content','symp_seven']]\n",
        "df_symp_seven_Y=df_symp_seven_Y.rename(columns={'symp_seven':'symp'})\n",
        "df_symp_seven_Y[\"symp\"].replace({1: 0}, inplace=True)\n",
        "\n",
        "df_symp_None_Y = df[df['None']==1][['ID','Content','None']]\n",
        "df_symp_None_Y=df_symp_None_Y.rename(columns={'None':'symp'})\n",
        "df_symp_None_Y[\"symp\"].replace({1: 0}, inplace=True)"
      ],
      "metadata": {
        "id": "G3BTJNRlYwM-"
      },
      "execution_count": 60,
      "outputs": []
    },
    {
      "cell_type": "code",
      "source": [
        "df_trans=pd.concat([df_symp_one_Y,df_symp_two_Y,df_symp_three_Y, df_symp_four_Y, df_symp_five_Y,df_symp_six_Y ,\n",
        "                   df_symp_seven_Y, df_symp_None_Y], ignore_index=True)\n",
        "\n",
        "# add a new column, the length of the content \n",
        "df_trans['length']=df_trans['Content'].apply(len)\n"
      ],
      "metadata": {
        "id": "LcJqA_eRY5eg"
      },
      "execution_count": 61,
      "outputs": []
    },
    {
      "cell_type": "code",
      "source": [
        "# Vectorize text \n",
        "cont_train, cont_test,dep_train,dep_test = get_samples(df_trans)\n",
        "vectorizer_sym6 = TfidfVectorizer(analyzer='word',stop_words= 'english')\n",
        "vectorizer_sym6.fit_transform(cont_train[\"Content\"])\n",
        "cont_train_vec=vectorizer_sym6.transform(cont_train[\"Content\"]).toarray()\n",
        "cont_test_vec=vectorizer_sym6.transform(cont_test['Content']).toarray()"
      ],
      "metadata": {
        "colab": {
          "base_uri": "https://localhost:8080/"
        },
        "id": "ZlSBXkAXY-AG",
        "outputId": "bfd92b30-3c8a-4d44-8543-f5b5405c16b9"
      },
      "execution_count": 62,
      "outputs": [
        {
          "output_type": "stream",
          "name": "stdout",
          "text": [
            "Before oversampling:  Counter({0: 18132, 1: 418})\n",
            "After oversampling:  Counter({0: 1045, 1: 1045})\n"
          ]
        }
      ]
    },
    {
      "cell_type": "code",
      "source": [
        "clf = RandomForestClassifier(bootstrap=True, ccp_alpha=0.0, class_weight=None,\n",
        "                       criterion='gini', max_depth=30, max_features='auto',\n",
        "                       max_leaf_nodes=None, max_samples=None,\n",
        "                       min_samples_leaf=1, min_samples_split=5,\n",
        "                       min_weight_fraction_leaf=0.0,\n",
        "                        n_estimators=800,\n",
        "                       n_jobs=None, oob_score=False, random_state=None,\n",
        "                       verbose=0, warm_start=False)\n",
        "\n",
        "clf.fit(cont_train_vec, dep_train)\n",
        "preds = clf.predict(cont_test_vec)\n",
        "\n",
        "confusionMatrix = confusion_matrix(dep_test, preds)\n",
        "print(confusionMatrix)\n",
        "\n",
        "print('Recall   :', metrics.recall_score(dep_test, preds))\n",
        "print('Accuracy :', metrics.accuracy_score(dep_test, preds))\n",
        "plot_auc(dep_test, preds)\n"
      ],
      "metadata": {
        "colab": {
          "base_uri": "https://localhost:8080/",
          "height": 0
        },
        "id": "Gkq-zDkLY-T6",
        "outputId": "da96e80c-92dc-4b34-e3e1-b88f80638574"
      },
      "execution_count": 63,
      "outputs": [
        {
          "output_type": "stream",
          "name": "stdout",
          "text": [
            "[[6955  824]\n",
            " [ 113   59]]\n",
            "Recall   : 0.3430232558139535\n",
            "Accuracy : 0.882153188278204\n",
            "AUC: 0.6185485221093162\n"
          ]
        },
        {
          "output_type": "display_data",
          "data": {
            "text/plain": [
              "<Figure size 432x288 with 1 Axes>"
            ],
            "image/png": "[encoded data removed]"
          },
          "metadata": {
            "needs_background": "light"
          }
        }
      ]
    },
    {
      "cell_type": "code",
      "source": [
        "RFCLF6 = clf"
      ],
      "metadata": {
        "id": "mfWIiGMSZImw"
      },
      "execution_count": 64,
      "outputs": []
    },
    {
      "cell_type": "markdown",
      "source": [
        "## Symptom 7"
      ],
      "metadata": {
        "id": "2dhqi-WHZNrK"
      }
    },
    {
      "cell_type": "code",
      "source": [
        "# Set indicator for symptoms except 7 to 0\n",
        "df_symp_one_Y = df[df['symp_one']==1][['ID','Content','symp_one']]\n",
        "df_symp_one_Y=df_symp_one_Y.rename(columns={'symp_one':'symp'})\n",
        "df_symp_one_Y[\"symp\"].replace({1: 0}, inplace=True)\n",
        "\n",
        "df_symp_two_Y = df[df['symp_two']== 1][['ID','Content','symp_two']]\n",
        "df_symp_two_Y=df_symp_two_Y.rename(columns={'symp_two':'symp'})\n",
        "df_symp_two_Y[\"symp\"].replace({1: 0}, inplace=True)\n",
        "\n",
        "df_symp_three_Y = df[df['symp_three']==1][['ID','Content','symp_three']]\n",
        "df_symp_three_Y=df_symp_three_Y.rename(columns={'symp_three':'symp'})\n",
        "df_symp_three_Y[\"symp\"].replace({1: 0}, inplace=True)\n",
        "\n",
        "df_symp_four_Y = df[df['symp_four']==1][['ID','Content','symp_four']]\n",
        "df_symp_four_Y=df_symp_four_Y.rename(columns={'symp_four':'symp'})\n",
        "df_symp_four_Y[\"symp\"].replace({1: 0}, inplace=True)\n",
        "\n",
        "df_symp_five_Y = df[df['symp_five']==1][['ID','Content','symp_five']]\n",
        "df_symp_five_Y=df_symp_five_Y.rename(columns={'symp_five':'symp'})\n",
        "df_symp_five_Y[\"symp\"].replace({1: 0}, inplace=True)\n",
        "\n",
        "df_symp_six_Y = df[df['symp_six']==1][['ID','Content','symp_six']]\n",
        "df_symp_six_Y=df_symp_six_Y.rename(columns={'symp_six':'symp'})\n",
        "df_symp_six_Y[\"symp\"].replace({1: 0}, inplace=True)\n",
        "\n",
        "df_symp_seven_Y = df[df['symp_seven']==1][['ID','Content','symp_seven']]\n",
        "df_symp_seven_Y=df_symp_seven_Y.rename(columns={'symp_seven':'symp'})\n",
        "\n",
        "df_symp_None_Y = df[df['None']==1][['ID','Content','None']]\n",
        "df_symp_None_Y=df_symp_None_Y.rename(columns={'None':'symp'})\n",
        "df_symp_None_Y[\"symp\"].replace({1: 0}, inplace=True)"
      ],
      "metadata": {
        "id": "gjfU8_ZkZLOL"
      },
      "execution_count": 65,
      "outputs": []
    },
    {
      "cell_type": "code",
      "source": [
        "df_trans=pd.concat([df_symp_one_Y,df_symp_two_Y,df_symp_three_Y, df_symp_four_Y, df_symp_five_Y,df_symp_six_Y ,\n",
        "                   df_symp_seven_Y, df_symp_None_Y], ignore_index=True)\n",
        "\n",
        "# add a new column, the length of the content \n",
        "df_trans['length']=df_trans['Content'].apply(len)\n"
      ],
      "metadata": {
        "id": "F5Ramgq1ZRio"
      },
      "execution_count": 66,
      "outputs": []
    },
    {
      "cell_type": "code",
      "source": [
        "# Vectorize text \n",
        "cont_train, cont_test,dep_train,dep_test = get_samples(df_trans)\n",
        "vectorizer_sym7 = TfidfVectorizer(analyzer='word',stop_words= 'english')\n",
        "vectorizer_sym7.fit_transform(cont_train[\"Content\"])\n",
        "cont_train_vec=vectorizer_sym7.transform(cont_train[\"Content\"]).toarray()\n",
        "cont_test_vec=vectorizer_sym7.transform(cont_test['Content']).toarray()"
      ],
      "metadata": {
        "colab": {
          "base_uri": "https://localhost:8080/"
        },
        "id": "CnySa9iWZXTo",
        "outputId": "c404569c-fe57-4ed9-c358-4217bec2ce0d"
      },
      "execution_count": 67,
      "outputs": [
        {
          "output_type": "stream",
          "name": "stdout",
          "text": [
            "Before oversampling:  Counter({0: 17860, 1: 690})\n",
            "After oversampling:  Counter({0: 1725, 1: 1725})\n"
          ]
        }
      ]
    },
    {
      "cell_type": "code",
      "source": [
        "clf = RandomForestClassifier(bootstrap=True, ccp_alpha=0.0, class_weight=None,\n",
        "                       criterion='gini', max_depth=30, max_features='auto',\n",
        "                       max_leaf_nodes=None, max_samples=None,\n",
        "                       min_samples_leaf=1, min_samples_split=5,\n",
        "                       min_weight_fraction_leaf=0.0,\n",
        "                        n_estimators=800,\n",
        "                       n_jobs=None, oob_score=False, random_state=None,\n",
        "                       verbose=0, warm_start=False)\n",
        "\n",
        "clf.fit(cont_train_vec, dep_train)\n",
        "preds = clf.predict(cont_test_vec)\n",
        "\n",
        "confusionMatrix = confusion_matrix(dep_test, preds)\n",
        "print(confusionMatrix)\n",
        "\n",
        "print('Recall   :', metrics.recall_score(dep_test, preds))\n",
        "print('Accuracy :', metrics.accuracy_score(dep_test, preds))\n",
        "plot_auc(dep_test, preds)\n"
      ],
      "metadata": {
        "colab": {
          "base_uri": "https://localhost:8080/",
          "height": 382
        },
        "id": "stK1SEgvZZTX",
        "outputId": "38ccf9f4-6935-41e5-99a9-9463df9baf68"
      },
      "execution_count": 68,
      "outputs": [
        {
          "output_type": "stream",
          "name": "stdout",
          "text": [
            "[[6901  733]\n",
            " [ 138  179]]\n",
            "Recall   : 0.5646687697160884\n",
            "Accuracy : 0.8904540309395045\n",
            "AUC: 0.7343254773390502\n"
          ]
        },
        {
          "output_type": "display_data",
          "data": {
            "text/plain": [
              "<Figure size 432x288 with 1 Axes>"
            ],
            "image/png": "[encoded data removed]"
          },
          "metadata": {
            "needs_background": "light"
          }
        }
      ]
    },
    {
      "cell_type": "code",
      "source": [
        "RFCLF7 = clf"
      ],
      "metadata": {
        "id": "HuyjvehFZa0Z"
      },
      "execution_count": 69,
      "outputs": []
    },
    {
      "cell_type": "markdown",
      "source": [
        "#Assemble the 7 models as the final predictor for depression"
      ],
      "metadata": {
        "id": "-gu9tXs1alQI"
      }
    },
    {
      "cell_type": "code",
      "source": [
        "df_test"
      ],
      "metadata": {
        "colab": {
          "base_uri": "https://localhost:8080/",
          "height": 424
        },
        "id": "WJl_6B0sai4Q",
        "outputId": "0eb753f9-78cd-4ad5-b4b7-e439bd6ac74c"
      },
      "execution_count": 70,
      "outputs": [
        {
          "output_type": "execute_result",
          "data": {
            "text/plain": [
              "          ID      AuthorID                 Author         Date  \\\n",
              "12        13  3.030000e+17         Emma/Blue#2035  43630.88194   \n",
              "15        16  4.840000e+17    Lucid_Thoughts#2342  43631.01458   \n",
              "22        23  4.120000e+17             ~‚òÖ~#0666  43631.43889   \n",
              "27        28  3.660000e+17       BasicCouple#7323  43631.45903   \n",
              "32        33  3.030000e+17         Emma/Blue#2035    43631.625   \n",
              "...      ...           ...                    ...          ...   \n",
              "23959  23965  3.460000e+17             gogy~#2680  44070.52986   \n",
              "23961  23967  2.290000e+17             alex.#5092  44070.75764   \n",
              "23962  23968  5.320000e+17  BrielleBunnyüíç#8328  44070.90139   \n",
              "23974  23980  3.210000e+17           cocosiz#2140  44071.11667   \n",
              "23976  23982  4.040000e+17     purplecleo808#0770  44071.11806   \n",
              "\n",
              "                                                 Content Words  symp_one  \\\n",
              "12         it‚äôs like take knife try stab cut nerve arm    17         0   \n",
              "15                 minute ago thing feel like sharp pain    17         0   \n",
              "22       abusive family difficult violent help tell help    32         0   \n",
              "27     severely injure break bone burn stab wound lif...    63         0   \n",
              "32              don‚äôt reason say i‚äôm burden way help    28         0   \n",
              "...                                                  ...   ...       ...   \n",
              "23959  wanna kill literally push limit man not shit a...    15         0   \n",
              "23961  need bit help decision choice simple m give re...    27         0   \n",
              "23962                             bad day try hard happy    16         0   \n",
              "23974       usually smoke weed amplify feel make anxious    19         0   \n",
              "23976             walk lot exercise dance play child pet    16         0   \n",
              "\n",
              "       symp_two  symp_three  symp_four  symp_five  symp_six  symp_seven  None  \n",
              "12            0           0        0.0          0         0         0.0   1.0  \n",
              "15            0           0        0.0          0         0         1.0   0.0  \n",
              "22            0           0        1.0          1         0         0.0   0.0  \n",
              "27            0           0        1.0          0         1         1.0   0.0  \n",
              "32            0           1        1.0          0         0         0.0   0.0  \n",
              "...         ...         ...        ...        ...       ...         ...   ...  \n",
              "23959         0           0        0.0          0         0         1.0   0.0  \n",
              "23961         0           0        0.0          0         0         0.0   1.0  \n",
              "23962         0           0        0.0          0         0         0.0   1.0  \n",
              "23974         0           0        1.0          0         0         0.0   0.0  \n",
              "23976         0           0        0.0          0         0         0.0   1.0  \n",
              "\n",
              "[4796 rows x 14 columns]"
            ],
            "text/html": [
              "\n",
              "  <div id=\"df-0835a461-d9d1-495d-8bd8-6176f66a4aa5\">\n",
              "    <div class=\"colab-df-container\">\n",
              "      <div>\n",
              "<style scoped>\n",
              "    .dataframe tbody tr th:only-of-type {\n",
              "        vertical-align: middle;\n",
              "    }\n",
              "\n",
              "    .dataframe tbody tr th {\n",
              "        vertical-align: top;\n",
              "    }\n",
              "\n",
              "    .dataframe thead th {\n",
              "        text-align: right;\n",
              "    }\n",
              "</style>\n",
              "<table border=\"1\" class=\"dataframe\">\n",
              "  <thead>\n",
              "    <tr style=\"text-align: right;\">\n",
              "      <th></th>\n",
              "      <th>ID</th>\n",
              "      <th>AuthorID</th>\n",
              "      <th>Author</th>\n",
              "      <th>Date</th>\n",
              "      <th>Content</th>\n",
              "      <th>Words</th>\n",
              "      <th>symp_one</th>\n",
              "      <th>symp_two</th>\n",
              "      <th>symp_three</th>\n",
              "      <th>symp_four</th>\n",
              "      <th>symp_five</th>\n",
              "      <th>symp_six</th>\n",
              "      <th>symp_seven</th>\n",
              "      <th>None</th>\n",
              "    </tr>\n",
              "  </thead>\n",
              "  <tbody>\n",
              "    <tr>\n",
              "      <th>12</th>\n",
              "      <td>13</td>\n",
              "      <td>3.030000e+17</td>\n",
              "      <td>Emma/Blue#2035</td>\n",
              "      <td>43630.88194</td>\n",
              "      <td>it‚äôs like take knife try stab cut nerve arm</td>\n",
              "      <td>17</td>\n",
              "      <td>0</td>\n",
              "      <td>0</td>\n",
              "      <td>0</td>\n",
              "      <td>0.0</td>\n",
              "      <td>0</td>\n",
              "      <td>0</td>\n",
              "      <td>0.0</td>\n",
              "      <td>1.0</td>\n",
              "    </tr>\n",
              "    <tr>\n",
              "      <th>15</th>\n",
              "      <td>16</td>\n",
              "      <td>4.840000e+17</td>\n",
              "      <td>Lucid_Thoughts#2342</td>\n",
              "      <td>43631.01458</td>\n",
              "      <td>minute ago thing feel like sharp pain</td>\n",
              "      <td>17</td>\n",
              "      <td>0</td>\n",
              "      <td>0</td>\n",
              "      <td>0</td>\n",
              "      <td>0.0</td>\n",
              "      <td>0</td>\n",
              "      <td>0</td>\n",
              "      <td>1.0</td>\n",
              "      <td>0.0</td>\n",
              "    </tr>\n",
              "    <tr>\n",
              "      <th>22</th>\n",
              "      <td>23</td>\n",
              "      <td>4.120000e+17</td>\n",
              "      <td>~‚òÖ~#0666</td>\n",
              "      <td>43631.43889</td>\n",
              "      <td>abusive family difficult violent help tell help</td>\n",
              "      <td>32</td>\n",
              "      <td>0</td>\n",
              "      <td>0</td>\n",
              "      <td>0</td>\n",
              "      <td>1.0</td>\n",
              "      <td>1</td>\n",
              "      <td>0</td>\n",
              "      <td>0.0</td>\n",
              "      <td>0.0</td>\n",
              "    </tr>\n",
              "    <tr>\n",
              "      <th>27</th>\n",
              "      <td>28</td>\n",
              "      <td>3.660000e+17</td>\n",
              "      <td>BasicCouple#7323</td>\n",
              "      <td>43631.45903</td>\n",
              "      <td>severely injure break bone burn stab wound lif...</td>\n",
              "      <td>63</td>\n",
              "      <td>0</td>\n",
              "      <td>0</td>\n",
              "      <td>0</td>\n",
              "      <td>1.0</td>\n",
              "      <td>0</td>\n",
              "      <td>1</td>\n",
              "      <td>1.0</td>\n",
              "      <td>0.0</td>\n",
              "    </tr>\n",
              "    <tr>\n",
              "      <th>32</th>\n",
              "      <td>33</td>\n",
              "      <td>3.030000e+17</td>\n",
              "      <td>Emma/Blue#2035</td>\n",
              "      <td>43631.625</td>\n",
              "      <td>don‚äôt reason say i‚äôm burden way help</td>\n",
              "      <td>28</td>\n",
              "      <td>0</td>\n",
              "      <td>0</td>\n",
              "      <td>1</td>\n",
              "      <td>1.0</td>\n",
              "      <td>0</td>\n",
              "      <td>0</td>\n",
              "      <td>0.0</td>\n",
              "      <td>0.0</td>\n",
              "    </tr>\n",
              "    <tr>\n",
              "      <th>...</th>\n",
              "      <td>...</td>\n",
              "      <td>...</td>\n",
              "      <td>...</td>\n",
              "      <td>...</td>\n",
              "      <td>...</td>\n",
              "      <td>...</td>\n",
              "      <td>...</td>\n",
              "      <td>...</td>\n",
              "      <td>...</td>\n",
              "      <td>...</td>\n",
              "      <td>...</td>\n",
              "      <td>...</td>\n",
              "      <td>...</td>\n",
              "      <td>...</td>\n",
              "    </tr>\n",
              "    <tr>\n",
              "      <th>23959</th>\n",
              "      <td>23965</td>\n",
              "      <td>3.460000e+17</td>\n",
              "      <td>gogy~#2680</td>\n",
              "      <td>44070.52986</td>\n",
              "      <td>wanna kill literally push limit man not shit a...</td>\n",
              "      <td>15</td>\n",
              "      <td>0</td>\n",
              "      <td>0</td>\n",
              "      <td>0</td>\n",
              "      <td>0.0</td>\n",
              "      <td>0</td>\n",
              "      <td>0</td>\n",
              "      <td>1.0</td>\n",
              "      <td>0.0</td>\n",
              "    </tr>\n",
              "    <tr>\n",
              "      <th>23961</th>\n",
              "      <td>23967</td>\n",
              "      <td>2.290000e+17</td>\n",
              "      <td>alex.#5092</td>\n",
              "      <td>44070.75764</td>\n",
              "      <td>need bit help decision choice simple m give re...</td>\n",
              "      <td>27</td>\n",
              "      <td>0</td>\n",
              "      <td>0</td>\n",
              "      <td>0</td>\n",
              "      <td>0.0</td>\n",
              "      <td>0</td>\n",
              "      <td>0</td>\n",
              "      <td>0.0</td>\n",
              "      <td>1.0</td>\n",
              "    </tr>\n",
              "    <tr>\n",
              "      <th>23962</th>\n",
              "      <td>23968</td>\n",
              "      <td>5.320000e+17</td>\n",
              "      <td>BrielleBunnyüíç#8328</td>\n",
              "      <td>44070.90139</td>\n",
              "      <td>bad day try hard happy</td>\n",
              "      <td>16</td>\n",
              "      <td>0</td>\n",
              "      <td>0</td>\n",
              "      <td>0</td>\n",
              "      <td>0.0</td>\n",
              "      <td>0</td>\n",
              "      <td>0</td>\n",
              "      <td>0.0</td>\n",
              "      <td>1.0</td>\n",
              "    </tr>\n",
              "    <tr>\n",
              "      <th>23974</th>\n",
              "      <td>23980</td>\n",
              "      <td>3.210000e+17</td>\n",
              "      <td>cocosiz#2140</td>\n",
              "      <td>44071.11667</td>\n",
              "      <td>usually smoke weed amplify feel make anxious</td>\n",
              "      <td>19</td>\n",
              "      <td>0</td>\n",
              "      <td>0</td>\n",
              "      <td>0</td>\n",
              "      <td>1.0</td>\n",
              "      <td>0</td>\n",
              "      <td>0</td>\n",
              "      <td>0.0</td>\n",
              "      <td>0.0</td>\n",
              "    </tr>\n",
              "    <tr>\n",
              "      <th>23976</th>\n",
              "      <td>23982</td>\n",
              "      <td>4.040000e+17</td>\n",
              "      <td>purplecleo808#0770</td>\n",
              "      <td>44071.11806</td>\n",
              "      <td>walk lot exercise dance play child pet</td>\n",
              "      <td>16</td>\n",
              "      <td>0</td>\n",
              "      <td>0</td>\n",
              "      <td>0</td>\n",
              "      <td>0.0</td>\n",
              "      <td>0</td>\n",
              "      <td>0</td>\n",
              "      <td>0.0</td>\n",
              "      <td>1.0</td>\n",
              "    </tr>\n",
              "  </tbody>\n",
              "</table>\n",
              "<p>4796 rows × 14 columns</p>\n",
              "</div>\n",
              "      <button class=\"colab-df-convert\" onclick=\"convertToInteractive('df-0835a461-d9d1-495d-8bd8-6176f66a4aa5')\"\n",
              "              title=\"Convert this dataframe to an interactive table.\"\n",
              "              style=\"display:none;\">\n",
              "        \n",
              "  <svg xmlns=\"http://www.w3.org/2000/svg\" height=\"24px\"viewBox=\"0 0 24 24\"\n",
              "       width=\"24px\">\n",
              "    <path d=\"M0 0h24v24H0V0z\" fill=\"none\"/>\n",
              "    <path d=\"M18.56 5.44l.94 2.06.94-2.06 2.06-.94-2.06-.94-.94-2.06-.94 2.06-2.06.94zm-11 1L8.5 8.5l.94-2.06 2.06-.94-2.06-.94L8.5 2.5l-.94 2.06-2.06.94zm10 10l.94 2.06.94-2.06 2.06-.94-2.06-.94-.94-2.06-.94 2.06-2.06.94z\"/><path d=\"M17.41 7.96l-1.37-1.37c-.4-.4-.92-.59-1.43-.59-.52 0-1.04.2-1.43.59L10.3 9.45l-7.72 7.72c-.78.78-.78 2.05 0 2.83L4 21.41c.39.39.9.59 1.41.59.51 0 1.02-.2 1.41-.59l7.78-7.78 2.81-2.81c.8-.78.8-2.07 0-2.86zM5.41 20L4 18.59l7.72-7.72 1.47 1.35L5.41 20z\"/>\n",
              "  </svg>\n",
              "      </button>\n",
              "      \n",
              "  <style>\n",
              "    .colab-df-container {\n",
              "      display:flex;\n",
              "      flex-wrap:wrap;\n",
              "      gap: 12px;\n",
              "    }\n",
              "\n",
              "    .colab-df-convert {\n",
              "      background-color: #E8F0FE;\n",
              "      border: none;\n",
              "      border-radius: 50%;\n",
              "      cursor: pointer;\n",
              "      display: none;\n",
              "      fill: #1967D2;\n",
              "      height: 32px;\n",
              "      padding: 0 0 0 0;\n",
              "      width: 32px;\n",
              "    }\n",
              "\n",
              "    .colab-df-convert:hover {\n",
              "      background-color: #E2EBFA;\n",
              "      box-shadow: 0px 1px 2px rgba(60, 64, 67, 0.3), 0px 1px 3px 1px rgba(60, 64, 67, 0.15);\n",
              "      fill: #174EA6;\n",
              "    }\n",
              "\n",
              "    [theme=dark] .colab-df-convert {\n",
              "      background-color: #3B4455;\n",
              "      fill: #D2E3FC;\n",
              "    }\n",
              "\n",
              "    [theme=dark] .colab-df-convert:hover {\n",
              "      background-color: #434B5C;\n",
              "      box-shadow: 0px 1px 3px 1px rgba(0, 0, 0, 0.15);\n",
              "      filter: drop-shadow(0px 1px 2px rgba(0, 0, 0, 0.3));\n",
              "      fill: #FFFFFF;\n",
              "    }\n",
              "  </style>\n",
              "\n",
              "      <script>\n",
              "        const buttonEl =\n",
              "          document.querySelector('#df-0835a461-d9d1-495d-8bd8-6176f66a4aa5 button.colab-df-convert');\n",
              "        buttonEl.style.display =\n",
              "          google.colab.kernel.accessAllowed ? 'block' : 'none';\n",
              "\n",
              "        async function convertToInteractive(key) {\n",
              "          const element = document.querySelector('#df-0835a461-d9d1-495d-8bd8-6176f66a4aa5');\n",
              "          const dataTable =\n",
              "            await google.colab.kernel.invokeFunction('convertToInteractive',\n",
              "                                                     [key], {});\n",
              "          if (!dataTable) return;\n",
              "\n",
              "          const docLinkHtml = 'Like what you see? Visit the ' +\n",
              "            '<a target=\"_blank\" href=https://colab.research.google.com/notebooks/data_table.ipynb>data table notebook</a>'\n",
              "            + ' to learn more about interactive tables.';\n",
              "          element.innerHTML = '';\n",
              "          dataTable['output_type'] = 'display_data';\n",
              "          await google.colab.output.renderOutput(dataTable, element);\n",
              "          const docLink = document.createElement('div');\n",
              "          docLink.innerHTML = docLinkHtml;\n",
              "          element.appendChild(docLink);\n",
              "        }\n",
              "      </script>\n",
              "    </div>\n",
              "  </div>\n",
              "  "
            ]
          },
          "metadata": {},
          "execution_count": 70
        }
      ]
    },
    {
      "cell_type": "code",
      "source": [
        "# add column to identify number of symptoms\n",
        "df_test['num_symptoms'] = [0]*len(df_test)\n",
        "\n",
        "for i in range(0,len(df_test)):\n",
        "  df_test['num_symptoms'].iloc[i] = df_test['symp_one'].iloc[i] + df_test['symp_two'].iloc[i] + df_test['symp_three'].iloc[i] + df_test['symp_four'].iloc[i] + df_test['symp_five'].iloc[i] + df_test['symp_six'].iloc[i] + df_test['symp_seven'].iloc[i]"
      ],
      "metadata": {
        "colab": {
          "base_uri": "https://localhost:8080/"
        },
        "id": "HMcCO2UPasmL",
        "outputId": "cf8a7904-f390-4ea8-b02a-2a39d9816094"
      },
      "execution_count": 71,
      "outputs": [
        {
          "output_type": "stream",
          "name": "stderr",
          "text": [
            "/usr/local/lib/python3.7/dist-packages/pandas/core/indexing.py:1732: SettingWithCopyWarning: \n",
            "A value is trying to be set on a copy of a slice from a DataFrame\n",
            "\n",
            "See the caveats in the documentation: https://pandas.pydata.org/pandas-docs/stable/user_guide/indexing.html#returning-a-view-versus-a-copy\n",
            "  self._setitem_single_block(indexer, value, name)\n"
          ]
        }
      ]
    },
    {
      "cell_type": "code",
      "source": [
        "# add target column\n",
        "y_valid1 = [1 if x >= 1 else 0 for x in df_test['num_symptoms']]\n",
        "y_valid2 = [1 if x >= 2 else 0 for x in df_test['num_symptoms']]\n",
        "y_valid3 = [1 if x >= 3 else 0 for x in df_test['num_symptoms']]\n",
        "y_valid4 = [1 if x >= 4 else 0 for x in df_test['num_symptoms']]\n",
        "y_valid5 = [1 if x >= 5 else 0 for x in df_test['num_symptoms']]"
      ],
      "metadata": {
        "id": "c-RYL_AsayDa"
      },
      "execution_count": 72,
      "outputs": []
    },
    {
      "cell_type": "code",
      "source": [
        "X_valid = df_test['Content']"
      ],
      "metadata": {
        "id": "cS8nbM-_a0Uc"
      },
      "execution_count": 73,
      "outputs": []
    },
    {
      "cell_type": "code",
      "source": [
        "def final_predictor1(X_valid):\n",
        "  test_vec1=vectorizer_sym1.transform(X_valid.values).toarray()\n",
        "  pred1 = RFCLF1.predict(test_vec1)\n",
        "  test_vec2=vectorizer_sym2.transform(X_valid.values).toarray()\n",
        "  pred2 = RFCLF2.predict(test_vec2)\n",
        "  test_vec3=vectorizer_sym3.transform(X_valid.values).toarray()\n",
        "  pred3 = RFCLF3.predict(test_vec3)\n",
        "  test_vec4=vectorizer_sym4.transform(X_valid.values).toarray()\n",
        "  pred4 = RFCLF4.predict(test_vec4)\n",
        "  test_vec5=vectorizer_sym5.transform(X_valid.values).toarray()\n",
        "  pred5 = RFCLF5.predict(test_vec5)\n",
        "  test_vec6=vectorizer_sym6.transform(X_valid.values).toarray()\n",
        "  pred6 = RFCLF6.predict(test_vec6)\n",
        "  test_vec7=vectorizer_sym7.transform(X_valid.values).toarray()\n",
        "  pred7 = RFCLF7.predict(test_vec7)\n",
        "  \n",
        "  arr = np.array([pred1, pred2, pred3, pred4, pred5, pred6, pred7])\n",
        "  temp_preds = arr.sum(axis=0)\n",
        "  preds = [1 if x >= 1 else 0 for x in temp_preds]\n",
        "  return preds"
      ],
      "metadata": {
        "id": "D7Zfpxvpa10Q"
      },
      "execution_count": 74,
      "outputs": []
    },
    {
      "cell_type": "code",
      "source": [
        "def final_predictor2(X_valid):\n",
        "  test_vec1=vectorizer_sym1.transform(X_valid.values).toarray()\n",
        "  pred1 = RFCLF1.predict(test_vec1)\n",
        "  test_vec2=vectorizer_sym2.transform(X_valid.values).toarray()\n",
        "  pred2 = RFCLF2.predict(test_vec2)\n",
        "  test_vec3=vectorizer_sym3.transform(X_valid.values).toarray()\n",
        "  pred3 = RFCLF3.predict(test_vec3)\n",
        "  test_vec4=vectorizer_sym4.transform(X_valid.values).toarray()\n",
        "  pred4 = RFCLF4.predict(test_vec4)\n",
        "  test_vec5=vectorizer_sym5.transform(X_valid.values).toarray()\n",
        "  pred5 = RFCLF5.predict(test_vec5)\n",
        "  test_vec6=vectorizer_sym6.transform(X_valid.values).toarray()\n",
        "  pred6 = RFCLF6.predict(test_vec6)\n",
        "  test_vec7=vectorizer_sym7.transform(X_valid.values).toarray()\n",
        "  pred7 = RFCLF7.predict(test_vec7)\n",
        "  \n",
        "  arr = np.array([pred1, pred2, pred3, pred4, pred5, pred6, pred7])\n",
        "  temp_preds = arr.sum(axis=0)\n",
        "  preds = [1 if x >= 2 else 0 for x in temp_preds]\n",
        "  return preds"
      ],
      "metadata": {
        "id": "_ipYQz6Wbs2u"
      },
      "execution_count": 75,
      "outputs": []
    },
    {
      "cell_type": "code",
      "source": [
        "def final_predictor3(X_valid):\n",
        "  test_vec1=vectorizer_sym1.transform(X_valid.values).toarray()\n",
        "  pred1 = RFCLF1.predict(test_vec1)\n",
        "  test_vec2=vectorizer_sym2.transform(X_valid.values).toarray()\n",
        "  pred2 = RFCLF2.predict(test_vec2)\n",
        "  test_vec3=vectorizer_sym3.transform(X_valid.values).toarray()\n",
        "  pred3 = RFCLF3.predict(test_vec3)\n",
        "  test_vec4=vectorizer_sym4.transform(X_valid.values).toarray()\n",
        "  pred4 = RFCLF4.predict(test_vec4)\n",
        "  test_vec5=vectorizer_sym5.transform(X_valid.values).toarray()\n",
        "  pred5 = RFCLF5.predict(test_vec5)\n",
        "  test_vec6=vectorizer_sym6.transform(X_valid.values).toarray()\n",
        "  pred6 = RFCLF6.predict(test_vec6)\n",
        "  test_vec7=vectorizer_sym7.transform(X_valid.values).toarray()\n",
        "  pred7 = RFCLF7.predict(test_vec7)\n",
        "  \n",
        "  arr = np.array([pred1, pred2, pred3, pred4, pred5, pred6, pred7])\n",
        "  temp_preds = arr.sum(axis=0)\n",
        "  preds = [1 if x >= 3 else 0 for x in temp_preds]\n",
        "  return preds"
      ],
      "metadata": {
        "id": "66iiIzO6byzP"
      },
      "execution_count": 76,
      "outputs": []
    },
    {
      "cell_type": "code",
      "source": [
        "def final_predictor4(X_valid):\n",
        "  test_vec1=vectorizer_sym1.transform(X_valid.values).toarray()\n",
        "  pred1 = RFCLF1.predict(test_vec1)\n",
        "  test_vec2=vectorizer_sym2.transform(X_valid.values).toarray()\n",
        "  pred2 = RFCLF2.predict(test_vec2)\n",
        "  test_vec3=vectorizer_sym3.transform(X_valid.values).toarray()\n",
        "  pred3 = RFCLF3.predict(test_vec3)\n",
        "  test_vec4=vectorizer_sym4.transform(X_valid.values).toarray()\n",
        "  pred4 = RFCLF4.predict(test_vec4)\n",
        "  test_vec5=vectorizer_sym5.transform(X_valid.values).toarray()\n",
        "  pred5 = RFCLF5.predict(test_vec5)\n",
        "  test_vec6=vectorizer_sym6.transform(X_valid.values).toarray()\n",
        "  pred6 = RFCLF6.predict(test_vec6)\n",
        "  test_vec7=vectorizer_sym7.transform(X_valid.values).toarray()\n",
        "  pred7 = RFCLF7.predict(test_vec7)\n",
        "  \n",
        "  arr = np.array([pred1, pred2, pred3, pred4, pred5, pred6, pred7])\n",
        "  temp_preds = arr.sum(axis=0)\n",
        "  preds = [1 if x >= 4 else 0 for x in temp_preds]\n",
        "  return preds"
      ],
      "metadata": {
        "id": "YgpOSoo_b0pr"
      },
      "execution_count": 77,
      "outputs": []
    },
    {
      "cell_type": "code",
      "source": [
        "def final_predictor5(X_valid):\n",
        "  test_vec1=vectorizer_sym1.transform(X_valid.values).toarray()\n",
        "  pred1 = RFCLF1.predict(test_vec1)\n",
        "  test_vec2=vectorizer_sym2.transform(X_valid.values).toarray()\n",
        "  pred2 = RFCLF2.predict(test_vec2)\n",
        "  test_vec3=vectorizer_sym3.transform(X_valid.values).toarray()\n",
        "  pred3 = RFCLF3.predict(test_vec3)\n",
        "  test_vec4=vectorizer_sym4.transform(X_valid.values).toarray()\n",
        "  pred4 = RFCLF4.predict(test_vec4)\n",
        "  test_vec5=vectorizer_sym5.transform(X_valid.values).toarray()\n",
        "  pred5 = RFCLF5.predict(test_vec5)\n",
        "  test_vec6=vectorizer_sym6.transform(X_valid.values).toarray()\n",
        "  pred6 = RFCLF6.predict(test_vec6)\n",
        "  test_vec7=vectorizer_sym7.transform(X_valid.values).toarray()\n",
        "  pred7 = RFCLF7.predict(test_vec7)\n",
        "  \n",
        "  arr = np.array([pred1, pred2, pred3, pred4, pred5, pred6, pred7])\n",
        "  temp_preds = arr.sum(axis=0)\n",
        "  preds = [1 if x >= 5 else 0 for x in temp_preds]\n",
        "  return preds"
      ],
      "metadata": {
        "id": "3ebf7pe9b2OQ"
      },
      "execution_count": 78,
      "outputs": []
    },
    {
      "cell_type": "code",
      "source": [
        "def final_predictor6(X_valid):\n",
        "  test_vec1=vectorizer_sym1.transform(X_valid.values).toarray()\n",
        "  pred1 = RFCLF1.predict(test_vec1)\n",
        "  test_vec2=vectorizer_sym2.transform(X_valid.values).toarray()\n",
        "  pred2 = RFCLF2.predict(test_vec2)\n",
        "  test_vec3=vectorizer_sym3.transform(X_valid.values).toarray()\n",
        "  pred3 = RFCLF3.predict(test_vec3)\n",
        "  test_vec4=vectorizer_sym4.transform(X_valid.values).toarray()\n",
        "  pred4 = RFCLF4.predict(test_vec4)\n",
        "  test_vec5=vectorizer_sym5.transform(X_valid.values).toarray()\n",
        "  pred5 = RFCLF5.predict(test_vec5)\n",
        "  test_vec6=vectorizer_sym6.transform(X_valid.values).toarray()\n",
        "  pred6 = RFCLF6.predict(test_vec6)\n",
        "  test_vec7=vectorizer_sym7.transform(X_valid.values).toarray()\n",
        "  pred7 = RFCLF7.predict(test_vec7)\n",
        "  \n",
        "  arr = np.array([pred1, pred2, pred3, pred4, pred5, pred6, pred7])\n",
        "  temp_preds = arr.sum(axis=0)\n",
        "  preds = [1 if x >= 6 else 0 for x in temp_preds]\n",
        "  return preds"
      ],
      "metadata": {
        "id": "Wmj7GrP3b7IK"
      },
      "execution_count": 79,
      "outputs": []
    },
    {
      "cell_type": "code",
      "source": [
        "def eval(y_valid, y_preds):\n",
        "  confusionMatrix = confusion_matrix(y_valid, y_preds)\n",
        "  print(confusionMatrix)\n",
        "  print('Precision:', metrics.precision_score(y_valid, y_preds, pos_label=1))\n",
        "  print('Recall   :', metrics.recall_score(y_valid, y_preds, pos_label=1))\n",
        "  print('Accuracy :', metrics.accuracy_score(y_valid, y_preds))\n",
        "  print('F1 score :', metrics.f1_score(y_valid, y_preds, pos_label=1))\n",
        "  plot_auc(y_valid, y_preds)"
      ],
      "metadata": {
        "id": "UY-DboGDb8_N"
      },
      "execution_count": 80,
      "outputs": []
    },
    {
      "cell_type": "code",
      "source": [
        "y_preds1 = final_predictor1(X_valid)\n",
        "y_preds2 = final_predictor2(X_valid)\n",
        "y_preds3 = final_predictor3(X_valid)\n",
        "y_preds4 = final_predictor4(X_valid)\n",
        "y_preds5 = final_predictor5(X_valid)"
      ],
      "metadata": {
        "id": "1wgzPJ_vb-8i"
      },
      "execution_count": 81,
      "outputs": []
    },
    {
      "cell_type": "code",
      "source": [
        "eval(y_valid1, y_preds1)"
      ],
      "metadata": {
        "colab": {
          "base_uri": "https://localhost:8080/",
          "height": 417
        },
        "id": "nC4bEgJIcBGy",
        "outputId": "44656582-7b41-4d85-db5e-994c7093e933"
      },
      "execution_count": 82,
      "outputs": [
        {
          "output_type": "stream",
          "name": "stdout",
          "text": [
            "[[2097 1307]\n",
            " [ 250 1142]]\n",
            "Precision: 0.4663127807268273\n",
            "Recall   : 0.8204022988505747\n",
            "Accuracy : 0.6753544620517098\n",
            "F1 score : 0.594636813329862\n",
            "AUC: 0.7182211259235247\n"
          ]
        },
        {
          "output_type": "display_data",
          "data": {
            "text/plain": [
              "<Figure size 432x288 with 1 Axes>"
            ],
            "image/png": "[encoded data removed]"
          },
          "metadata": {
            "needs_background": "light"
          }
        }
      ]
    },
    {
      "cell_type": "code",
      "source": [
        "eval(y_valid2, y_preds2)"
      ],
      "metadata": {
        "colab": {
          "base_uri": "https://localhost:8080/",
          "height": 417
        },
        "id": "zs5w2n5acChw",
        "outputId": "c4f82f5e-b80c-4f5c-9de1-7ddc96a3a941"
      },
      "execution_count": 83,
      "outputs": [
        {
          "output_type": "stream",
          "name": "stdout",
          "text": [
            "[[3583  833]\n",
            " [ 143  237]]\n",
            "Precision: 0.22149532710280373\n",
            "Recall   : 0.6236842105263158\n",
            "Accuracy : 0.7964970809007507\n",
            "F1 score : 0.32689655172413795\n",
            "AUC: 0.7175259820747522\n"
          ]
        },
        {
          "output_type": "display_data",
          "data": {
            "text/plain": [
              "<Figure size 432x288 with 1 Axes>"
            ],
            "image/png": "[encoded data removed]"
          },
          "metadata": {
            "needs_background": "light"
          }
        }
      ]
    },
    {
      "cell_type": "code",
      "source": [
        "eval(y_valid3, y_preds3)"
      ],
      "metadata": {
        "colab": {
          "base_uri": "https://localhost:8080/",
          "height": 417
        },
        "id": "-KaU2K6JcEKv",
        "outputId": "29a8e402-d525-4649-bcd4-00fa40f8a4b8"
      },
      "execution_count": 84,
      "outputs": [
        {
          "output_type": "stream",
          "name": "stdout",
          "text": [
            "[[4381  321]\n",
            " [  46   48]]\n",
            "Precision: 0.13008130081300814\n",
            "Recall   : 0.5106382978723404\n",
            "Accuracy : 0.9234778982485404\n",
            "F1 score : 0.20734341252699784\n",
            "AUC: 0.7211847380471867\n"
          ]
        },
        {
          "output_type": "display_data",
          "data": {
            "text/plain": [
              "<Figure size 432x288 with 1 Axes>"
            ],
            "image/png": "[encoded data removed]"
          },
          "metadata": {
            "needs_background": "light"
          }
        }
      ]
    },
    {
      "cell_type": "code",
      "source": [
        "eval(y_valid4, y_preds4)"
      ],
      "metadata": {
        "colab": {
          "base_uri": "https://localhost:8080/",
          "height": 417
        },
        "id": "apOEB0urcK3Q",
        "outputId": "f8c61a93-65d1-4ac3-8b6c-d278545e8e48"
      },
      "execution_count": 85,
      "outputs": [
        {
          "output_type": "stream",
          "name": "stdout",
          "text": [
            "[[4664  106]\n",
            " [  13   13]]\n",
            "Precision: 0.1092436974789916\n",
            "Recall   : 0.5\n",
            "Accuracy : 0.9751876563803169\n",
            "F1 score : 0.1793103448275862\n",
            "AUC: 0.7388888888888888\n"
          ]
        },
        {
          "output_type": "display_data",
          "data": {
            "text/plain": [
              "<Figure size 432x288 with 1 Axes>"
            ],
            "image/png": "[encoded data removed]"
          },
          "metadata": {
            "needs_background": "light"
          }
        }
      ]
    },
    {
      "cell_type": "code",
      "source": [
        "eval(y_valid5, y_preds5)"
      ],
      "metadata": {
        "colab": {
          "base_uri": "https://localhost:8080/",
          "height": 417
        },
        "id": "5T9W7DQqclgF",
        "outputId": "189be56f-bbc4-4586-b182-1a5b87644a71"
      },
      "execution_count": 86,
      "outputs": [
        {
          "output_type": "stream",
          "name": "stdout",
          "text": [
            "[[4757   35]\n",
            " [   0    4]]\n",
            "Precision: 0.10256410256410256\n",
            "Recall   : 1.0\n",
            "Accuracy : 0.9927022518765638\n",
            "F1 score : 0.18604651162790695\n",
            "AUC: 0.9963480801335559\n"
          ]
        },
        {
          "output_type": "display_data",
          "data": {
            "text/plain": [
              "<Figure size 432x288 with 1 Axes>"
            ],
            "image/png": "[encoded data removed]"
          },
          "metadata": {
            "needs_background": "light"
          }
        }
      ]
    }
  ]
}